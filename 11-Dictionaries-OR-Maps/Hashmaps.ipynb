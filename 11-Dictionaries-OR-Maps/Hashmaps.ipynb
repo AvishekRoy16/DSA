{
 "cells": [
  {
   "cell_type": "markdown",
   "metadata": {},
   "source": [
    "# Hashmaps"
   ]
  },
  {
   "cell_type": "code",
   "execution_count": 5,
   "metadata": {},
   "outputs": [],
   "source": [
    "from grpc import insecure_channel\n",
    "from torch import bucketize\n",
    "\n",
    "\n",
    "class MapNode:\n",
    "    def __init__(self, key, value):\n",
    "        self.key = key\n",
    "        self.value = value\n",
    "        self.next = None\n",
    "        \n",
    "class Map:\n",
    "    def __init__(self):\n",
    "        self.bucketSize = 10\n",
    "        # Initially all the buckets will be empty, so using list comprehnsion we are making each bucket to be None\n",
    "        self.buckets = [None for i in range(self.bucketSize)]\n",
    "        self.count = 0\n",
    "        \n",
    "    def size(self):\n",
    "        return self.count\n",
    "    \n",
    "    def getBucketIndex(self, hc):\n",
    "        return (abs(hc) % (self.bucketSize))\n",
    "    \n",
    "    def getValue(self, key):\n",
    "        # hash is an inbuilt function which reutrns an integer after hashing - hence it will return a hashcode\n",
    "        hc = hash(key)\n",
    "        index = self.getBucketIndex(hc)\n",
    "        head = self.buckets[index]\n",
    "        # checking if the index is present in the LL if yes then changing with the new value\n",
    "        while head is not None:\n",
    "            if head.key == key:\n",
    "                return head.value\n",
    "            head = head.next\n",
    "        return None\n",
    "    \n",
    "    def remove(self, key):\n",
    "        hc = hash(key)\n",
    "        index = self.getBucketIndex(hc)\n",
    "        head = self.buckets[index]\n",
    "        prev = None\n",
    "        while head is not None:\n",
    "            if head.key == key:\n",
    "                # In case the first element of the LL is to be removed\n",
    "                if prev is None:\n",
    "                    self.buckets[index] = head.next\n",
    "                else:\n",
    "                    prev.next = head.next\n",
    "                self.count -= 1\n",
    "                # Returning the value of the key which is being removed\n",
    "                return head.value\n",
    "            prev = head    \n",
    "            head = head.next \n",
    "        return None\n",
    "    \n",
    "    def rehash(self):\n",
    "        temp = self.buckets\n",
    "        self.buckets = [None for i in range(2*self.bucketSize)]\n",
    "        self.bucketSize =  2* self.bucketSize\n",
    "        # As we are putting every element into the new list then we will make the count = 0 as when we are inserting it is counting\n",
    "        self.count = 0\n",
    "        for head in temp:\n",
    "            while head is not None:\n",
    "                self.insert(head.key, head.value)\n",
    "                head = head.next\n",
    "                \n",
    "    def loadFactor(self):\n",
    "        return self.count/self.bucketSize\n",
    "    \n",
    "    def insert(self, key, value):\n",
    "        # hash is an inbuilt function which reutrns an integer after hashing - hence it will return a hashcode\n",
    "        hc = hash(key)\n",
    "        index = self.getBucketIndex(hc)\n",
    "        # self.buckets[index] is the first position of LL\n",
    "        head = self.buckets[index]\n",
    "        # checking if the index is present in the LL if yes then changing with the new value\n",
    "        while head is not None:\n",
    "            if head.key == key:\n",
    "                head.value = value\n",
    "                return\n",
    "            head = head.next\n",
    "        head = self.buckets[index]\n",
    "        # If the key is not present in the LL then adding a new node to the begenning of the LL\n",
    "        newNode = MapNode(key, value)\n",
    "        newNode.next = head\n",
    "        self.buckets[index] = newNode\n",
    "        self.count += 1     \n",
    "        loadFactor = self.count/self.bucketSize\n",
    "        if loadFactor >= 0.7:\n",
    "            self.rehash()\n",
    "            \n",
    "            \n"
   ]
  },
  {
   "cell_type": "code",
   "execution_count": 2,
   "metadata": {},
   "outputs": [
    {
     "name": "stdout",
     "output_type": "stream",
     "text": [
      "1\n",
      "2\n",
      "2\n",
      "7\n",
      "9\n",
      "7\n",
      "None\n",
      "9\n"
     ]
    }
   ],
   "source": [
    "# Example before Rehashing\n",
    "m = Map()\n",
    "m.insert('Parik', 2)\n",
    "print(m.size())\n",
    "m.insert('Rohon', 7)\n",
    "print(m.size())\n",
    "m.insert('Parik', 9)\n",
    "print(m.size())\n",
    "\n",
    "print(m.getValue('Rohon'))\n",
    "print(m.getValue('Parik'))\n",
    "\n",
    "print(m.remove('Rohon'))\n",
    "print(m.getValue('Rohon'))\n",
    "print(m.getValue('Parik'))"
   ]
  },
  {
   "cell_type": "code",
   "execution_count": 7,
   "metadata": {},
   "outputs": [
    {
     "name": "stdout",
     "output_type": "stream",
     "text": [
      "0.1\n",
      "0.2\n",
      "0.3\n",
      "0.4\n",
      "0.5\n",
      "0.6\n",
      "0.35\n",
      "0.4\n",
      "0.45\n",
      "0.5\n",
      "abc0: 1\n",
      "abc1: 2\n",
      "abc2: 3\n",
      "abc3: 4\n",
      "abc4: 5\n",
      "abc5: 6\n",
      "abc6: 7\n",
      "abc7: 8\n",
      "abc8: 9\n",
      "abc9: 10\n"
     ]
    }
   ],
   "source": [
    "# Example after Rehashing\n",
    "m = Map()\n",
    "for i in range(10):\n",
    "    m.insert('abc' + str(i) , i+1)\n",
    "    print(m.loadFactor())\n",
    "    \n",
    "for i in range(10):\n",
    "    print('abc' + str(i) + \":\" ,m.getValue('abc' + str(i)))\n",
    "# As we can see the load factor is keep on getting changed"
   ]
  },
  {
   "cell_type": "code",
   "execution_count": null,
   "metadata": {},
   "outputs": [],
   "source": []
  }
 ],
 "metadata": {
  "kernelspec": {
   "display_name": "Python 3.8.5 ('base')",
   "language": "python",
   "name": "python3"
  },
  "language_info": {
   "codemirror_mode": {
    "name": "ipython",
    "version": 3
   },
   "file_extension": ".py",
   "mimetype": "text/x-python",
   "name": "python",
   "nbconvert_exporter": "python",
   "pygments_lexer": "ipython3",
   "version": "3.8.5"
  },
  "orig_nbformat": 4,
  "vscode": {
   "interpreter": {
    "hash": "ffb0cf131d14546b6573224cf3d27e75f0df2bb31d92400f13c23c2c4abb6933"
   }
  }
 },
 "nbformat": 4,
 "nbformat_minor": 2
}
