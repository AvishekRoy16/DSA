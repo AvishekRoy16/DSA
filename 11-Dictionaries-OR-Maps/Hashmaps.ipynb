{
 "cells": [
  {
   "cell_type": "markdown",
   "metadata": {},
   "source": [
    "# Hashmaps"
   ]
  },
  {
   "cell_type": "code",
   "execution_count": 1,
   "metadata": {},
   "outputs": [
    {
     "name": "stdout",
     "output_type": "stream",
     "text": [
      "1\n",
      "2\n",
      "2\n",
      "7\n",
      "9\n",
      "7\n",
      "None\n",
      "9\n"
     ]
    }
   ],
   "source": [
    "from operator import index\n",
    "\n",
    "\n",
    "class MapNode:\n",
    "    def __init__(self, key, value):\n",
    "        self.key = key\n",
    "        self.value = value\n",
    "        self.next = None\n",
    "        \n",
    "class Map:\n",
    "    def __init__(self):\n",
    "        self.bucketSize = 10\n",
    "        # Initially all the buckets will be empty, so using list comprehnsion we are making each bucket to be None\n",
    "        self.buckets = [None for i in range(self.bucketSize)]\n",
    "        self.count = 0\n",
    "        \n",
    "    def size(self):\n",
    "        return self.count\n",
    "    \n",
    "    def getBucketIndex(self, hc):\n",
    "        return (abs(hc) % (self.bucketSize))\n",
    "    \n",
    "    def getValue(self, key):\n",
    "        # hash is an inbuilt function which reutrns an integer after hashing - hence it will return a hashcode\n",
    "        hc = hash(key)\n",
    "        index = self.getBucketIndex(hc)\n",
    "        head = self.buckets[index]\n",
    "        # checking if the index is present in the LL if yes then changing with the new value\n",
    "        while head is not None:\n",
    "            if head.key == key:\n",
    "                return head.value\n",
    "            head = head.next\n",
    "        return None\n",
    "    \n",
    "    def remove(self, key):\n",
    "        hc = hash(key)\n",
    "        index = self.getBucketIndex(hc)\n",
    "        head = self.buckets[index]\n",
    "        prev = None\n",
    "        while head is not None:\n",
    "            if head.key == key:\n",
    "                # In case the first element of the LL is to be removed\n",
    "                if prev is None:\n",
    "                    self.buckets[index] = head.next\n",
    "                else:\n",
    "                    prev.next = head.next\n",
    "                self.count -= 1\n",
    "                # Returning the value of the key which is being removed\n",
    "                return head.value\n",
    "            prev = head    \n",
    "            head = head.next \n",
    "        return None\n",
    "    \n",
    "    def insert(self, key, value):\n",
    "        # hash is an inbuilt function which reutrns an integer after hashing - hence it will return a hashcode\n",
    "        hc = hash(key)\n",
    "        index = self.getBucketIndex(hc)\n",
    "        # self.buckets[index] is the first position of LL\n",
    "        head = self.buckets[index]\n",
    "        # checking if the index is present in the LL if yes then changing with the new value\n",
    "        while head is not None:\n",
    "            if head.key == key:\n",
    "                head.value = value\n",
    "                return\n",
    "            head = head.next\n",
    "        head = self.buckets[index]\n",
    "        # If the key is not present in the LL then adding a new node to the begenning of the LL\n",
    "        newNode = MapNode(key, value)\n",
    "        newNode.next = head\n",
    "        self.buckets[index] = newNode\n",
    "        self.count += 1\n",
    "        \n",
    "    \n",
    "            \n",
    "            \n",
    "m = Map()\n",
    "m.insert('Parik', 2)\n",
    "print(m.size())\n",
    "m.insert('Rohon', 7)\n",
    "print(m.size())\n",
    "m.insert('Parik', 9)\n",
    "print(m.size())\n",
    "\n",
    "print(m.getValue('Rohon'))\n",
    "print(m.getValue('Parik'))\n",
    "\n",
    "print(m.remove('Rohon'))\n",
    "print(m.getValue('Rohon'))\n",
    "print(m.getValue('Parik'))"
   ]
  },
  {
   "cell_type": "code",
   "execution_count": null,
   "metadata": {},
   "outputs": [],
   "source": []
  }
 ],
 "metadata": {
  "kernelspec": {
   "display_name": "Python 3.8.5 ('base')",
   "language": "python",
   "name": "python3"
  },
  "language_info": {
   "codemirror_mode": {
    "name": "ipython",
    "version": 3
   },
   "file_extension": ".py",
   "mimetype": "text/x-python",
   "name": "python",
   "nbconvert_exporter": "python",
   "pygments_lexer": "ipython3",
   "version": "3.8.5"
  },
  "orig_nbformat": 4,
  "vscode": {
   "interpreter": {
    "hash": "ffb0cf131d14546b6573224cf3d27e75f0df2bb31d92400f13c23c2c4abb6933"
   }
  }
 },
 "nbformat": 4,
 "nbformat_minor": 2
}
