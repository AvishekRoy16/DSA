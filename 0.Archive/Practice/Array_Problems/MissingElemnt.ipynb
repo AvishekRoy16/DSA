{
 "metadata": {
  "language_info": {
   "codemirror_mode": {
    "name": "ipython",
    "version": 3
   },
   "file_extension": ".py",
   "mimetype": "text/x-python",
   "name": "python",
   "nbconvert_exporter": "python",
   "pygments_lexer": "ipython3",
   "version": "3.8.5-final"
  },
  "orig_nbformat": 2,
  "kernelspec": {
   "name": "python3",
   "display_name": "Python 3.8.5 64-bit ('base': conda)",
   "metadata": {
    "interpreter": {
     "hash": "682cbd65bec36bb5780b3cd03d8f98f09d815121554481962b3929c5a83bba13"
    }
   }
  }
 },
 "nbformat": 4,
 "nbformat_minor": 2,
 "cells": [
  {
   "cell_type": "code",
   "execution_count": 15,
   "metadata": {},
   "outputs": [],
   "source": [
    "def finder(arr1, arr2):\n",
    "    arr1.sort()\n",
    "    arr2.sort()\n",
    "    # Check how zip work if you forget\n",
    "    for num1, num2 in zip(arr1,arr2):\n",
    "        if num1 != num2:\n",
    "            return num1\n",
    "\n",
    "    return arr1[-1]\n"
   ]
  },
  {
   "cell_type": "code",
   "execution_count": 17,
   "metadata": {},
   "outputs": [
    {
     "output_type": "execute_result",
     "data": {
      "text/plain": [
       "1"
      ]
     },
     "metadata": {},
     "execution_count": 17
    }
   ],
   "source": [
    "arr1 = [1,2,3,7,9]\n",
    "arr2 = [2,7,9,3]\n",
    "finder(arr1,arr2)"
   ]
  },
  {
   "cell_type": "code",
   "execution_count": 19,
   "metadata": {},
   "outputs": [],
   "source": [
    "# Now in intervew expected output should be linear. Therefore We will be using a hash table to stor the number of time each element appears in the second table\n",
    "# if key  is not in the dictionary it will automatically add it for you.\n",
    "import collections"
   ]
  },
  {
   "cell_type": "code",
   "execution_count": 20,
   "metadata": {},
   "outputs": [],
   "source": [
    "def finder2(arr1, arr2):\n",
    "\n",
    "    d = collections.defaultdict(int)\n",
    "\n",
    "    for num in arr2:\n",
    "        d[num] += 1\n",
    "    \n",
    "    for num in arr1:\n",
    "        if d[num] == 0:\n",
    "            return num\n",
    "        else:\n",
    "            d[num] -= 1\n",
    "\n"
   ]
  },
  {
   "cell_type": "code",
   "execution_count": 21,
   "metadata": {},
   "outputs": [
    {
     "output_type": "execute_result",
     "data": {
      "text/plain": [
       "1"
      ]
     },
     "metadata": {},
     "execution_count": 21
    }
   ],
   "source": [
    "arr1 = [1,2,3,7,9]\n",
    "arr2 = [2,7,9,3]\n",
    "finder2(arr1,arr2)"
   ]
  },
  {
   "cell_type": "code",
   "execution_count": null,
   "metadata": {},
   "outputs": [],
   "source": [
    "# We can also add the lsit of numbers from arr1 and arr2 seperatly and subtract the sum of arr2 from sum of arr1 to find the misisng number\n",
    "def finder3(arr2,arr2):\n",
    "    result = 0\n",
    "\n",
    "    for num in arr1+arr2:\n",
    "        result ^= num\n",
    "\n"
   ]
  },
  {
   "cell_type": "code",
   "execution_count": 24,
   "metadata": {},
   "outputs": [],
   "source": [
    "def finder2(arr1,ar2):\n",
    "\n",
    "    d = collections.defaultdict(int)\n",
    "\n",
    "    for num in arr2:\n",
    "        d[num] += 1\n",
    "    \n",
    "    for num in arr1:\n",
    "        if d[num] == 0:\n",
    "            return num\n",
    "        else:\n",
    "            d[num] -= 1\n",
    "\n",
    "def finder1(arr1,arr2):\n",
    "\n",
    "    arr1.sort()\n",
    "    arr2.sort()\n",
    "\n",
    "    for num1, num2 in zip(arr1, arr2):\n",
    "        if num1 != num2:\n",
    "            return num1\n",
    "    return arr1[-1]\n"
   ]
  }
 ]
}