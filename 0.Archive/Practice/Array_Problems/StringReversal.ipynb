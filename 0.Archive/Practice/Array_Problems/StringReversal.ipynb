{
 "metadata": {
  "language_info": {
   "codemirror_mode": {
    "name": "ipython",
    "version": 3
   },
   "file_extension": ".py",
   "mimetype": "text/x-python",
   "name": "python",
   "nbconvert_exporter": "python",
   "pygments_lexer": "ipython3",
   "version": "3.8.5-final"
  },
  "orig_nbformat": 2,
  "kernelspec": {
   "name": "python385jvsc74a57bd0682cbd65bec36bb5780b3cd03d8f98f09d815121554481962b3929c5a83bba13",
   "display_name": "Python 3.8.5 64-bit ('base': conda)"
  }
 },
 "nbformat": 4,
 "nbformat_minor": 2,
 "cells": [
  {
   "cell_type": "code",
   "execution_count": 1,
   "metadata": {},
   "outputs": [],
   "source": [
    "# Niche Python code\n",
    "def rev_word1(s):\n",
    "    return \" \".join(reversed(s.split()))\n",
    "\n",
    "def rev_word2(s):\n",
    "    return \" \".join(s.split()[::-1])"
   ]
  },
  {
   "cell_type": "code",
   "execution_count": 4,
   "metadata": {},
   "outputs": [
    {
     "output_type": "stream",
     "name": "stdout",
     "text": [
      "1#2#3#4#5\n"
     ]
    }
   ],
   "source": [
    "#new things learned \n",
    "a = \"Hello this\"\n",
    "print(\" \".join()"
   ]
  },
  {
   "cell_type": "code",
   "execution_count": 4,
   "metadata": {},
   "outputs": [
    {
     "output_type": "stream",
     "name": "stdout",
     "text": [
      "1-2-3-4\n"
     ]
    }
   ],
   "source": [
    "  \n",
    "list1 = ['1','2','3','4'] \n",
    "  \n",
    "s = \"-\"\n",
    "\n",
    "s = s.join(list1)\n",
    "\n",
    "print(s)"
   ]
  },
  {
   "cell_type": "code",
   "execution_count": 11,
   "metadata": {},
   "outputs": [
    {
     "output_type": "stream",
     "name": "stdout",
     "text": [
      "['n', 'o', 'h', 't', 'y', 'P']\n['n', 'o', 'h', 't', 'y', 'P']\n[8, 7, 6, 5]\n[5, 3, 4, 2, 1]\n"
     ]
    }
   ],
   "source": [
    "#Reversed Function\n",
    "# for string\n",
    "seq_string = 'Python'\n",
    "print(list(reversed(seq_string)))\n",
    "\n",
    "# for tuple\n",
    "seq_tuple = ('P', 'y', 't', 'h', 'o', 'n')\n",
    "print(list(reversed(seq_tuple)))\n",
    "\n",
    "# for range\n",
    "seq_range = range(5, 9)\n",
    "print(list(reversed(seq_range)))\n",
    "\n",
    "# for list\n",
    "seq_list = [1, 2, 4, 3, 5]\n",
    "print(list(reversed(seq_list)))"
   ]
  },
  {
   "cell_type": "code",
   "execution_count": 21,
   "metadata": {},
   "outputs": [
    {
     "output_type": "stream",
     "name": "stdout",
     "text": [
      "['Hello', 'my', 'name', 'is', 'Avishek']\n['Avishek', 'is', 'name', 'my', 'Hello']\nAvishek is name my Hello\n"
     ]
    }
   ],
   "source": [
    "#Split Fucntion\n",
    "a = \"Hello my name is Avishek\"\n",
    "b = a.split()\n",
    "print(b)\n",
    "print(list(reversed(a.split())))\n",
    "print(\" \".join(reversed(a.split())))"
   ]
  },
  {
   "cell_type": "code",
   "execution_count": 25,
   "metadata": {},
   "outputs": [
    {
     "output_type": "stream",
     "name": "stdout",
     "text": [
      "['Hello', 'my', 'name', 'is', 'Avishek']\nAvishek is name my Hello\n"
     ]
    }
   ],
   "source": [
    "a = \"Hello my name is Avishek\"\n",
    "print(a.split())\n",
    "a.split()[::-1]\n",
    "print(\" \".join(a.split()[::-1]))"
   ]
  },
  {
   "cell_type": "code",
   "execution_count": 29,
   "metadata": {},
   "outputs": [],
   "source": [
    "# Doing string reversal manually\n",
    "\n",
    "def rev_word3(s):\n",
    "\n",
    "    words = []\n",
    "    length = len(s)\n",
    "    space = [' ']\n",
    "\n",
    "    i = 0\n",
    "\n",
    "    while i < length:\n",
    "\n",
    "        if s[i] not in space:\n",
    "\n",
    "                word_stat = i\n",
    "\n",
    "                while i < lenget and s[i] not in space:\n",
    "                    i += 1\n",
    "                \n",
    "                word_stat.append(s[word_stat:i])\n",
    "        \n",
    "        i += 1\n",
    "\n",
    "    return \" \".join(reversed(words))\n",
    "\n"
   ]
  },
  {
   "cell_type": "code",
   "execution_count": null,
   "metadata": {},
   "outputs": [],
   "source": []
  }
 ]
}