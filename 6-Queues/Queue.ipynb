{
 "cells": [
  {
   "cell_type": "markdown",
   "metadata": {},
   "source": [
    "# Queues"
   ]
  },
  {
   "cell_type": "markdown",
   "metadata": {},
   "source": [
    "## Quesues using Arrays"
   ]
  },
  {
   "cell_type": "code",
   "execution_count": 3,
   "metadata": {},
   "outputs": [
    {
     "name": "stdout",
     "output_type": "stream",
     "text": [
      "1\n",
      "2\n",
      "3\n",
      "4\n",
      "The queue is empty\n"
     ]
    }
   ],
   "source": [
    "class arrQueue():\n",
    "    def __init__(self):\n",
    "        self.__arr = []\n",
    "        self.__count = 0\n",
    "        self.__front = 0\n",
    "        \n",
    "    def enqueue(self, data):\n",
    "        self.__arr.append(data)\n",
    "        self.__count += 1\n",
    "        \n",
    "    def dequeue(self):\n",
    "        if self.__count == 0:\n",
    "            print('The queue is empty')\n",
    "            return\n",
    "        \n",
    "        element = self.__arr[self.__front]\n",
    "        self.__front += 1\n",
    "        self.__count -= 1\n",
    "        return element\n",
    "    \n",
    "    def front(self):\n",
    "        if self.__count == 0:\n",
    "            print('The queue is empty')\n",
    "            return\n",
    "        \n",
    "        return self.__arr[self.__front]\n",
    "    \n",
    "    def size(self):\n",
    "        return self.__count\n",
    "    \n",
    "    def isEmpty(self):\n",
    "        return self.size() == 0\n",
    "    \n",
    "q = arrQueue()\n",
    "q.enqueue(1)\n",
    "q.enqueue(2)\n",
    "q.enqueue(3)\n",
    "q.enqueue(4)\n",
    "while(q.isEmpty()) is False:\n",
    "    print(q.front())\n",
    "    q.dequeue()\n",
    "    \n",
    "q.dequeue()\n",
    "        \n",
    "        "
   ]
  },
  {
   "cell_type": "markdown",
   "metadata": {},
   "source": [
    "## Quesues using Linked List"
   ]
  },
  {
   "cell_type": "code",
   "execution_count": null,
   "metadata": {},
   "outputs": [],
   "source": [
    "class Node():\n",
    "    def __init__(self,data):\n",
    "        self.data = data\n",
    "        self.next = None\n",
    "        \n",
    "class LLQueue():\n",
    "    def __init__(self):\n",
    "        self.__head = None\n",
    "        self.__tail = None\n",
    "        self.__count = 0\n",
    "            \n",
    "    def enqueue(self, data):\n",
    "        newNode = Node(data)\n",
    "        if self.__head is None:\n",
    "            self.__head = newNode\n",
    "            # self.__tail = newNode\n",
    "            # self.__count += 1\n",
    "        else:\n",
    "            self.tail.next = newNode\n",
    "            # self.__tail = newNode\n",
    "            # self.__count += 1\n",
    "        # Common part\n",
    "        self.__tail = newNode\n",
    "        self.__count += 1\n",
    "    \n",
    "    def dequeue(self):\n",
    "        if self.__head is None:\n",
    "            print('Queue is empty')\n",
    "            return\n",
    "        \n",
    "        element = self.__head.data\n",
    "        self.__head = self.__head.next\n",
    "        self.__count -= 1\n",
    "        return element\n",
    "    \n",
    "    def front(self):\n",
    "        if self.__head is None:\n",
    "            print('Queue is empty')\n",
    "            return\n",
    "        \n",
    "        return self.__head.data\n",
    "    \n",
    "    def size(self):\n",
    "        return self.__count\n",
    "    \n",
    "    def isEmpty(self):\n",
    "        return self.size() == 0\n",
    "            "
   ]
  }
 ],
 "metadata": {
  "interpreter": {
   "hash": "5f64f01a6cdb813bd23f3c2980301e513b65108ef9650403b1a46775be8a9390"
  },
  "kernelspec": {
   "display_name": "Python 3.8.8 64-bit ('base': conda)",
   "name": "python3"
  },
  "language_info": {
   "codemirror_mode": {
    "name": "ipython",
    "version": 3
   },
   "file_extension": ".py",
   "mimetype": "text/x-python",
   "name": "python",
   "nbconvert_exporter": "python",
   "pygments_lexer": "ipython3",
   "version": "3.8.8"
  },
  "orig_nbformat": 4
 },
 "nbformat": 4,
 "nbformat_minor": 2
}
