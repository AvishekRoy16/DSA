{
 "metadata": {
  "language_info": {
   "codemirror_mode": {
    "name": "ipython",
    "version": 3
   },
   "file_extension": ".py",
   "mimetype": "text/x-python",
   "name": "python",
   "nbconvert_exporter": "python",
   "pygments_lexer": "ipython3",
   "version": "3.8.5-final"
  },
  "orig_nbformat": 2,
  "kernelspec": {
   "name": "python3",
   "display_name": "Python 3.8.5 64-bit ('anaconda3': virtualenv)",
   "metadata": {
    "interpreter": {
     "hash": "682cbd65bec36bb5780b3cd03d8f98f09d815121554481962b3929c5a83bba13"
    }
   }
  }
 },
 "nbformat": 4,
 "nbformat_minor": 2,
 "cells": [
  {
   "cell_type": "code",
   "execution_count": 3,
   "metadata": {},
   "outputs": [
    {
     "output_type": "stream",
     "name": "stdout",
     "text": [
      "i5, 16gb, 1TB\n"
     ]
    }
   ],
   "source": [
    "class Computer():\n",
    "\n",
    "    def __init__(self):\n",
    "        \n",
    "\n",
    "    def config(self):\n",
    "        print(\"i5, 16gb, 1TB\")\n",
    "com1 = Computer()\n",
    "\n"
   ]
  },
  {
   "cell_type": "code",
   "execution_count": 4,
   "metadata": {},
   "outputs": [
    {
     "output_type": "stream",
     "name": "stdout",
     "text": [
      "i5, 16gb, 1TB\n"
     ]
    }
   ],
   "source": [
    "#To understand\n",
    "Computer.config(com1)"
   ]
  },
  {
   "cell_type": "code",
   "execution_count": 6,
   "metadata": {},
   "outputs": [
    {
     "output_type": "stream",
     "name": "stdout",
     "text": [
      "i5, 16gb, 1TB\n"
     ]
    }
   ],
   "source": [
    "#Implementation in most places\n",
    "com1.config()"
   ]
  },
  {
   "cell_type": "code",
   "execution_count": null,
   "metadata": {},
   "outputs": [],
   "source": []
  }
 ]
}