{
 "cells": [
  {
   "cell_type": "markdown",
   "metadata": {},
   "source": [
    "# Tree Level Order Print \n",
    "\n",
    "Given a binary tree of integers, print it in level order. The output will contain space between the numbers in the same level, and new line between different levels. For example, if the tree is: \n",
    "___\n",
    "![title](tree_print.png)\n",
    "___\n",
    "The output should be: \n",
    "\n",
    "    1 \n",
    "    2 3 \n",
    "    4 5 6"
   ]
  },
  {
   "cell_type": "markdown",
   "metadata": {},
   "source": [
    "## Solution\n",
    "\n",
    "Fill out your solution below:"
   ]
  },
  {
   "cell_type": "code",
   "execution_count": 1,
   "metadata": {},
   "outputs": [],
   "source": [
    "class Node:\n",
    "    def __init__(self, val=None):\n",
    "        self.left = None\n",
    "        self.right = None\n",
    "        self.val =  val "
   ]
  },
  {
   "cell_type": "code",
   "execution_count": 14,
   "metadata": {},
   "outputs": [],
   "source": [
    "from collections import deque\n",
    "def levelOrderPrint(tree):\n",
    "    if tree is None:\n",
    "        return\n",
    "\n",
    "    queue = deque()\n",
    "    queue.append(tree)\n",
    "    while len(queue) != 0:\n",
    "        temp = deque()\n",
    "        while len(queue) != 0:\n",
    "            node = queue.pop()\n",
    "            print(str(node.val) + ' ')\n",
    "            if node.left is not None:\n",
    "                temp.append(tree.left)\n",
    "            if node.right is not None:\n",
    "                temp.append(tree.right)\n",
    "            queue = temp"
   ]
  },
  {
   "cell_type": "code",
   "execution_count": 15,
   "metadata": {},
   "outputs": [
    {
     "name": "stdout",
     "output_type": "stream",
     "text": [
      "2 \n",
      "3 \n",
      "1 \n"
     ]
    }
   ],
   "source": [
    "root = Node(2)\n",
    "root.left = Node(1)\n",
    "root.right = Node(3)\n",
    "\n",
    "levelOrderPrint(root)"
   ]
  },
  {
   "cell_type": "code",
   "execution_count": null,
   "metadata": {},
   "outputs": [],
   "source": []
  }
 ],
 "metadata": {
  "kernelspec": {
   "display_name": "Python 3",
   "language": "python",
   "name": "python3"
  },
  "language_info": {
   "codemirror_mode": {
    "name": "ipython",
    "version": 3
   },
   "file_extension": ".py",
   "mimetype": "text/x-python",
   "name": "python",
   "nbconvert_exporter": "python",
   "pygments_lexer": "ipython3",
   "version": "3.6.2"
  }
 },
 "nbformat": 4,
 "nbformat_minor": 1
}
