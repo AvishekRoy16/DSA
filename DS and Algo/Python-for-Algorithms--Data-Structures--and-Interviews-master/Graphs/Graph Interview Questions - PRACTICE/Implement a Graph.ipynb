{
 "cells": [
  {
   "cell_type": "markdown",
   "metadata": {},
   "source": [
    "# Implement a Graph Class!\n",
    "\n",
    "That's it! \n",
    "\n",
    "Best of luck and reference the video lecture for any questions!\n",
    "\n",
    "You have to fully worked out implementations in the lectures, so make sure to refer to them!"
   ]
  },
  {
   "cell_type": "code",
   "execution_count": 1,
   "metadata": {},
   "outputs": [],
   "source": [
    "class Graph:\n",
    "    '''\n",
    "    In order to implement a Graph as an Adjacency List what we need to do is define the methods our Adjacency List object will have:\n",
    "    Graph() creates a new, empty graph.\n",
    "    addVertex(vert) adds an instance of Vertex to the graph.\n",
    "    addEdge(fromVert, toVert) Adds a new, directed edge to the graph that connects two vertices.\n",
    "    addEdge(fromVert, toVert, weight) Adds a new, weighted, directed edge to the graph that connects two vertices.\n",
    "    getVertex(vertKey) finds the vertex in the graph named vertKey.\n",
    "    getVertices() returns the list of all vertices in the graph.\n",
    "    in returns True for a statement of the form vertex in graph, if the given vertex is in the graph, False otherwise.\n",
    "    '''\n",
    "    def __init__(self):\n",
    "#         self.nodes = set() # all the vertexes in the graph -- could be done in the edges part\n",
    "        self.connections = {} # all the connections start_vertex:{end_vertex:weigth}\n",
    "        \n",
    "#     def add_node(self, node):\n",
    "#         self.nodes.add(node)\n",
    "    \n",
    "    def contains(self, v):\n",
    "        return v in self.connections.keys()\n",
    "        \n",
    "    def connect(self, start, end, weight=1):\n",
    "#         v = self.get_vertex(str(from_vertex)) or Vertex(str(from_vertex))\n",
    "        if start not in self.connections:\n",
    "            self.connections[start] = {end:weight} \n",
    "        else:\n",
    "            self.connections[start][end] = weight\n",
    "            \n",
    "        if end not in self.connections:\n",
    "            self.connections[end] = {}\n",
    "\n",
    "    def get_nodes(self):\n",
    "        return self.connections.keys()\n",
    "        \n",
    "#     assume there is one and only one start node (no one points to it) in the directed graph\n",
    "    def get_start_vertex(self):\n",
    "        cadidates = set(self.get_nodes())\n",
    "        for end in self.connections.values():\n",
    "            for k in end.keys():\n",
    "                if k in cadidates:\n",
    "                    cadidates.remove(k)\n",
    "#         return set(self.get_nodes()) - set(end_nodes)\n",
    "        return cadidates\n",
    "        \n",
    "    def paint(self):\n",
    "        print(self.connections)"
   ]
  },
  {
   "cell_type": "code",
   "execution_count": 2,
   "metadata": {},
   "outputs": [],
   "source": [
    "g = Graph()\n",
    "# v1 = Node(1)\n",
    "g.connect(1, 2)\n",
    "\n",
    "g.connect(1,3)\n",
    "g.connect(1,4)\n",
    "g.connect(2,4)\n",
    "g.connect(2,5)\n",
    "g.connect(3,5)\n",
    "g.connect(5,4)"
   ]
  },
  {
   "cell_type": "code",
   "execution_count": 3,
   "metadata": {},
   "outputs": [
    {
     "name": "stdout",
     "output_type": "stream",
     "text": [
      "{1: {2: 1, 3: 1, 4: 1}, 2: {4: 1, 5: 1}, 3: {5: 1}, 4: {}, 5: {4: 1}}\n"
     ]
    }
   ],
   "source": [
    "g.paint()"
   ]
  },
  {
   "cell_type": "code",
   "execution_count": 4,
   "metadata": {},
   "outputs": [
    {
     "data": {
      "text/plain": [
       "dict_keys([1, 2, 3, 4, 5])"
      ]
     },
     "execution_count": 4,
     "metadata": {},
     "output_type": "execute_result"
    }
   ],
   "source": [
    "g.get_nodes()"
   ]
  },
  {
   "cell_type": "code",
   "execution_count": 6,
   "metadata": {},
   "outputs": [
    {
     "data": {
      "text/plain": [
       "{1}"
      ]
     },
     "execution_count": 6,
     "metadata": {},
     "output_type": "execute_result"
    }
   ],
   "source": [
    "g.get_start_vertex()"
   ]
  },
  {
   "cell_type": "code",
   "execution_count": 8,
   "metadata": {},
   "outputs": [
    {
     "data": {
      "text/plain": [
       "set"
      ]
     },
     "execution_count": 8,
     "metadata": {},
     "output_type": "execute_result"
    }
   ],
   "source": [
    "type(g.get_start_vertex())"
   ]
  },
  {
   "cell_type": "code",
   "execution_count": 10,
   "metadata": {},
   "outputs": [],
   "source": [
    "s = set([1,2,3])"
   ]
  },
  {
   "cell_type": "code",
   "execution_count": 11,
   "metadata": {},
   "outputs": [
    {
     "data": {
      "text/plain": [
       "{1, 2, 3}"
      ]
     },
     "execution_count": 11,
     "metadata": {},
     "output_type": "execute_result"
    }
   ],
   "source": [
    "s"
   ]
  },
  {
   "cell_type": "markdown",
   "metadata": {},
   "source": [
    "# Good Luck!"
   ]
  }
 ],
 "metadata": {
  "kernelspec": {
   "display_name": "Python 3",
   "language": "python",
   "name": "python3"
  },
  "language_info": {
   "codemirror_mode": {
    "name": "ipython",
    "version": 3
   },
   "file_extension": ".py",
   "mimetype": "text/x-python",
   "name": "python",
   "nbconvert_exporter": "python",
   "pygments_lexer": "ipython3",
   "version": "3.6.3"
  }
 },
 "nbformat": 4,
 "nbformat_minor": 1
}
