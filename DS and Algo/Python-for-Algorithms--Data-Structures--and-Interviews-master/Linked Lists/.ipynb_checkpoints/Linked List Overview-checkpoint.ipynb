{
 "cells": [
  {
   "cell_type": "markdown",
   "metadata": {},
   "source": [
    "# Linked Lists\n",
    "\n",
    "In this lecture we will get a brief overview of what we will learn in the Linked List section of this course.\n",
    "\n",
    "We will cover the following topics:\n",
    "\n",
    "* Singly Linked Lists\n",
    "* Implementing a Singly Linked List\n",
    "* Doubly Linked Lists\n",
    "* Implementing a Doubly Linked list\n",
    "* Linked Lists Interview Problems"
   ]
  }
 ],
 "metadata": {
  "kernelspec": {
   "display_name": "Python 2",
   "language": "python",
   "name": "python2"
  },
  "language_info": {
   "codemirror_mode": {
    "name": "ipython",
    "version": 2
   },
   "file_extension": ".py",
   "mimetype": "text/x-python",
   "name": "python",
   "nbconvert_exporter": "python",
   "pygments_lexer": "ipython2",
   "version": "2.7.10"
  }
 },
 "nbformat": 4,
 "nbformat_minor": 0
}
