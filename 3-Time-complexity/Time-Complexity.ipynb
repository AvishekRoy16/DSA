{
 "cells": [
  {
   "cell_type": "markdown",
   "source": [
    "## Power of a function"
   ],
   "metadata": {}
  },
  {
   "cell_type": "code",
   "execution_count": 1,
   "source": [
    "# Iterative solution\r\n",
    "def power(x,n):\r\n",
    "    i = 0\r\n",
    "    ans = 1\r\n",
    "    while i < n:\r\n",
    "        ans = ans * x\r\n",
    "        i += 1\r\n",
    "    return ans\r\n",
    "\r\n",
    "power(2,3)\r\n",
    "\r\n",
    "# Time complexity of the solution is O(n) and the space complexity is O(1)"
   ],
   "outputs": [
    {
     "output_type": "execute_result",
     "data": {
      "text/plain": [
       "8"
      ]
     },
     "metadata": {},
     "execution_count": 1
    }
   ],
   "metadata": {}
  },
  {
   "cell_type": "code",
   "execution_count": 2,
   "source": [
    "# Recursive Solution - 1\r\n",
    "def pow(x,n):\r\n",
    "    if n == 0:\r\n",
    "        return 1\r\n",
    "    return x * pow(x, n-1)\r\n",
    "\r\n",
    "power(2,3)\r\n",
    "# Time Compleity of the solution is O(n) and the space complexity is O(n)"
   ],
   "outputs": [
    {
     "output_type": "execute_result",
     "data": {
      "text/plain": [
       "8"
      ]
     },
     "metadata": {},
     "execution_count": 2
    }
   ],
   "metadata": {}
  },
  {
   "cell_type": "code",
   "execution_count": 3,
   "source": [
    "# Recursive Solution - 2\r\n",
    "def pow1(x,n):\r\n",
    "    if n == 0:\r\n",
    "        return 1\r\n",
    "    small_power = pow1(x,n//2)\r\n",
    "    if n %2 == 0:\r\n",
    "        return small_power * small_power\r\n",
    "    else:\r\n",
    "        return x * small_power * small_power\r\n",
    "\r\n",
    "pow1(2,3)\r\n",
    "# Time complexity of the solution is O(logn) and the space complexity is o(logn)"
   ],
   "outputs": [
    {
     "output_type": "execute_result",
     "data": {
      "text/plain": [
       "8"
      ]
     },
     "metadata": {},
     "execution_count": 3
    }
   ],
   "metadata": {}
  },
  {
   "cell_type": "markdown",
   "source": [
    "## Array Intersection"
   ],
   "metadata": {}
  },
  {
   "cell_type": "code",
   "execution_count": null,
   "source": [],
   "outputs": [],
   "metadata": {}
  }
 ],
 "metadata": {
  "orig_nbformat": 4,
  "language_info": {
   "name": "python",
   "version": "3.8.8",
   "mimetype": "text/x-python",
   "codemirror_mode": {
    "name": "ipython",
    "version": 3
   },
   "pygments_lexer": "ipython3",
   "nbconvert_exporter": "python",
   "file_extension": ".py"
  },
  "kernelspec": {
   "name": "python3",
   "display_name": "Python 3.8.8 64-bit"
  },
  "interpreter": {
   "hash": "5f64f01a6cdb813bd23f3c2980301e513b65108ef9650403b1a46775be8a9390"
  }
 },
 "nbformat": 4,
 "nbformat_minor": 2
}