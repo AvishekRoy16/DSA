{
 "cells": [
  {
   "cell_type": "markdown",
   "source": [
    "# Rcecursion"
   ],
   "metadata": {}
  },
  {
   "cell_type": "markdown",
   "source": [
    "## Introduction to Recursion"
   ],
   "metadata": {}
  },
  {
   "cell_type": "markdown",
   "source": [
    "### Factorial"
   ],
   "metadata": {}
  },
  {
   "cell_type": "code",
   "execution_count": 2,
   "source": [
    "def fact(n):\r\n",
    "    # BASE CASE\r\n",
    "    if n == 0:\r\n",
    "        return 1\r\n",
    "    # Induction Hypothesis\r\n",
    "    smallOutput = fact(n-1)\r\n",
    "    # Formula\r\n",
    "    return n * smallOutput"
   ],
   "outputs": [
    {
     "output_type": "execute_result",
     "data": {
      "text/plain": [
       "'\\nThe above function and this fuction do exactly the same thing\\ndef fact(n):\\n    # BASE CASE\\n    if n == 0:\\n        return 1\\n    # Formula to calculate\\n    return n * fact(n-1)\\n'"
      ]
     },
     "metadata": {},
     "execution_count": 2
    }
   ],
   "metadata": {}
  },
  {
   "cell_type": "code",
   "execution_count": null,
   "source": [
    "'''\r\n",
    "The above function and this fuction do exactly the same thing\r\n",
    "def fact(n):\r\n",
    "    # BASE CASE\r\n",
    "    if n == 0:\r\n",
    "        return 1\r\n",
    "    # Formula to calculate\r\n",
    "    return n * fact(n-1)\r\n",
    "'''"
   ],
   "outputs": [],
   "metadata": {}
  },
  {
   "cell_type": "code",
   "execution_count": 3,
   "source": [
    "# Gave input as 5\r\n",
    "n = int(input())\r\n",
    "fact(n)"
   ],
   "outputs": [
    {
     "output_type": "execute_result",
     "data": {
      "text/plain": [
       "120"
      ]
     },
     "metadata": {},
     "execution_count": 3
    }
   ],
   "metadata": {}
  },
  {
   "cell_type": "markdown",
   "source": [
    "### Findidng the sum of natural numbers"
   ],
   "metadata": {}
  },
  {
   "cell_type": "code",
   "execution_count": 4,
   "source": [
    "def sum_n(n):\r\n",
    "    if n == 0:\r\n",
    "        return 0\r\n",
    "    smallOutput = sum_n(n-1)\r\n",
    "    output = smallOutput + n\r\n",
    "    return output\r\n",
    "        "
   ],
   "outputs": [],
   "metadata": {}
  },
  {
   "cell_type": "code",
   "execution_count": 5,
   "source": [
    "# Gave input as 10\r\n",
    "n = int(input())\r\n",
    "sum_n(n)"
   ],
   "outputs": [
    {
     "output_type": "execute_result",
     "data": {
      "text/plain": [
       "55"
      ]
     },
     "metadata": {},
     "execution_count": 5
    }
   ],
   "metadata": {}
  },
  {
   "cell_type": "markdown",
   "source": [
    "### Question 1 - Power Of A Number"
   ],
   "metadata": {}
  },
  {
   "cell_type": "markdown",
   "source": [
    "<pre>\r\n",
    "Write a program to find x to the power n (i.e. x^n). Take x and n from the user. You need to print the answer.\r\n",
    "Note : For this question, you can assume that 0 raised to the power of 0 is 1\r\n",
    "\r\n",
    "\r\n",
    "Input format :\r\n",
    "Two integers x and n (separated by space)\r\n",
    "Output Format :\r\n",
    "x^n (i.e. x raise to the power n)\r\n",
    "Constraints:\r\n",
    "0 <= x <= 8 \r\n",
    "0 <= n <= 9\r\n",
    "Sample Input 1 :\r\n",
    " 3 4\r\n",
    "Sample Output 1 :\r\n",
    "81\r\n",
    "Sample Input 2 :\r\n",
    " 2 5\r\n",
    "Sample Output 2 :\r\n",
    "32\r\n",
    "</pre>"
   ],
   "metadata": {}
  },
  {
   "cell_type": "code",
   "execution_count": 2,
   "source": [
    "# taking line seperated input for 2 varibles\r\n",
    "str = input().split()\r\n",
    "x, n = int(str[0]), int(str[1])\r\n",
    "def power(a, b):\r\n",
    "    if b==0:\r\n",
    "        return 1\r\n",
    "    return a * power(a,b-1)\r\n",
    "\r\n",
    "power(3,4)"
   ],
   "outputs": [
    {
     "output_type": "execute_result",
     "data": {
      "text/plain": [
       "81"
      ]
     },
     "metadata": {},
     "execution_count": 2
    }
   ],
   "metadata": {}
  },
  {
   "cell_type": "markdown",
   "source": [
    "### Print first n natural numbers"
   ],
   "metadata": {}
  },
  {
   "cell_type": "markdown",
   "source": [
    "<pre>\r\n",
    "print it in both formats:\r\n",
    "    1. 1....n\r\n",
    "    2. n....1\r\n",
    "</pre>"
   ],
   "metadata": {}
  },
  {
   "cell_type": "code",
   "execution_count": 7,
   "source": [
    "def printNaturalNumbers(n):\r\n",
    "    if n ==0:\r\n",
    "        return\r\n",
    "    printNaturalNumbers(n-1)\r\n",
    "    print(n)\r\n",
    "    return\r\n",
    "\r\n",
    "printNaturalNumbers(11)"
   ],
   "outputs": [
    {
     "output_type": "stream",
     "name": "stdout",
     "text": [
      "1\n",
      "2\n",
      "3\n",
      "4\n",
      "5\n",
      "6\n",
      "7\n",
      "8\n",
      "9\n",
      "10\n",
      "11\n"
     ]
    }
   ],
   "metadata": {}
  },
  {
   "cell_type": "code",
   "execution_count": 8,
   "source": [
    "def printNaturalNumbersRev(n):\r\n",
    "    if n ==0:\r\n",
    "        return\r\n",
    "    # we have preceded the print statement as it now is bascially printing n then number of times the recursion happens\r\n",
    "    print(n)\r\n",
    "    printNaturalNumbersRev(n-1)\r\n",
    "\r\n",
    "printNaturalNumbersRev(11)"
   ],
   "outputs": [
    {
     "output_type": "stream",
     "name": "stdout",
     "text": [
      "11\n",
      "10\n",
      "9\n",
      "8\n",
      "7\n",
      "6\n",
      "5\n",
      "4\n",
      "3\n",
      "2\n",
      "1\n"
     ]
    }
   ],
   "metadata": {}
  },
  {
   "cell_type": "markdown",
   "source": [
    "### Fibonacci Numbers"
   ],
   "metadata": {}
  },
  {
   "cell_type": "code",
   "execution_count": 9,
   "source": [
    "def fib(n):\r\n",
    "    # Base Case\r\n",
    "    if n ==1 or n==2:\r\n",
    "        return 1\r\n",
    "    # Induction Hypothesis\r\n",
    "    fib_n_1 = fib(n-1)\r\n",
    "    fib_n_2 = fib(n-2)\r\n",
    "    output = fib_n_1 + fib_n_2\r\n",
    "    return output\r\n",
    "\r\n",
    "fib(7)"
   ],
   "outputs": [
    {
     "output_type": "execute_result",
     "data": {
      "text/plain": [
       "13"
      ]
     },
     "metadata": {},
     "execution_count": 9
    }
   ],
   "metadata": {}
  },
  {
   "cell_type": "code",
   "execution_count": 10,
   "source": [
    "# guess the output - TODO\r\n",
    "def fun(n):\r\n",
    "    if(n == 4):\r\n",
    "        return n\r\n",
    "    else:\r\n",
    "        return 2*fun(n+1)\r\n",
    "print(fun(2))"
   ],
   "outputs": [
    {
     "output_type": "stream",
     "name": "stdout",
     "text": [
      "16\n"
     ]
    }
   ],
   "metadata": {}
  },
  {
   "cell_type": "markdown",
   "source": [
    "### Increasing the recursion depth"
   ],
   "metadata": {}
  },
  {
   "cell_type": "code",
   "execution_count": 11,
   "source": [
    "import sys\r\n",
    "sys.setrecursionlimit(4000)\r\n",
    "def fact(n):\r\n",
    "    # BASE CASE\r\n",
    "    if n == 0:\r\n",
    "        return 1\r\n",
    "    # Induction Hypothesis\r\n",
    "    smallOutput = fact(n-1)\r\n",
    "    # Formula\r\n",
    "    return n * smallOutput\r\n",
    "print(fact(3000))"
   ],
   "outputs": [
    {
     "output_type": "stream",
     "name": "stdout",
     "text": [
      "41493596034378540855568670930866121709511191949318099176894676576975585651235319500860007652178003420075184635383617118495750871114045907794553402161068339611621037904199177522062663390179682805164719697495968842457728766097103003726111095340241127118833157738815328438929737613021106312930374401485378725446079610290429491049793888120762511625132917004641668962117590203575175488980653577868915285093782469994674699190832093511068363824287063522268544339213775150488588104036818809099292912497141900508938994404715351473154531587441509960174267875087460367974117072368747277143988920683691618503608198459718093784453523958505377611086511162363145920886108557450874513945305436213711898150847192094426374203275029996333784944014775671414680824207499914714878359669720638954670589960178569480263388767112871068004950827400717124819476386401369193544354120312786601434792549959143530120653103406625503231020738351502195103148673612338739395096551462159349015789949944072311004426924838140141455487872738045856023561583204317945953055830693351246890721246151468485308724031267967089113548982733475375756899365176396424781733462510879015743437398920492267098317033932107176343983352444576040476565400414414699479984354554597799386702839428513413188913165695310848513525094006147774047007331406541794428004436691903685469270857271701648011512057452448607968773784803660653009109815639091294110633715621540903800135058671624262333902434166628716521228590274568833504897926869369792878376894841436573866436955075473964882256222183380014600761196859217603234808467455216330411738004331144225926243690558782914907973885758784585739828695390302383837265882427654306437517757897215045071361801730051628424476294227485755627828763498767195281368913583918824499284741591683130334032199946752082914885764345863832313545205075955912062067273296951386122994658607527317884452449865348164169238844889061495850934373442889814884427321817131272533891534506581143823381205875379808605080889761753882896252933633750454549168600267229591225528854584482686655324313011353754812409561237686078007700707939541848907149467377854407528307872988103912945121929864793703451257436445581459757140822705986325165352906584571123585270211933452981105568398809884094980346185078025273038736784042169427237980464304250045030806637032760016341921442805708802430850567892108646977455139539119838636167190300278146380136932482332771595180596193069504237836082620570887209297929797429404576877338319877444685544294800321741056689423710545028870419611915072739000031642014474213323293871618029555614004602867400422885389854650328028428515122296028795741801621823236098320971441047012533067314896153236788734984553949604397050352347766211395914519270422122231426998692087463520980686224354813376194395131942868113486531562228173214976481705381846155326596187530296478601160872263640443922257601926494610916885151013143945574398303192557154162151442469122370519149097861849436150963109933639594561796593396851958605338631176324147066842257192394742531726479559749993283247279807896470753054014194090200609712674753186365525403212757757853930697530056595208207457499471898144453772248207888443335118545601568853708182892895218300139654376947286418776665762815389737340159410543681435437346134244692067070082782423645557450882556670157242752810317141640631410681384330924027281318960884813040665226169552825637183862464944295688859393846726723694199475571320546018263425731029115353532728808182773021596787088437293412117084511580629967697266601663635276959969021502122104954259567278593185516268447100374434620422003535391203738393095420695021486207390653190910821344334251497896284236198571674773848126097443055036250866354720730971298084697196537722779893160200560725058007512407494448163392214398118492748281978655178478547749198714138485042290383954090570842038137277135667703565041081780520695032136233521692740531015340921761834078817735674646749071616600653230438902639786065509005309872435445689315601329942407112295015453771521051942445512795364971214872222193729289159833001742397977592530501318837883494884232222507318816399438935627817102875432588794558857742780390717166381257903798149148445526885871629931014510733215554773264576035916184298708323237568837917135073006026738292294687081030751946020376438138677107333779312582257356435534577162804030480925785909747233413932904072239860005448269296110393640127539539899397420021925268928622564959279136369546983247314494094297494213208716963662812963846191378114609210701033012119934264941666449130310898493535366401831282683112506578386425906537197010907276429330534751297336716929415047870949241778121534979499449732358445130210029720359993576507730563696950539990891252004810120090569633144368179194247963563389102486250773367249399801723451627048850149438343735826440053481474957421328873648479589553843836378275601433377798816126854462406494134416119108952653326761627660221130879211665924379496534838030236064294981985541014311566601739518539426008673198564586684635442730180022292607589767192198367529528365158715521887698317999005853121518691037776676883654291247419826099434535671529412823837612115555686210454583810355154404953718470726363218532775486501811002621331228429860926112159573066023932077476742800909462674322138805290643067711276964013735906251051050623568241317651533030775358975134565147424167401517470720839101869989993279364910892687924739705814152855543965954222603919059265825637344676406359525838966981511983959886603683753042017990328185945569412550519066302854869533377682984600031808093822130038102214387057461181304251961916405970456035183121708151658647356556540532928411748628957082856792300053525846377061280591452035546389932127875906349627837975871352588618213252263577038396202737385324908353680497990085701522483303439525197344653342994652565236096742834550523739733902374261808871799283722285366293439240895762913154442106573609205481842139365893867715542842477275100166734357743093638948444564764377184073874379471007867151070449554657626281566137550730763768080600031844296233977808233311359787577136983012817571625671683287281511937336685789437109097748581222868126824122317272681184975207863453107495331708260153159440253645365524453587952034745213429248916644504804355352281977721981971869054884176896398782704782066126921472548618247859626434279190274503452994769367997217285165465591799471789067885687278574470084289723778234763080740919512966238346427839653865017324665850192144091694630371265581197700774682562035198318782913591013997817303635173764706714383992810291224460848320518983248348855131025539721583184931653670732273172995431750775475634748127320956655431851879586978172491721700865768098908327830838240437737974455342525688712898855513180967012497859454290609627370590659970784172738420721605576789060565167694565490120388165775861939230924362983389549857279874523398090499858467484850399509109398834210424693113617875978611803096108774362764990414655167545507613665725914993376114340243762910290384135888531312591132544849225896007184851169390193985434649415483782338302531368775990005443722332901462568184095998830522521585328599833990336595418932696680163265899358234663247080324020429791357425755498549372896192091650794671997121439832581553945835125648010889886887056882711222628734035772418424803231173027338442220604015609242079569493204943809402465562530303328824165302038006041288444384884189129393985971765670211501611340121169355535864984802941563238279447576315042685734269863116562800932164578165410411899078396210758605145091526528422433647230880469088426412525126584729134059195171754291152622002229756986927959124620964363057052133099216422258437651889193630329851223282950806126200573565554213183555838289318138795940962303792777230344423432341561603558590502324475274502630869831414125396371754413611897269158650716722308083435295578401087236027347001118786146233185439431057058483770474806035004556885020602730222256397630738939985024978155182679916994164145540329909813190506654358156657691529068908186204138444091456355291242064901717436430473455191375922914953282988151808740076733486997695322871450791584448703980405737673555777873593937891577147956023340708456392314170118392555234618119775915673385955919265270624063734277760215846511035368057963320714896942663358570375305829676608224208465464558556667889222627619990263961792637457851652540918756608543859661221944248720424960000000000000000000000000000000000000000000000000000000000000000000000000000000000000000000000000000000000000000000000000000000000000000000000000000000000000000000000000000000000000000000000000000000000000000000000000000000000000000000000000000000000000000000000000000000000000000000000000000000000000000000000000000000000000000000000000000000000000000000000000000000000000000000000000000000000000000000000000000000000000000000000000000000000000000000000000000000000000000000000000000000000000000000000000000000000000000000000000000000000000000000000000000000000000000000000000000000000000000000000000000000000000000000000000000000000000000000000000000000000000000000000000000000000000000000000000000000000000000000000000000000000000000000000000000\n"
     ]
    }
   ],
   "metadata": {}
  },
  {
   "cell_type": "markdown",
   "source": [
    "### Check if List is sorted"
   ],
   "metadata": {}
  },
  {
   "cell_type": "code",
   "execution_count": 16,
   "source": [
    "def isSorted(a):\r\n",
    "    l = len(a)\r\n",
    "    if l == 0 or l == 1:\r\n",
    "        return True\r\n",
    "    \r\n",
    "    if a[0]>a[1]:\r\n",
    "        return False\r\n",
    "    \r\n",
    "    # the space this line is taking is very large as it is making may copies of the array\r\n",
    "    SmallerList = a[1:]\r\n",
    "    isSmallerListSorted = isSorted(SmallerList)\r\n",
    "    return isSmallerListSorted\r\n",
    "    # The above one line does the same job as the below 4 lines\r\n",
    "    # if isSmallerListSorted:\r\n",
    "    #     return True\r\n",
    "    # else:\r\n",
    "    #     return False\r\n",
    "\r\n",
    "a = [1,2,3,4,5,6,7,8]\r\n",
    "isSorted(a)"
   ],
   "outputs": [
    {
     "output_type": "execute_result",
     "data": {
      "text/plain": [
       "True"
      ]
     },
     "metadata": {},
     "execution_count": 16
    }
   ],
   "metadata": {}
  },
  {
   "cell_type": "code",
   "execution_count": 8,
   "source": [
    "def isSorted2(arr, si):\r\n",
    "    l = len(arr)\r\n",
    "    if si == l-1 or l == 0:\r\n",
    "        return True\r\n",
    "    if arr[si] > arr[si+1]:\r\n",
    "        return False\r\n",
    "    isSmallerListSorted = isSorted2(arr, si +1)\r\n",
    "    return isSmallerListSorted\r\n",
    "\r\n",
    "a = [1,2,3,4,5,6,7,8]\r\n",
    "isSorted2(a, 0)   "
   ],
   "outputs": [
    {
     "output_type": "execute_result",
     "data": {
      "text/plain": [
       "True"
      ]
     },
     "metadata": {},
     "execution_count": 8
    }
   ],
   "metadata": {}
  },
  {
   "cell_type": "markdown",
   "source": [
    "### Question 1 - Sum Of Array"
   ],
   "metadata": {}
  },
  {
   "cell_type": "markdown",
   "source": [
    "<pre>\r\n",
    "Given an array of length N, you need to find and return the sum of all elements of the array.\r\n",
    "Do this recursively.\r\n",
    "Input Format :\r\n",
    "Line 1 : An Integer N i.e. size of array\r\n",
    "Line 2 : N integers which are elements of the array, separated by spaces\r\n",
    "Output Format :\r\n",
    "Sum\r\n",
    "Constraints :\r\n",
    "1 <= N <= 10^3\r\n",
    "Sample Input 1 :\r\n",
    "3\r\n",
    "9 8 9\r\n",
    "Sample Output 1 :\r\n",
    "26\r\n",
    "Sample Input 2 :\r\n",
    "3\r\n",
    "4 2 1\r\n",
    "Sample Output 2 :\r\n",
    "7    \r\n",
    "</pre>"
   ],
   "metadata": {}
  },
  {
   "cell_type": "code",
   "execution_count": 1,
   "source": [
    "def sumArray(arr): \r\n",
    "  if len(arr) == 0:\r\n",
    "    return 0\r\n",
    "  else:\r\n",
    "    return arr[0] + sumArray(arr[1:])\r\n",
    "\r\n",
    "sumArray([1,2,3,7,8,0])"
   ],
   "outputs": [
    {
     "output_type": "execute_result",
     "data": {
      "text/plain": [
       "21"
      ]
     },
     "metadata": {},
     "execution_count": 1
    }
   ],
   "metadata": {}
  },
  {
   "cell_type": "markdown",
   "source": [
    "### Question 2 - Check Number in Array"
   ],
   "metadata": {}
  },
  {
   "cell_type": "markdown",
   "source": [
    "<pre>\r\n",
    "Given an array of length N and an integer x, you need to find if x is present in the array or not. Return true or false.\r\n",
    "Do this recursively.\r\n",
    "Input Format :\r\n",
    "Line 1 : An Integer N i.e. size of array\r\n",
    "Line 2 : N integers which are elements of the array, separated by spaces\r\n",
    "Line 3 : Integer x\r\n",
    "Output Format :\r\n",
    "'true' or 'false'\r\n",
    "Constraints :\r\n",
    "1 <= N <= 10^3\r\n",
    "Sample Input 1 :\r\n",
    "3\r\n",
    "9 8 10\r\n",
    "8\r\n",
    "Sample Output 1 :\r\n",
    "true\r\n",
    "Sample Input 2 :\r\n",
    "3\r\n",
    "9 8 10\r\n",
    "2\r\n",
    "Sample Output 2 :\r\n",
    "false\r\n",
    "</pre>"
   ],
   "metadata": {}
  },
  {
   "cell_type": "code",
   "execution_count": null,
   "source": [],
   "outputs": [],
   "metadata": {}
  },
  {
   "cell_type": "markdown",
   "source": [
    "### Question 3 - Frist Index of Number"
   ],
   "metadata": {}
  },
  {
   "cell_type": "markdown",
   "source": [
    "<pre>\r\n",
    "Given an array of length N and an integer x, you need to find and return the first index of integer x present in the array. Return -1 if it is not present in the array.\r\n",
    "First index means, the index of first occurrence of x in the input array.\r\n",
    "Do this recursively. Indexing in the array starts from 0.\r\n",
    "Input Format :\r\n",
    "Line 1 : An Integer N i.e. size of array\r\n",
    "Line 2 : N integers which are elements of the array, separated by spaces\r\n",
    "Line 3 : Integer x\r\n",
    "Output Format :\r\n",
    "first index or -1\r\n",
    "Constraints :\r\n",
    "1 <= N <= 10^3\r\n",
    "Sample Input :\r\n",
    "4\r\n",
    "9 8 10 8\r\n",
    "8\r\n",
    "Sample Output :\r\n",
    "1\r\n",
    "</pre>"
   ],
   "metadata": {}
  },
  {
   "cell_type": "code",
   "execution_count": 2,
   "source": [
    "# Using the copy of a arryas - Less optimised way\r\n",
    "def firstIndex(a,x):\r\n",
    "    l = len(a)\r\n",
    "    if len(a) == 0:\r\n",
    "        return -1\r\n",
    "    \r\n",
    "    if a[0] == x:\r\n",
    "        return 0\r\n",
    "    \r\n",
    "    smallerList = a[1:]\r\n",
    "    smallerListOutput = firstIndex(smallerList, x)\r\n",
    "    if smallerListOutput == -1:\r\n",
    "        return -1\r\n",
    "    else:\r\n",
    "        return smallerListOutput + 1 # +1 because we have found the smallerListOutput wrt to the smaller list and the actual index will be +1 that.\r\n",
    "\r\n",
    "a = [1,2,4,5,6,7,8,9,7]\r\n",
    "firstIndex(a, 7)"
   ],
   "outputs": [
    {
     "output_type": "execute_result",
     "data": {
      "text/plain": [
       "5"
      ]
     },
     "metadata": {},
     "execution_count": 2
    }
   ],
   "metadata": {}
  },
  {
   "cell_type": "code",
   "execution_count": 6,
   "source": [
    "def firstIndex2(a,x,si):\r\n",
    "    l = len(a)\r\n",
    "    # Base Case\r\n",
    "    si == l\r\n",
    "    if si == l:\r\n",
    "        return -1\r\n",
    "    if a[si] == x:\r\n",
    "        return si\r\n",
    "    smallerListOutput = firstIndex2(a,x,si+1)\r\n",
    "    return smallerListOutput\r\n",
    "\r\n",
    "a = [1,2,4,5,6,7,8,9,7]\r\n",
    "firstIndex2(a, 7,0)"
   ],
   "outputs": [
    {
     "output_type": "execute_result",
     "data": {
      "text/plain": [
       "5"
      ]
     },
     "metadata": {},
     "execution_count": 6
    }
   ],
   "metadata": {}
  },
  {
   "cell_type": "markdown",
   "source": [
    "Question 4 - Last Index Of Number Question"
   ],
   "metadata": {}
  },
  {
   "cell_type": "markdown",
   "source": [
    "<pre>\r\n",
    "Given an array of length N and an integer x, you need to find and return the last index of integer x present in the array. Return -1 if it is not present in the array.\r\n",
    "Last index means - if x is present multiple times in the array, return the index at which x comes last in the array.\r\n",
    "You should start traversing your array from 0, not from (N - 1).\r\n",
    "Do this recursively. Indexing in the array starts from 0.\r\n",
    "Input Format :\r\n",
    "Line 1 : An Integer N i.e. size of array\r\n",
    "Line 2 : N integers which are elements of the array, separated by spaces\r\n",
    "Line 3 : Integer x\r\n",
    "Output Format :\r\n",
    "last index or -1\r\n",
    "Constraints :\r\n",
    "1 <= N <= 10^3\r\n",
    "Sample Input :\r\n",
    "4\r\n",
    "9 8 10 8\r\n",
    "8\r\n",
    "Sample Output :\r\n",
    "3\r\n",
    "</pre>"
   ],
   "metadata": {}
  },
  {
   "cell_type": "code",
   "execution_count": 12,
   "source": [
    "def LastIndex(a,x):\r\n",
    "    l = len(a)\r\n",
    "    if l == 0:\r\n",
    "        return -1\r\n",
    "    \r\n",
    "    smallerList = a[1:]\r\n",
    "    smallerListOutput = LastIndex(smallerList,x)\r\n",
    "    \r\n",
    "    if smallerListOutput != -1:\r\n",
    "        return smallerListOutput +1\r\n",
    "    else:\r\n",
    "        if a[0] == x:\r\n",
    "            return 0 \r\n",
    "        else:\r\n",
    "            return -1\r\n",
    "\r\n",
    "a = [1,2,4,5,6,7,8,9,7,6]\r\n",
    "LastIndex(a,7)"
   ],
   "outputs": [
    {
     "output_type": "execute_result",
     "data": {
      "text/plain": [
       "8"
      ]
     },
     "metadata": {},
     "execution_count": 12
    }
   ],
   "metadata": {}
  },
  {
   "cell_type": "code",
   "execution_count": null,
   "source": [
    "# TODO better solution\r\n",
    "def LastIndex2(a,x):"
   ],
   "outputs": [],
   "metadata": {}
  }
 ],
 "metadata": {
  "orig_nbformat": 4,
  "language_info": {
   "name": "python",
   "version": "3.8.8",
   "mimetype": "text/x-python",
   "codemirror_mode": {
    "name": "ipython",
    "version": 3
   },
   "pygments_lexer": "ipython3",
   "nbconvert_exporter": "python",
   "file_extension": ".py"
  },
  "kernelspec": {
   "name": "python3",
   "display_name": "Python 3.8.8 64-bit ('base': conda)"
  },
  "interpreter": {
   "hash": "96eb50e1d44aed467dc8f759cb08c32fbfa9babcf79c554e2d0e5feb04653a10"
  }
 },
 "nbformat": 4,
 "nbformat_minor": 2
}