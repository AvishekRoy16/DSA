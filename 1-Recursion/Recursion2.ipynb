{
 "cells": [
  {
   "cell_type": "markdown",
   "metadata": {},
   "source": [
    "# Recursion Part 2"
   ]
  },
  {
   "cell_type": "markdown",
   "metadata": {},
   "source": [
    "## Recursion with strings"
   ]
  },
  {
   "cell_type": "markdown",
   "metadata": {},
   "source": [
    "### Replace character a with b"
   ]
  },
  {
   "cell_type": "code",
   "execution_count": 3,
   "metadata": {},
   "outputs": [
    {
     "data": {
      "text/plain": [
       "'daxdxxd'"
      ]
     },
     "execution_count": 3,
     "metadata": {},
     "output_type": "execute_result"
    }
   ],
   "source": [
    "def replaceChar(str,a,b):\n",
    "    l = len(str)\n",
    "    if l == 0:\n",
    "        return str\n",
    "    \n",
    "    smallOutput = replaceChar(str[1:], a, b)\n",
    "    if str[0] == a:\n",
    "        return b + smallOutput\n",
    "    else:\n",
    "        return str[0] + smallOutput\n",
    "\n",
    "replaceChar('dacdxcd', 'c', 'x')"
   ]
  },
  {
   "cell_type": "markdown",
   "metadata": {},
   "source": [
    "### Question 1 - Remove X"
   ]
  },
  {
   "cell_type": "markdown",
   "metadata": {},
   "source": [
    "<pre>\n",
    "Given a string, compute recursively a new string where all 'x' chars have been removed.\n",
    "Input format :\n",
    "String S\n",
    "Output format :\n",
    "Modified String\n",
    "Constraints :\n",
    "1 <= |S| <= 10^3\n",
    "where |S| represents the length of string S. \n",
    "Sample Input 1 :\n",
    "xaxb\n",
    "Sample Output 1:\n",
    "ab\n",
    "Sample Input 2 :\n",
    "abc\n",
    "Sample Output 2:\n",
    "abc\n",
    "Sample Input 3 :\n",
    "xx\n",
    "Sample Output 3:\n",
    "</pre>"
   ]
  },
  {
   "cell_type": "code",
   "execution_count": 5,
   "metadata": {},
   "outputs": [
    {
     "data": {
      "text/plain": [
       "'acmlc'"
      ]
     },
     "execution_count": 5,
     "metadata": {},
     "output_type": "execute_result"
    }
   ],
   "source": [
    "def removeX(string):\n",
    "    l = len(string)\n",
    "    if l == 0:\n",
    "        return string\n",
    "    \n",
    "    smallOutput = removeX(string[1:])\n",
    "    if string[0] == 'x':\n",
    "        return smallOutput\n",
    "    else:\n",
    "        return string[0] + smallOutput\n",
    "\n",
    "removeX('axcmlxc')"
   ]
  },
  {
   "cell_type": "markdown",
   "metadata": {},
   "source": [
    "### Replace 'pi in string"
   ]
  },
  {
   "cell_type": "code",
   "execution_count": 7,
   "metadata": {},
   "outputs": [
    {
     "data": {
      "text/plain": [
       "'p3.14he3.14p3.144'"
      ]
     },
     "execution_count": 7,
     "metadata": {},
     "output_type": "execute_result"
    }
   ],
   "source": [
    "def replacePi(str):\n",
    "    l = len(str)\n",
    "    if l == 0 or l == 1:\n",
    "        return str\n",
    "    \n",
    "    if str[0] == 'p' and str[1] == 'i':\n",
    "        smallOutput = replacePi(str[2:])\n",
    "        return '3.14' + smallOutput\n",
    "    else:\n",
    "        smallOutput = replacePi(str[1:])\n",
    "        return str[0] + smallOutput\n",
    "\n",
    "replacePi('ppihepippi4')"
   ]
  },
  {
   "cell_type": "markdown",
   "metadata": {},
   "source": [
    "### Question 2 - Remove Duplicates Recursively"
   ]
  },
  {
   "cell_type": "markdown",
   "metadata": {},
   "source": [
    "<pre>\n",
    "Given a string S, remove consecutive duplicates from it recursively.\n",
    "Input Format :\n",
    "String S\n",
    "Output Format :\n",
    "Output string\n",
    "Constraints :\n",
    "1 <= |S| <= 10^3\n",
    "where |S| represents the length of string\n",
    "Sample Input 1 :\n",
    "aabccba\n",
    "Sample Output 1 :\n",
    "abcba\n",
    "Sample Input 2 :\n",
    "xxxyyyzwwzzz\n",
    "Sample Output 2 :\n",
    "xyzwz\n",
    "</pre>"
   ]
  },
  {
   "cell_type": "code",
   "execution_count": 29,
   "metadata": {},
   "outputs": [
    {
     "data": {
      "text/plain": [
       "'abcdefa'"
      ]
     },
     "execution_count": 29,
     "metadata": {},
     "output_type": "execute_result"
    }
   ],
   "source": [
    "# Approach 1\n",
    "def removeConsecutiveDuplicates(string):\n",
    "    l = len(string)\n",
    "    if  l == 1:\n",
    "        return string\n",
    "    if string[0] == string[1]:\n",
    "        smallOutput = removeConsecutiveDuplicates(string[1:])\n",
    "        return smallOutput\n",
    "    else:\n",
    "        smallOutput = removeConsecutiveDuplicates(string[1:])\n",
    "        return string[0] + smallOutput\n",
    "\n",
    "removeConsecutiveDuplicates('aaabbccdefaa')"
   ]
  },
  {
   "cell_type": "code",
   "execution_count": null,
   "metadata": {},
   "outputs": [],
   "source": [
    "# Approach 2 given\n",
    "def removeConsecutiveDuplicates(string):\n",
    "    if len(string) <= 1:\n",
    "        return string\n",
    "    string2  = removeConsecutiveDuplicates(string[1:])\n",
    "    if string[0] == string[1]:\n",
    "        return string2   \n",
    "    else:\n",
    "    \n",
    "        return string[0] + string2"
   ]
  },
  {
   "cell_type": "code",
   "execution_count": null,
   "metadata": {},
   "outputs": [],
   "source": [
    "# Iteratively\n",
    "def removeconsective(s):\n",
    "    i=1\n",
    "    while i<len(s):\n",
    "      if s[i]==s[i-1]:\n",
    "        j=i+1\n",
    "        l=len(s)\n",
    "        while j<l and s[j]==s[i]:\n",
    "            j+=1\n",
    "        s=s[:i]+s[j:]\n",
    "      else:\n",
    "        i+=1\n",
    "    return s"
   ]
  },
  {
   "cell_type": "markdown",
   "metadata": {},
   "source": [
    "## Binary Search Using Recursion"
   ]
  },
  {
   "cell_type": "code",
   "execution_count": 4,
   "metadata": {},
   "outputs": [
    {
     "name": "stdout",
     "output_type": "stream",
     "text": [
      "8\n"
     ]
    }
   ],
   "source": [
    "def binarySearch(a, x, si, ei):\n",
    "    if si > ei:\n",
    "        return -1\n",
    "    mid = (si +ei)//2\n",
    "    if a[mid] == x:\n",
    "        return mid\n",
    "    elif a[mid] > x:\n",
    "        return binarySearch(a, x, si, mid - 1)\n",
    "    else:\n",
    "        return binarySearch(a, x, mid + 1, ei)\n",
    "\n",
    "print(binarySearch([1,2,3,4,5,6,7,77,83,987], 83, 0, 9))"
   ]
  },
  {
   "cell_type": "markdown",
   "metadata": {},
   "source": [
    "## Sorting Using Recursion"
   ]
  },
  {
   "cell_type": "markdown",
   "metadata": {},
   "source": [
    "### Merge Sort"
   ]
  },
  {
   "cell_type": "markdown",
   "metadata": {},
   "source": [
    "<pre>\n",
    "Sort an array A using Merge Sort.\n",
    "Change in the input array itself. So no need to return or print anything.\n",
    "Input format :\n",
    "Line 1 : Integer n i.e. Array size\n",
    "Line 2 : Array elements (separated by space)\n",
    "Output format :\n",
    "Array elements in increasing order (separated by space)\n",
    "Constraints :\n",
    "1 <= n <= 10^3\n",
    "Sample Input 1 :\n",
    "6 \n",
    "2 6 8 5 4 3\n",
    "Sample Output 1 :\n",
    "2 3 4 5 6 8\n",
    "Sample Input 2 :\n",
    "5\n",
    "2 1 5 2 3\n",
    "Sample Output 2 :\n",
    "1 2 2 3 5 \n",
    "</pre>"
   ]
  },
  {
   "cell_type": "code",
   "execution_count": 13,
   "metadata": {},
   "outputs": [],
   "source": [
    "def merge(a1, a2, a):\n",
    "    '''For merging two arrys together\n",
    "    in an assending order if the '''\n",
    "    i = 0\n",
    "    j = 0\n",
    "    k = 0\n",
    "    while i < len(a1) and j < len(a2):\n",
    "        if (a1[i]<a2[j]):\n",
    "            a[k] = a1[i]\n",
    "            k += 1\n",
    "            i +=1\n",
    "        else:\n",
    "            a[k] = a2[j]\n",
    "            k += 1\n",
    "            j += 1\n",
    "    # The above loop will stop when either i or j will be exauseted but the bigger arr out of the two will still have some elements left that have to be appended to the end of the final array\n",
    "    while i < len(a1):\n",
    "        # We could also have appended it. We did not because there is enough space in the original list (in case of merge sort)\n",
    "        a[k] = a1[i]\n",
    "        k += 1\n",
    "        i +=1\n",
    "    \n",
    "    while j < len(a2):\n",
    "        a[k] = a2[j]\n",
    "        k += 1\n",
    "        j +=1 "
   ]
  },
  {
   "cell_type": "code",
   "execution_count": 16,
   "metadata": {},
   "outputs": [
    {
     "name": "stdout",
     "output_type": "stream",
     "text": [
      "[1, 3, 4, 7, 9, 10]\n"
     ]
    }
   ],
   "source": [
    "def mergeSort(a):\n",
    "    # Base Case\n",
    "    if len(a) == 0 or len(a) == 1:\n",
    "        return\n",
    "    \n",
    "    # Initialisation\n",
    "    mid = len(a)//2\n",
    "    a1 = a[0:mid] # We have given mid here are if we want to make equal length copies we need till (mid-1) as the lsit slicing gors from 0 to n-1\n",
    "    a2 = a[mid:] # Starting from mid till the end\n",
    "    \n",
    "    # Inductoin step(recursion part )\n",
    "    mergeSort(a1)\n",
    "    mergeSort(a2)\n",
    "    \n",
    "    merge(a1,a2,a) # calling the fun ction we made for merging two sorted list\n",
    "    return a\n",
    "\n",
    "# Driver\n",
    "print(mergeSort([10,3,1,7,9,4]))"
   ]
  },
  {
   "cell_type": "code",
   "execution_count": 23,
   "metadata": {},
   "outputs": [
    {
     "name": "stdout",
     "output_type": "stream",
     "text": [
      "3 6 8 9 23 77\n"
     ]
    }
   ],
   "source": [
    "# Merge sor in one function\n",
    "def mergeSort(a, start, end):\n",
    "    # Base Case\n",
    "    if len(a) == 0 or len(a) == 1:\n",
    "        return\n",
    "    \n",
    "    # Initialisation\n",
    "    mid = len(a)//2\n",
    "    a1 = a[0:mid] # We have given mid here are if we want to make equal length copies we need till (mid-1) as the lsit slicing gors from 0 to n-1\n",
    "    a2 = a[mid:] # Starting from mid till the end\n",
    "    \n",
    "    # Inductoin step(recursion part )\n",
    "    mergeSort(a1, start, end)\n",
    "    mergeSort(a2, start, end)\n",
    "    \n",
    "    def merge(a1, a2, a):\n",
    "        '''For merging two arrys together\n",
    "        in an assending order if the '''\n",
    "        i = 0\n",
    "        j = 0\n",
    "        k = 0\n",
    "        while i < len(a1) and j < len(a2):\n",
    "            if (a1[i]<a2[j]):\n",
    "                a[k] = a1[i]\n",
    "                k += 1\n",
    "                i +=1\n",
    "            else:\n",
    "                a[k] = a2[j]\n",
    "                k += 1\n",
    "                j += 1\n",
    "        # The above loop will stop when either i or j will be exauseted but the bigger arr out of the two will still have some elements left that have to be appended to the end of the final array\n",
    "        while i < len(a1):\n",
    "            # We could also have appended it. We did not because there is enough space in the original list (in case of merge sort)\n",
    "            a[k] = a1[i]\n",
    "            k += 1\n",
    "            i +=1\n",
    "    \n",
    "        while j < len(a2):\n",
    "            a[k] = a2[j]\n",
    "            k += 1\n",
    "            j +=1 \n",
    "    \n",
    "    merge(a1,a2,a)\n",
    "\n",
    "# Driver Fuction\n",
    "n=int(input())\n",
    "a=list(int(i) for i in input().strip().split(' '))\n",
    "mergeSort(a, 0, n)\n",
    "print(*a)\n",
    "\n",
    "# Input given as\n",
    "# 5\n",
    "# 6 9 77 8 3 23"
   ]
  },
  {
   "cell_type": "markdown",
   "metadata": {},
   "source": [
    "### Quick Sort"
   ]
  },
  {
   "cell_type": "markdown",
   "metadata": {},
   "source": [
    "<pre>\n",
    "Sort an array A using Quick Sort.\n",
    "Change in the input array itself. So no need to return or print anything.\n",
    "\n",
    "\n",
    "Input format :\n",
    "Line 1 : Integer n i.e. Array size\n",
    "Line 2 : Array elements (separated by space)\n",
    "Output format :\n",
    "Array elements in increasing order (separated by space)\n",
    "Constraints :\n",
    "1 <= n <= 10^3\n",
    "Sample Input 1 :\n",
    "6 \n",
    "2 6 8 5 4 3\n",
    "Sample Output 1 :\n",
    "2 3 4 5 6 8\n",
    "Sample Input 2 :\n",
    "5\n",
    "1 5 2 7 3\n",
    "Sample Output 2 :\n",
    "1 2 3 5 7 \n",
    "</pre>"
   ]
  },
  {
   "cell_type": "code",
   "execution_count": 4,
   "metadata": {},
   "outputs": [],
   "source": [
    "def partition(arr, si, ei):\n",
    "    pivot = arr[si]\n",
    "    # Find no. of elemrnts smaller thank pivot\n",
    "    c = 0\n",
    "    for i in range(si, ei+1):\n",
    "        if arr[i] < pivot:\n",
    "            c +=1\n",
    "    arr[si+c],arr[si] = arr[si],arr[si+c]\n",
    "    pivot_index  = si + c\n",
    "    \n",
    "    i = si\n",
    "    j = ei\n",
    "    while i< j:\n",
    "        if (arr[i]<pivot):\n",
    "            i +=1\n",
    "        elif arr[j] >= pivot:\n",
    "            j -= 1\n",
    "        else:\n",
    "            arr[i], arr[j] = arr[j], arr[i]\n",
    "            i +=1\n",
    "            j -= 1\n",
    "    return pivot_index"
   ]
  },
  {
   "cell_type": "code",
   "execution_count": 5,
   "metadata": {},
   "outputs": [],
   "source": [
    "def quickSort(arr, si, ei):\n",
    "    if si > ei:\n",
    "        return\n",
    "    \n",
    "    pivot_index = partition(arr, si, ei)\n",
    "    # First Half\n",
    "    quickSort(arr, si, pivot_index -1)\n",
    "    # Second Half\n",
    "    quickSort(arr, pivot_index + 1, ei)\n",
    "    "
   ]
  },
  {
   "cell_type": "code",
   "execution_count": 8,
   "metadata": {},
   "outputs": [
    {
     "data": {
      "text/plain": [
       "[1, 2, 3, 4, 5, 7, 10, 98]"
      ]
     },
     "execution_count": 8,
     "metadata": {},
     "output_type": "execute_result"
    }
   ],
   "source": [
    " arr = [10,98,7,1,3,5,4,2]\n",
    " quickSort(arr, 0, len(a) -1)\n",
    " a"
   ]
  },
  {
   "cell_type": "code",
   "execution_count": 13,
   "metadata": {},
   "outputs": [
    {
     "name": "stdout",
     "output_type": "stream",
     "text": [
      "1 2 3 4 5 7 10 98\n"
     ]
    }
   ],
   "source": [
    "def quickSort(arr, si, ei):\n",
    "    if si > ei:\n",
    "        return\n",
    "    \n",
    "    def partition(arr, si, ei):\n",
    "        pivot = arr[si]\n",
    "        # Find no. of elemrnts smaller thank pivot\n",
    "        c = 0\n",
    "        for i in range(si, ei+1):\n",
    "            if arr[i] < pivot:\n",
    "                c +=1\n",
    "        arr[si+c],arr[si] = arr[si],arr[si+c]\n",
    "        pivot_index  = si + c\n",
    "        \n",
    "        i = si\n",
    "        j = ei\n",
    "        while i< j:\n",
    "            if (arr[i]<pivot):\n",
    "                i +=1\n",
    "            elif arr[j] >= pivot:\n",
    "                j -= 1\n",
    "            else:\n",
    "                arr[i], arr[j] = arr[j], arr[i]\n",
    "                i +=1\n",
    "                j -= 1\n",
    "        return pivot_index\n",
    "    \n",
    "    \n",
    "    pivot_index = partition(arr, si, ei)\n",
    "    # First Half\n",
    "    quickSort(arr, si, pivot_index -1)\n",
    "    # Second Half\n",
    "    quickSort(arr, pivot_index + 1, ei)\n",
    "    \n",
    "n=int(input())\n",
    "arr=list(int(i) for i in input().strip().split(' '))\n",
    "quickSort(arr, 0, n-1)\n",
    "print(*arr)\n",
    "\n",
    "# INPUT\n",
    "# 8\n",
    "# 10 98 7 1 3 5 4 2"
   ]
  }
 ],
 "metadata": {
  "kernelspec": {
   "display_name": "Python 3.8.5 ('base')",
   "language": "python",
   "name": "python3"
  },
  "language_info": {
   "codemirror_mode": {
    "name": "ipython",
    "version": 3
   },
   "file_extension": ".py",
   "mimetype": "text/x-python",
   "name": "python",
   "nbconvert_exporter": "python",
   "pygments_lexer": "ipython3",
   "version": "3.8.5"
  },
  "orig_nbformat": 4,
  "vscode": {
   "interpreter": {
    "hash": "ffb0cf131d14546b6573224cf3d27e75f0df2bb31d92400f13c23c2c4abb6933"
   }
  }
 },
 "nbformat": 4,
 "nbformat_minor": 2
}
