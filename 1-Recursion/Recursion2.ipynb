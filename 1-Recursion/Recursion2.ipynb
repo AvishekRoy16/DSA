{
 "cells": [
  {
   "cell_type": "markdown",
   "source": [
    "# Recursion Part 2"
   ],
   "metadata": {}
  },
  {
   "cell_type": "markdown",
   "source": [
    "## Recursion with strings"
   ],
   "metadata": {}
  },
  {
   "cell_type": "markdown",
   "source": [
    "### Replace character a with b"
   ],
   "metadata": {}
  },
  {
   "cell_type": "code",
   "execution_count": 3,
   "source": [
    "def replaceChar(str,a,b):\r\n",
    "    l = len(str)\r\n",
    "    if l == 0:\r\n",
    "        return str\r\n",
    "    \r\n",
    "    smallOutput = replaceChar(str[1:], a, b)\r\n",
    "    if str[0] == a:\r\n",
    "        return b + smallOutput\r\n",
    "    else:\r\n",
    "        return str[0] + smallOutput\r\n",
    "\r\n",
    "replaceChar('dacdxcd', 'c', 'x')"
   ],
   "outputs": [
    {
     "output_type": "execute_result",
     "data": {
      "text/plain": [
       "'daxdxxd'"
      ]
     },
     "metadata": {},
     "execution_count": 3
    }
   ],
   "metadata": {}
  },
  {
   "cell_type": "markdown",
   "source": [
    "### Question 1 - Remove X"
   ],
   "metadata": {}
  },
  {
   "cell_type": "markdown",
   "source": [
    "<pre>\r\n",
    "Given a string, compute recursively a new string where all 'x' chars have been removed.\r\n",
    "Input format :\r\n",
    "String S\r\n",
    "Output format :\r\n",
    "Modified String\r\n",
    "Constraints :\r\n",
    "1 <= |S| <= 10^3\r\n",
    "where |S| represents the length of string S. \r\n",
    "Sample Input 1 :\r\n",
    "xaxb\r\n",
    "Sample Output 1:\r\n",
    "ab\r\n",
    "Sample Input 2 :\r\n",
    "abc\r\n",
    "Sample Output 2:\r\n",
    "abc\r\n",
    "Sample Input 3 :\r\n",
    "xx\r\n",
    "Sample Output 3:\r\n",
    "</pre>"
   ],
   "metadata": {}
  },
  {
   "cell_type": "code",
   "execution_count": 5,
   "source": [
    "def removeX(string):\r\n",
    "    l = len(string)\r\n",
    "    if l == 0:\r\n",
    "        return string\r\n",
    "    \r\n",
    "    smallOutput = removeX(string[1:])\r\n",
    "    if string[0] == 'x':\r\n",
    "        return smallOutput\r\n",
    "    else:\r\n",
    "        return string[0] + smallOutput\r\n",
    "\r\n",
    "removeX('axcmlxc')"
   ],
   "outputs": [
    {
     "output_type": "execute_result",
     "data": {
      "text/plain": [
       "'acmlc'"
      ]
     },
     "metadata": {},
     "execution_count": 5
    }
   ],
   "metadata": {}
  },
  {
   "cell_type": "markdown",
   "source": [
    "### Replace 'pi in string"
   ],
   "metadata": {}
  },
  {
   "cell_type": "code",
   "execution_count": 7,
   "source": [
    "def replacePi(str):\r\n",
    "    l = len(str)\r\n",
    "    if l == 0 or l == 1:\r\n",
    "        return str\r\n",
    "    \r\n",
    "    if str[0] == 'p' and str[1] == 'i':\r\n",
    "        smallOutput = replacePi(str[2:])\r\n",
    "        return '3.14' + smallOutput\r\n",
    "    else:\r\n",
    "        smallOutput = replacePi(str[1:])\r\n",
    "        return str[0] + smallOutput\r\n",
    "\r\n",
    "replacePi('ppihepippi4')"
   ],
   "outputs": [
    {
     "output_type": "execute_result",
     "data": {
      "text/plain": [
       "'p3.14he3.14p3.144'"
      ]
     },
     "metadata": {},
     "execution_count": 7
    }
   ],
   "metadata": {}
  },
  {
   "cell_type": "markdown",
   "source": [
    "### Question 2 - Remove Duplicates Recursively"
   ],
   "metadata": {}
  },
  {
   "cell_type": "markdown",
   "source": [
    "<pre>\r\n",
    "Given a string S, remove consecutive duplicates from it recursively.\r\n",
    "Input Format :\r\n",
    "String S\r\n",
    "Output Format :\r\n",
    "Output string\r\n",
    "Constraints :\r\n",
    "1 <= |S| <= 10^3\r\n",
    "where |S| represents the length of string\r\n",
    "Sample Input 1 :\r\n",
    "aabccba\r\n",
    "Sample Output 1 :\r\n",
    "abcba\r\n",
    "Sample Input 2 :\r\n",
    "xxxyyyzwwzzz\r\n",
    "Sample Output 2 :\r\n",
    "xyzwz\r\n",
    "</pre>"
   ],
   "metadata": {}
  },
  {
   "cell_type": "code",
   "execution_count": 29,
   "source": [
    "def removeConsecutiveDuplicates(string):\r\n",
    "    l = len(string)\r\n",
    "    if  l == 1:\r\n",
    "        return string\r\n",
    "    if string[0] == string[1]:\r\n",
    "        smallOutput = removeConsecutiveDuplicates(string[1:])\r\n",
    "        return smallOutput\r\n",
    "    else:\r\n",
    "        smallOutput = removeConsecutiveDuplicates(string[1:])\r\n",
    "        return string[0] + smallOutput\r\n",
    "\r\n",
    "removeConsecutiveDuplicates('aaabbccdefaa')"
   ],
   "outputs": [
    {
     "output_type": "execute_result",
     "data": {
      "text/plain": [
       "'abcdefa'"
      ]
     },
     "metadata": {},
     "execution_count": 29
    }
   ],
   "metadata": {}
  },
  {
   "cell_type": "code",
   "execution_count": null,
   "source": [
    "def removeconsective(s):\r\n",
    "    i=1\r\n",
    "    while i<len(s):\r\n",
    "      if s[i]==s[i-1]:\r\n",
    "        j=i+1\r\n",
    "        l=len(s)\r\n",
    "        while j<l and s[j]==s[i]:\r\n",
    "            j+=1\r\n",
    "        s=s[:i]+s[j:]\r\n",
    "      else:\r\n",
    "        i+=1\r\n",
    "    return s"
   ],
   "outputs": [],
   "metadata": {}
  },
  {
   "cell_type": "code",
   "execution_count": null,
   "source": [
    "def removeConsecutiveDuplicates(string):\r\n",
    "    if len(string) <= 1:\r\n",
    "        return string\r\n",
    "    string2  = removeConsecutiveDuplicates(string[1:])\r\n",
    "    if string[0] == string[1]:\r\n",
    "        return string2   \r\n",
    "    else:\r\n",
    "    \r\n",
    "        return string[0] + string2"
   ],
   "outputs": [],
   "metadata": {}
  }
 ],
 "metadata": {
  "orig_nbformat": 4,
  "language_info": {
   "name": "python",
   "version": "3.8.8",
   "mimetype": "text/x-python",
   "codemirror_mode": {
    "name": "ipython",
    "version": 3
   },
   "pygments_lexer": "ipython3",
   "nbconvert_exporter": "python",
   "file_extension": ".py"
  },
  "kernelspec": {
   "name": "python3",
   "display_name": "Python 3.8.8 64-bit ('base': conda)"
  },
  "interpreter": {
   "hash": "96eb50e1d44aed467dc8f759cb08c32fbfa9babcf79c554e2d0e5feb04653a10"
  }
 },
 "nbformat": 4,
 "nbformat_minor": 2
}