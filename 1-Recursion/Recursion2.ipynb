{
 "cells": [
  {
   "cell_type": "markdown",
   "source": [
    "# Recursion Part 2"
   ],
   "metadata": {}
  },
  {
   "cell_type": "markdown",
   "source": [
    "## Recursion with strings"
   ],
   "metadata": {}
  },
  {
   "cell_type": "markdown",
   "source": [
    "### Replace character a with b"
   ],
   "metadata": {}
  },
  {
   "cell_type": "code",
   "execution_count": 3,
   "source": [
    "def replaceChar(str,a,b):\n",
    "    l = len(str)\n",
    "    if l == 0:\n",
    "        return str\n",
    "    \n",
    "    smallOutput = replaceChar(str[1:], a, b)\n",
    "    if str[0] == a:\n",
    "        return b + smallOutput\n",
    "    else:\n",
    "        return str[0] + smallOutput\n",
    "\n",
    "replaceChar('dacdxcd', 'c', 'x')"
   ],
   "outputs": [
    {
     "output_type": "execute_result",
     "data": {
      "text/plain": [
       "'daxdxxd'"
      ]
     },
     "metadata": {},
     "execution_count": 3
    }
   ],
   "metadata": {}
  },
  {
   "cell_type": "markdown",
   "source": [
    "### Question 1 - Remove X"
   ],
   "metadata": {}
  },
  {
   "cell_type": "markdown",
   "source": [
    "<pre>\r\n",
    "Given a string, compute recursively a new string where all 'x' chars have been removed.\r\n",
    "Input format :\r\n",
    "String S\r\n",
    "Output format :\r\n",
    "Modified String\r\n",
    "Constraints :\r\n",
    "1 <= |S| <= 10^3\r\n",
    "where |S| represents the length of string S. \r\n",
    "Sample Input 1 :\r\n",
    "xaxb\r\n",
    "Sample Output 1:\r\n",
    "ab\r\n",
    "Sample Input 2 :\r\n",
    "abc\r\n",
    "Sample Output 2:\r\n",
    "abc\r\n",
    "Sample Input 3 :\r\n",
    "xx\r\n",
    "Sample Output 3:\r\n",
    "</pre>"
   ],
   "metadata": {}
  },
  {
   "cell_type": "code",
   "execution_count": 5,
   "source": [
    "def removeX(string):\n",
    "    l = len(string)\n",
    "    if l == 0:\n",
    "        return string\n",
    "    \n",
    "    smallOutput = removeX(string[1:])\n",
    "    if string[0] == 'x':\n",
    "        return smallOutput\n",
    "    else:\n",
    "        return string[0] + smallOutput\n",
    "\n",
    "removeX('axcmlxc')"
   ],
   "outputs": [
    {
     "output_type": "execute_result",
     "data": {
      "text/plain": [
       "'acmlc'"
      ]
     },
     "metadata": {},
     "execution_count": 5
    }
   ],
   "metadata": {}
  },
  {
   "cell_type": "markdown",
   "source": [
    "### Replace 'pi in string"
   ],
   "metadata": {}
  },
  {
   "cell_type": "code",
   "execution_count": 7,
   "source": [
    "def replacePi(str):\n",
    "    l = len(str)\n",
    "    if l == 0 or l == 1:\n",
    "        return str\n",
    "    \n",
    "    if str[0] == 'p' and str[1] == 'i':\n",
    "        smallOutput = replacePi(str[2:])\n",
    "        return '3.14' + smallOutput\n",
    "    else:\n",
    "        smallOutput = replacePi(str[1:])\n",
    "        return str[0] + smallOutput\n",
    "\n",
    "replacePi('ppihepippi4')"
   ],
   "outputs": [
    {
     "output_type": "execute_result",
     "data": {
      "text/plain": [
       "'p3.14he3.14p3.144'"
      ]
     },
     "metadata": {},
     "execution_count": 7
    }
   ],
   "metadata": {}
  },
  {
   "cell_type": "markdown",
   "source": [
    "### Question 2 - Remove Duplicates Recursively"
   ],
   "metadata": {}
  },
  {
   "cell_type": "markdown",
   "source": [
    "<pre>\r\n",
    "Given a string S, remove consecutive duplicates from it recursively.\r\n",
    "Input Format :\r\n",
    "String S\r\n",
    "Output Format :\r\n",
    "Output string\r\n",
    "Constraints :\r\n",
    "1 <= |S| <= 10^3\r\n",
    "where |S| represents the length of string\r\n",
    "Sample Input 1 :\r\n",
    "aabccba\r\n",
    "Sample Output 1 :\r\n",
    "abcba\r\n",
    "Sample Input 2 :\r\n",
    "xxxyyyzwwzzz\r\n",
    "Sample Output 2 :\r\n",
    "xyzwz\r\n",
    "</pre>"
   ],
   "metadata": {}
  },
  {
   "cell_type": "code",
   "execution_count": 29,
   "source": [
    "# Approach 1\n",
    "def removeConsecutiveDuplicates(string):\n",
    "    l = len(string)\n",
    "    if  l == 1:\n",
    "        return string\n",
    "    if string[0] == string[1]:\n",
    "        smallOutput = removeConsecutiveDuplicates(string[1:])\n",
    "        return smallOutput\n",
    "    else:\n",
    "        smallOutput = removeConsecutiveDuplicates(string[1:])\n",
    "        return string[0] + smallOutput\n",
    "\n",
    "removeConsecutiveDuplicates('aaabbccdefaa')"
   ],
   "outputs": [
    {
     "output_type": "execute_result",
     "data": {
      "text/plain": [
       "'abcdefa'"
      ]
     },
     "metadata": {},
     "execution_count": 29
    }
   ],
   "metadata": {}
  },
  {
   "cell_type": "code",
   "execution_count": null,
   "source": [
    "# Approach 2 given\n",
    "def removeConsecutiveDuplicates(string):\n",
    "    if len(string) <= 1:\n",
    "        return string\n",
    "    string2  = removeConsecutiveDuplicates(string[1:])\n",
    "    if string[0] == string[1]:\n",
    "        return string2   \n",
    "    else:\n",
    "    \n",
    "        return string[0] + string2"
   ],
   "outputs": [],
   "metadata": {}
  },
  {
   "cell_type": "code",
   "execution_count": null,
   "source": [
    "# Iteratively\n",
    "def removeconsective(s):\n",
    "    i=1\n",
    "    while i<len(s):\n",
    "      if s[i]==s[i-1]:\n",
    "        j=i+1\n",
    "        l=len(s)\n",
    "        while j<l and s[j]==s[i]:\n",
    "            j+=1\n",
    "        s=s[:i]+s[j:]\n",
    "      else:\n",
    "        i+=1\n",
    "    return s"
   ],
   "outputs": [],
   "metadata": {}
  },
  {
   "cell_type": "markdown",
   "source": [
    "## Binary Search Using Recursion"
   ],
   "metadata": {}
  },
  {
   "cell_type": "code",
   "execution_count": 4,
   "source": [
    "def binarySearch(a, x, si, ei):\n",
    "    if si > ei:\n",
    "        return -1\n",
    "    mid = (si +ei)//2\n",
    "    if a[mid] == x:\n",
    "        return mid\n",
    "    elif a[mid] > x:\n",
    "        return binarySearch(a, x, si, mid - 1)\n",
    "    else:\n",
    "        return binarySearch(a, x, mid + 1, ei)\n",
    "\n",
    "print(binarySearch([1,2,3,4,5,6,7,77,83,987], 83, 0, 9))"
   ],
   "outputs": [
    {
     "output_type": "stream",
     "name": "stdout",
     "text": [
      "8\n"
     ]
    }
   ],
   "metadata": {}
  },
  {
   "cell_type": "markdown",
   "source": [
    "## Sorting Using Recursion"
   ],
   "metadata": {}
  },
  {
   "cell_type": "markdown",
   "source": [
    "### Merge Sort"
   ],
   "metadata": {}
  },
  {
   "cell_type": "markdown",
   "source": [
    "<pre>\n",
    "Sort an array A using Merge Sort.\n",
    "Change in the input array itself. So no need to return or print anything.\n",
    "Input format :\n",
    "Line 1 : Integer n i.e. Array size\n",
    "Line 2 : Array elements (separated by space)\n",
    "Output format :\n",
    "Array elements in increasing order (separated by space)\n",
    "Constraints :\n",
    "1 <= n <= 10^3\n",
    "Sample Input 1 :\n",
    "6 \n",
    "2 6 8 5 4 3\n",
    "Sample Output 1 :\n",
    "2 3 4 5 6 8\n",
    "Sample Input 2 :\n",
    "5\n",
    "2 1 5 2 3\n",
    "Sample Output 2 :\n",
    "1 2 2 3 5 \n",
    "</pre>"
   ],
   "metadata": {}
  },
  {
   "cell_type": "code",
   "execution_count": 13,
   "source": [
    "def merge(a1, a2, a):\n",
    "    '''For merging two arrys together\n",
    "    in an assending order if the '''\n",
    "    i = 0\n",
    "    j = 0\n",
    "    k = 0\n",
    "    while i < len(a1) and j < len(a2):\n",
    "        if (a1[i]<a2[j]):\n",
    "            a[k] = a1[i]\n",
    "            k += 1\n",
    "            i +=1\n",
    "        else:\n",
    "            a[k] = a2[j]\n",
    "            k += 1\n",
    "            j += 1\n",
    "    # The above loop will stop when either i or j will be exauseted but the bigger arr out of the two will still have some elements left that have to be appended to the end of the final array\n",
    "    while i < len(a1):\n",
    "        # We could also have appended it. We did not because there is enough space in the original list (in case of merge sort)\n",
    "        a[k] = a1[i]\n",
    "        k += 1\n",
    "        i +=1\n",
    "    \n",
    "    while j < len(a2):\n",
    "        a[k] = a2[j]\n",
    "        k += 1\n",
    "        j +=1 "
   ],
   "outputs": [],
   "metadata": {}
  },
  {
   "cell_type": "code",
   "execution_count": 16,
   "source": [
    "def mergeSort(a):\n",
    "    # Base Case\n",
    "    if len(a) == 0 or len(a) == 1:\n",
    "        return\n",
    "    \n",
    "    # Initialisation\n",
    "    mid = len(a)//2\n",
    "    a1 = a[0:mid] # We have given mid here are if we want to make equal length copies we need till (mid-1) as the lsit slicing gors from 0 to n-1\n",
    "    a2 = a[mid:] # Starting from mid till the end\n",
    "    \n",
    "    # Inductoin step(recursion part )\n",
    "    mergeSort(a1)\n",
    "    mergeSort(a2)\n",
    "    \n",
    "    merge(a1,a2,a) # calling the fun ction we made for merging two sorted list\n",
    "    return a\n",
    "\n",
    "# Driver\n",
    "print(mergeSort([10,3,1,7,9,4]))"
   ],
   "outputs": [
    {
     "output_type": "stream",
     "name": "stdout",
     "text": [
      "[1, 3, 4, 7, 9, 10]\n"
     ]
    }
   ],
   "metadata": {}
  },
  {
   "cell_type": "code",
   "execution_count": 23,
   "source": [
    "# Merge sor in one function\n",
    "def mergeSort(a, start, end):\n",
    "    # Base Case\n",
    "    if len(a) == 0 or len(a) == 1:\n",
    "        return\n",
    "    \n",
    "    # Initialisation\n",
    "    mid = len(a)//2\n",
    "    a1 = a[0:mid] # We have given mid here are if we want to make equal length copies we need till (mid-1) as the lsit slicing gors from 0 to n-1\n",
    "    a2 = a[mid:] # Starting from mid till the end\n",
    "    \n",
    "    # Inductoin step(recursion part )\n",
    "    mergeSort(a1, start, end)\n",
    "    mergeSort(a2, start, end)\n",
    "    \n",
    "    def merge(a1, a2, a):\n",
    "        '''For merging two arrys together\n",
    "        in an assending order if the '''\n",
    "        i = 0\n",
    "        j = 0\n",
    "        k = 0\n",
    "        while i < len(a1) and j < len(a2):\n",
    "            if (a1[i]<a2[j]):\n",
    "                a[k] = a1[i]\n",
    "                k += 1\n",
    "                i +=1\n",
    "            else:\n",
    "                a[k] = a2[j]\n",
    "                k += 1\n",
    "                j += 1\n",
    "        # The above loop will stop when either i or j will be exauseted but the bigger arr out of the two will still have some elements left that have to be appended to the end of the final array\n",
    "        while i < len(a1):\n",
    "            # We could also have appended it. We did not because there is enough space in the original list (in case of merge sort)\n",
    "            a[k] = a1[i]\n",
    "            k += 1\n",
    "            i +=1\n",
    "    \n",
    "        while j < len(a2):\n",
    "            a[k] = a2[j]\n",
    "            k += 1\n",
    "            j +=1 \n",
    "    \n",
    "    merge(a1,a2,a)\n",
    "\n",
    "# Driver Fuction\n",
    "n=int(input())\n",
    "a=list(int(i) for i in input().strip().split(' '))\n",
    "mergeSort(a, 0, n)\n",
    "print(*a)\n",
    "\n",
    "# Input given as\n",
    "# 5\n",
    "# 6 9 77 8 3 23"
   ],
   "outputs": [
    {
     "output_type": "stream",
     "name": "stdout",
     "text": [
      "3 6 8 9 23 77\n"
     ]
    }
   ],
   "metadata": {}
  },
  {
   "cell_type": "markdown",
   "source": [
    "### Quick Sort"
   ],
   "metadata": {}
  },
  {
   "cell_type": "markdown",
   "source": [
    "<pre>\n",
    "Sort an array A using Quick Sort.\n",
    "Change in the input array itself. So no need to return or print anything.\n",
    "\n",
    "\n",
    "Input format :\n",
    "Line 1 : Integer n i.e. Array size\n",
    "Line 2 : Array elements (separated by space)\n",
    "Output format :\n",
    "Array elements in increasing order (separated by space)\n",
    "Constraints :\n",
    "1 <= n <= 10^3\n",
    "Sample Input 1 :\n",
    "6 \n",
    "2 6 8 5 4 3\n",
    "Sample Output 1 :\n",
    "2 3 4 5 6 8\n",
    "Sample Input 2 :\n",
    "5\n",
    "1 5 2 7 3\n",
    "Sample Output 2 :\n",
    "1 2 3 5 7 \n",
    "</pre>"
   ],
   "metadata": {}
  },
  {
   "cell_type": "code",
   "execution_count": null,
   "source": [
    "def partition(arr, si, ei):\n",
    "    pivot = arr[si]\n",
    "    # Find no. of elemrnts smaller thank pivot\n",
    "    c = 0\n",
    "    for i in range(si, ei):\n",
    "        if a[i] < pivot:\n",
    "            c +=1\n",
    "    a[si+c],a[si] = a[si],a[si+c]\n",
    "    pivot_index  = si + c"
   ],
   "outputs": [],
   "metadata": {}
  },
  {
   "cell_type": "code",
   "execution_count": null,
   "source": [
    "def quickSort(arr, si, ei):\n",
    "    if si > ei:\n",
    "        return\n",
    "    \n",
    "    pivot_index = partition(a, si, ei)\n",
    "    quickSort(a, si, pivot_index -1)\n",
    "    quickSort(arr, pivot_index + 1, ei)\n",
    "    "
   ],
   "outputs": [],
   "metadata": {}
  },
  {
   "cell_type": "code",
   "execution_count": null,
   "source": [
    " a = [10,98,7,1,3,5,4,2]\n",
    " quickSort(arr, 0, len(a) -1)w"
   ],
   "outputs": [],
   "metadata": {}
  }
 ],
 "metadata": {
  "orig_nbformat": 4,
  "language_info": {
   "name": "python",
   "version": "3.8.5",
   "mimetype": "text/x-python",
   "codemirror_mode": {
    "name": "ipython",
    "version": 3
   },
   "pygments_lexer": "ipython3",
   "nbconvert_exporter": "python",
   "file_extension": ".py"
  },
  "kernelspec": {
   "name": "python3",
   "display_name": "Python 3.8.5 64-bit ('base': conda)"
  },
  "interpreter": {
   "hash": "682cbd65bec36bb5780b3cd03d8f98f09d815121554481962b3929c5a83bba13"
  }
 },
 "nbformat": 4,
 "nbformat_minor": 2
}