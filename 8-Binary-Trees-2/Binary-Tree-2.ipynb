{
 "cells": [
  {
   "cell_type": "markdown",
   "metadata": {},
   "source": [
    "# Binary Tree - 2"
   ]
  },
  {
   "cell_type": "markdown",
   "metadata": {},
   "source": [
    "## Remove Leaf Node"
   ]
  },
  {
   "cell_type": "code",
   "execution_count": 2,
   "metadata": {},
   "outputs": [],
   "source": [
    "class BinaryTreeNodes:\n",
    "    def __init__(self,data):\n",
    "        self.data = data\n",
    "        self.left = None\n",
    "        self.right = None\n",
    "        \n",
    "def treeInput():\n",
    "    rootData = int(input())\n",
    "    if rootData == -1:\n",
    "        return None\n",
    "    \n",
    "    root = BinaryTreeNodes(rootData)\n",
    "    leftTree = treeInput()\n",
    "    rightTree = treeInput()\n",
    "    root.left = leftTree\n",
    "    root.right = rightTree\n",
    "    return root\n",
    "\n",
    "def printTree(root):\n",
    "    if root == None:\n",
    "        return\n",
    "    print(root.data, end = \":\")\n",
    "    if root.left != None:\n",
    "        print('L', root.left.data, end=\",\")\n",
    "    if root.right != None:\n",
    "        print('R', root.right.data, end=\"\")\n",
    "    print()\n",
    "    \n",
    "    printTree(root.left)\n",
    "    printTree(root.right)\n",
    "    "
   ]
  },
  {
   "cell_type": "code",
   "execution_count": 7,
   "metadata": {},
   "outputs": [
    {
     "name": "stdout",
     "output_type": "stream",
     "text": [
      "1:L 2,L 3\n",
      "2:\n",
      "3:\n",
      "Tree with removed leaves\n",
      "1:\n"
     ]
    }
   ],
   "source": [
    "def removeLeaves(root):\n",
    "    # Base Case\n",
    "    if root == None:\n",
    "        return None\n",
    "    # If root is leaf (part of base case)\n",
    "    if root.left == None and root.right == None:\n",
    "        return None\n",
    "    \n",
    "    root.left = removeLeaves(root.left)\n",
    "    root.right = removeLeaves(root.right)\n",
    "    return root\n",
    "    \n",
    "root = treeInput()\n",
    "printTree(root)\n",
    "removeLeaves(root)\n",
    "print('Tree with removed leaves')\n",
    "printTree(root)"
   ]
  },
  {
   "cell_type": "markdown",
   "metadata": {},
   "source": [
    "## Mirror Binary Tree"
   ]
  },
  {
   "cell_type": "markdown",
   "metadata": {},
   "source": [
    "Mirror Binary Tree\n",
    "<pre>\n",
    "For a given Binary Tree of type integer, update it with its corresponding mirror image.\n",
    "Example:\n",
    "Alt text\n",
    "\n",
    "Input Format:\n",
    "The first and the only line of input will contain the node data, all separated by a single space. Since -1 is used as an indication whether the left or right node data exist for root, it will not be a part of the node data.\n",
    "Output Format:\n",
    "The only line of output prints the mirrored tree in a level-wise order. \n",
    "Each level will be printed on a new line. Elements printed at each level will be separated by a single line.\n",
    "Note:\n",
    "You are not required to print anything explicitly. It has already been taken care of.\n",
    "Constraints:\n",
    "1 <= N <= 10^5\n",
    "Where N is the total number of nodes in the binary tree.\n",
    "\n",
    "Time Limit: 1 sec\n",
    "Sample Input 1:\n",
    "1 2 3 4 5 6 7 -1 -1 -1 -1 -1 -1 -1 -1\n",
    "Sample Output 1:\n",
    "1 \n",
    "3 2 \n",
    "7 6 5 4\n",
    "Sample Input 2:\n",
    "5 10 6 2 3 -1 -1 -1 -1 -1 9 -1 -1\n",
    "Sample Output 2:\n",
    "5 \n",
    "6 10 \n",
    "3 2 \n",
    "9\n",
    "</pre>"
   ]
  },
  {
   "cell_type": "code",
   "execution_count": 14,
   "metadata": {},
   "outputs": [
    {
     "name": "stdout",
     "output_type": "stream",
     "text": [
      "10:L 20,R 40\n",
      "20:L 40,R 50\n",
      "40:\n",
      "50:\n",
      "40:\n",
      "root tree is:\n",
      "10:L 40,R 20\n",
      "40:\n",
      "20:L 50,R 40\n",
      "50:\n",
      "40:\n"
     ]
    }
   ],
   "source": [
    "class BinaryTreeNode:\n",
    "    def __init__(self, data):\n",
    "        self.data = data\n",
    "        self.left = None\n",
    "        self.right = None\n",
    "\n",
    "\n",
    "\n",
    "\n",
    "def mirrorBinaryTree(root) :\n",
    "    if root == None:\n",
    "        return None\n",
    "    \n",
    "    if root.left == None and root.right == None:\n",
    "        return None\n",
    "    \n",
    "    mirrorBinaryTree(root.left)\n",
    "    mirrorBinaryTree(root.right)\n",
    "    \n",
    "    temp = root.left\n",
    "    root.left = root.right\n",
    "    root.right = temp\n",
    "    \n",
    "    return root\n",
    "\n",
    "root = treeInput()\n",
    "printTree(root)\n",
    "mirrorBinaryTree(root)\n",
    "print('root tree is:')\n",
    "printTree(root)"
   ]
  },
  {
   "cell_type": "markdown",
   "metadata": {},
   "source": [
    "## Check if Binary Tree is Balanced"
   ]
  },
  {
   "cell_type": "code",
   "execution_count": 8,
   "metadata": {},
   "outputs": [
    {
     "name": "stdout",
     "output_type": "stream",
     "text": [
      "1:L 2,L 3\n",
      "2:L 4,\n",
      "4:L 6,\n",
      "6:\n",
      "3:L 5\n",
      "5:\n"
     ]
    },
    {
     "data": {
      "text/plain": [
       "False"
      ]
     },
     "execution_count": 8,
     "metadata": {},
     "output_type": "execute_result"
    }
   ],
   "source": [
    "def height(root):\n",
    "    if root == None:\n",
    "        return 0\n",
    "    return 1 + max(height(root.left), height(root.right))\n",
    "\n",
    "\n",
    "def isBalanced(root):\n",
    "    if root is None:\n",
    "        return True\n",
    "    lh = height(root.left)\n",
    "    rh = height(root.right)\n",
    "    if lh - rh > 1 or rh - lh > 1:\n",
    "        return False\n",
    "    \n",
    "    isLeftBalanced = isBalanced(root.left)\n",
    "    isRifhtBalanced = isBalanced(root.right)\n",
    "    \n",
    "    if isLeftBalanced and isRifhtBalanced:\n",
    "        return True\n",
    "    else:\n",
    "        return False\n",
    "\n",
    "root = treeInput()\n",
    "printTree(root)\n",
    "isBalanced(root)"
   ]
  },
  {
   "cell_type": "markdown",
   "metadata": {},
   "source": [
    "## Check if Binary Tree is Balanced IMPROVED"
   ]
  },
  {
   "cell_type": "code",
   "execution_count": 7,
   "metadata": {},
   "outputs": [
    {
     "name": "stdout",
     "output_type": "stream",
     "text": [
      "1:L 2,R 3\n",
      "2:L 4,\n",
      "4:L 6,\n",
      "6:\n",
      "3:R 6\n",
      "6:\n"
     ]
    },
    {
     "data": {
      "text/plain": [
       "False"
      ]
     },
     "execution_count": 7,
     "metadata": {},
     "output_type": "execute_result"
    }
   ],
   "source": [
    "def isBalanced2(root):\n",
    "    if root == None:\n",
    "        return 0, True\n",
    "    \n",
    "    lh, isLeftBalanced = isBalanced2(root.left)\n",
    "    rh, isRightBalanced = isBalanced2(root.right)\n",
    "    \n",
    "    h = 1 + max(lh, rh)\n",
    "    \n",
    "    if lh - rh > 1 or rh - lh > 1:\n",
    "        return h, False\n",
    "    \n",
    "    if isLeftBalanced and isRightBalanced:\n",
    "        return h, True\n",
    "    else:\n",
    "        return h, False\n",
    "    \n",
    "def isBalancedMain(root):\n",
    "    h, isRootBalanced = isBalanced2(root)\n",
    "    return isRootBalanced\n",
    "\n",
    "root = treeInput()\n",
    "printTree(root)\n",
    "isBalancedMain(root)"
   ]
  },
  {
   "cell_type": "code",
   "execution_count": 3,
   "metadata": {},
   "outputs": [],
   "source": [
    "import queue\n",
    "def takeLevelWiseInput():\n",
    "    q = queue.Queue()\n",
    "    print('Enter root')\n",
    "    rootData = int(input())\n",
    "    if rootData == -1:\n",
    "        return None\n",
    "    \n",
    "    root = BinaryTreeNodes(rootData)\n",
    "    q.put(root)\n",
    "    while (not(q.empty())):\n",
    "        current_node =  q.get()\n",
    "        \n",
    "        print('Enter left child of', current_node.data)\n",
    "        leftChildData = int(input())\n",
    "        if leftChildData != -1:\n",
    "            leftChild = BinaryTreeNodes(leftChildData)\n",
    "            current_node.left = leftChild\n",
    "            q.put(leftChild)\n",
    "            \n",
    "        print('Enter right child of', current_node.data)\n",
    "        rightChildData = int(input())\n",
    "        if rightChildData != -1:\n",
    "            rightChild = BinaryTreeNodes(rightChildData)\n",
    "            current_node.right = rightChild\n",
    "            q.put(rightChild)\n",
    "            \n",
    "            \n",
    "    return root\n",
    "\n"
   ]
  },
  {
   "cell_type": "code",
   "execution_count": 4,
   "metadata": {},
   "outputs": [
    {
     "name": "stdout",
     "output_type": "stream",
     "text": [
      "Enter root\n",
      "Enter left child of 1\n",
      "Enter right child of 1\n",
      "Enter left child of 2\n",
      "Enter right child of 2\n",
      "Enter left child of 3\n",
      "Enter right child of 3\n",
      "1:L 2,R 3\n",
      "2:\n",
      "3:\n"
     ]
    }
   ],
   "source": [
    "root = takeLevelWiseInput()\n",
    "printTree(root)"
   ]
  },
  {
   "cell_type": "code",
   "execution_count": 5,
   "metadata": {},
   "outputs": [
    {
     "name": "stdout",
     "output_type": "stream",
     "text": [
      "Enter root\n",
      "Enter left child of 1\n",
      "Enter right child of 1\n",
      "Enter left child of 2\n",
      "Enter right child of 2\n",
      "Enter left child of 3\n",
      "Enter right child of 3\n",
      "1:L:2,R:3\n",
      "2:L:-1,R:-1\n",
      "3:L:-1,R:-1\n"
     ]
    }
   ],
   "source": [
    "import queue\n",
    "def printLevelWise(root):\n",
    "    q = queue.Queue()\n",
    "    \n",
    "    if root == None:\n",
    "        return None\n",
    "    \n",
    "    q.put(root)\n",
    "    \n",
    "    while(not(q.empty())):\n",
    "        a = q.get()\n",
    "        print(a.data, end=\":\")\n",
    "        \n",
    "        leftChild = a.left\n",
    "        if leftChild != None:\n",
    "            print(\"L:\", end = \"\")\n",
    "            print(leftChild.data, end = \",\")\n",
    "            q.put(leftChild)\n",
    "        else:\n",
    "            print(\"L:\", end = \"\")\n",
    "            print(-1, end = \",\")\n",
    "            \n",
    "        rightChild = a.right\n",
    "        if rightChild != None:\n",
    "            print(\"R:\", end = \"\")\n",
    "            print(rightChild.data)\n",
    "            q.put(rightChild)\n",
    "        else:\n",
    "            print(\"R:\", end = \"\")\n",
    "            print(-1)\n",
    "\n",
    "root = takeLevelWiseInput()\n",
    "printLevelWise(root)"
   ]
  },
  {
   "cell_type": "markdown",
   "metadata": {},
   "source": [
    "## Build Tree Using Inorder and Post Order"
   ]
  },
  {
   "cell_type": "code",
   "execution_count": 13,
   "metadata": {},
   "outputs": [],
   "source": [
    "def buildTreeFromPreIn(pre, inorder):\n",
    "    if len(pre) == 0:\n",
    "        return None\n",
    "    \n",
    "    rootData = pre[0]\n",
    "    root = BinaryTreeNodes(rootData)\n",
    "    rootIndexInInorder = -1\n",
    "    for i in range(0, len(inorder)):\n",
    "        if inorder[i] == rootData:\n",
    "            rootIndexInInorder = i\n",
    "            break\n",
    "    # Finding the left and right of the inorder\n",
    "    leftInorder = inorder[0:rootIndexInInorder]\n",
    "    rightInorder = inorder[rootIndexInInorder+1:]\n",
    "    \n",
    "    # Finding the left and right of the preorder\n",
    "    lenLeftSubtree = len(leftInorder)\n",
    "    leftPreorder = pre[1:lenLeftSubtree+1]\n",
    "    rightPreorder = pre[lenLeftSubtree+1:]\n",
    "    \n",
    "    leftChild = buildTreeFromPreIn(leftPreorder, leftInorder)\n",
    "    rightChild = buildTreeFromPreIn(rightPreorder, rightInorder)\n",
    "    \n",
    "    root.left = leftChild\n",
    "    root.right = rightChild\n",
    "    \n",
    "    return root\n",
    "    "
   ]
  },
  {
   "cell_type": "code",
   "execution_count": 15,
   "metadata": {},
   "outputs": [
    {
     "name": "stdout",
     "output_type": "stream",
     "text": [
      "1:L 2,R 3\n",
      "2:L 4,R 5\n",
      "4:\n",
      "5:\n",
      "3:L 6,R 7\n",
      "6:\n",
      "7:\n"
     ]
    }
   ],
   "source": [
    "pre = [1,2,4,5,3,6,7]\n",
    "inorder = [4,2,5,1,6,3,7]\n",
    "root = buildTreeFromPreIn(pre,inorder)\n",
    "printTree(root)"
   ]
  }
 ],
 "metadata": {
  "interpreter": {
   "hash": "ffb0cf131d14546b6573224cf3d27e75f0df2bb31d92400f13c23c2c4abb6933"
  },
  "kernelspec": {
   "display_name": "Python 3.8.5 64-bit ('base': conda)",
   "name": "python3"
  },
  "language_info": {
   "codemirror_mode": {
    "name": "ipython",
    "version": 3
   },
   "file_extension": ".py",
   "mimetype": "text/x-python",
   "name": "python",
   "nbconvert_exporter": "python",
   "pygments_lexer": "ipython3",
   "version": "3.8.5"
  },
  "orig_nbformat": 4
 },
 "nbformat": 4,
 "nbformat_minor": 2
}
