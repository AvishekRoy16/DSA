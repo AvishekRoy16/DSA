{
 "cells": [
  {
   "cell_type": "markdown",
   "metadata": {},
   "source": [
    "# Binary Tree Questions"
   ]
  },
  {
   "cell_type": "markdown",
   "metadata": {},
   "source": [
    "## Sum of Nodes"
   ]
  },
  {
   "cell_type": "markdown",
   "metadata": {},
   "source": [
    "Sum Of Nodes\n",
    "<pre>\n",
    "For a given Binary Tree of integers, find and return the sum of all the nodes data.\n",
    "Example:\n",
    "                        10\n",
    "                      /      \\\n",
    "                    20      30\n",
    "                   /    \\\n",
    "                 40    50\n",
    "\n",
    "When we sum up all the nodes data together, [10, 20, 30, 40 50] we get 150. Hence, the output will be 150.\n",
    " Input Format:\n",
    "The first and the only line of input will contain the nodes data, all separated by a single space. Since -1 is used as an indication whether the left or right node data exist for root, it will not be a part of the node data.\n",
    "Output Format:\n",
    "The first and the only line of output prints the sum of all the nodes data present in the binary tree.\n",
    "Note:\n",
    "You are not required to print anything explicitly. It has already been taken care of.\n",
    "Constraints:\n",
    "1 <= N <= 10^6\n",
    "Where N is the total number of nodes in the binary tree.\n",
    "\n",
    "Time Limit: 1 sec\n",
    "Sample Input 1:\n",
    "2 3 4 6 -1 -1 -1 -1 -1\n",
    "Sample Output 1:\n",
    " 15\n",
    "Sample Input 2:\n",
    "1 2 3 4 5 6 7 -1 -1 -1 -1 -1 -1 -1 -1\n",
    "Sample Output 2:\n",
    " 28\n",
    " </pre>"
   ]
  },
  {
   "cell_type": "code",
   "execution_count": 5,
   "metadata": {},
   "outputs": [
    {
     "name": "stdout",
     "output_type": "stream",
     "text": [
      "150\n"
     ]
    }
   ],
   "source": [
    "from sys import stdin, setrecursionlimit\n",
    "import queue\n",
    "\n",
    "class BinaryTreeNode():\n",
    "    def __init__(self, data):\n",
    "        self.data = data\n",
    "        self.left = None\n",
    "        self.right = None\n",
    "        \n",
    "def getSum(root):\n",
    "    if root == None:\n",
    "        return 0\n",
    "    rootData = root.data\n",
    "    leftData = getSum(root.left)\n",
    "    rightData = getSum(root.right)\n",
    "    return rootData + leftData + rightData\n",
    "    \n",
    "    \n",
    "def treeInput():\n",
    "    rootData = int(input())\n",
    "    if rootData == -1:\n",
    "        return None\n",
    "    \n",
    "    root = BinaryTreeNode(rootData)\n",
    "    leftTree = treeInput()\n",
    "    rightTree = treeInput()\n",
    "    root.left = leftTree\n",
    "    root.right = rightTree\n",
    "    return root\n",
    "\n",
    "# Main\n",
    "root = treeInput()\n",
    "print(getSum(root))\n",
    "    "
   ]
  },
  {
   "cell_type": "code",
   "execution_count": null,
   "metadata": {},
   "outputs": [],
   "source": [
    "from sys import stdin, setrecursionlimit\n",
    "import queue\n",
    "\n",
    "setrecursionlimit(10 ** 6)\n",
    "\n",
    "class BinaryTreeNode:\n",
    "    def __init__(self, data):\n",
    "        self.data = data\n",
    "        self.left = None\n",
    "        self.right = None\n",
    "\n",
    "\n",
    "def getSum(root):\n",
    "\n",
    "    if root is None :\n",
    "        return 0\n",
    "\n",
    "\n",
    "    leftSum  = getSum(root.left)\n",
    "    rightSum = getSum(root.right)\n",
    "\n",
    "    return (leftSum + rightSum + root.data)\n",
    "\n",
    "\n",
    "\n",
    "\n",
    "#Taking level-order input using fast I/O method\n",
    "def takeInput():\n",
    "    levelOrder = list(map(int, stdin.readline().strip().split(\" \")))\n",
    "    start = 0\n",
    "\n",
    "    length = len(levelOrder)\n",
    "\n",
    "    root = BinaryTreeNode(levelOrder[start])\n",
    "    start += 1\n",
    "\n",
    "    q = queue.Queue()\n",
    "    q.put(root)\n",
    "\n",
    "    while not q.empty():\n",
    "        currentNode = q.get()\n",
    "\n",
    "        leftChild = levelOrder[start]\n",
    "        start += 1\n",
    "\n",
    "        if leftChild != -1:\n",
    "            leftNode = BinaryTreeNode(leftChild)\n",
    "            currentNode.left =leftNode\n",
    "            q.put(leftNode)\n",
    "\n",
    "        rightChild = levelOrder[start]\n",
    "        start += 1\n",
    "\n",
    "        if rightChild != -1:\n",
    "            rightNode = BinaryTreeNode(rightChild)\n",
    "            currentNode.right =rightNode\n",
    "            q.put(rightNode)\n",
    "\n",
    "    return root\n",
    "\n",
    "# Main\n",
    "root = takeInput()\n",
    "print(getSum(root))"
   ]
  },
  {
   "cell_type": "markdown",
   "metadata": {},
   "source": [
    "## Preorder Binary Tree"
   ]
  },
  {
   "cell_type": "markdown",
   "metadata": {},
   "source": [
    "Preorder Binary Tree\n",
    "<pre>\n",
    "You are given the root node of a binary tree.Print its preorder traversal.\n",
    "Input Format:\n",
    "The first and the only line of input will contain the node data, all separated by a single space. Since -1 is used as an indication whether the left or right node data exist for root, it will not be a part of the node data.\n",
    "Output Format:\n",
    "The only line of output prints the preorder traversal of the given binary tree.\n",
    "Constraints:\n",
    "1 <= N <= 10^6\n",
    "Where N is the total number of nodes in the binary tree.\n",
    "\n",
    "Time Limit: 1 sec\n",
    "Sample Input 1:\n",
    "1 2 3 4 5 6 7 -1 -1 -1 -1 -1 -1 -1 -1\n",
    " Sample Output 1:\n",
    "1 2 4 5 3 6 7\n",
    "Sample Input 2:\n",
    "5 6 10 2 3 -1 -1 -1 -1 -1 9 -1 -1\n",
    " Sample Output 1:\n",
    "5 6 2 3 9 10\n",
    "\n",
    "Example:\n",
    "                        10\n",
    "                      /      \\\n",
    "                    20      30\n",
    "                   /    \\\n",
    "                 40    50\n",
    "                 \n",
    "Pre Order: 10 20 40 50 30\n",
    "</pre>"
   ]
  },
  {
   "cell_type": "code",
   "execution_count": 11,
   "metadata": {},
   "outputs": [
    {
     "name": "stdout",
     "output_type": "stream",
     "text": [
      "10 20 40 50 30 "
     ]
    }
   ],
   "source": [
    "from sys import stdin, setrecursionlimit\n",
    "import queue\n",
    "\n",
    "setrecursionlimit(10 ** 6)\n",
    "\n",
    "\n",
    "# Following the structure used for Binary Tree\n",
    "class BinaryTreeNode:\n",
    "    def __init__(self, data):\n",
    "        self.data = data\n",
    "        self.left = None\n",
    "        self.right = None\n",
    "\n",
    "\n",
    "def preOrder(root):\n",
    "    if root == None:\n",
    "        return\n",
    "    print(root.data, end = \" \")\n",
    "    preOrder(root.left)\n",
    "    preOrder(root.right)\n",
    "    \n",
    "def treeInput():\n",
    "    rootData = int(input())\n",
    "    if rootData == -1:\n",
    "        return None\n",
    "    \n",
    "    root = BinaryTreeNode(rootData)\n",
    "    leftTree = treeInput()\n",
    "    rightTree = treeInput()\n",
    "    root.left = leftTree\n",
    "    root.right = rightTree\n",
    "    return root\n",
    "\n",
    "# Main\n",
    "root = treeInput()\n",
    "preOrder(root)"
   ]
  },
  {
   "cell_type": "markdown",
   "metadata": {},
   "source": [
    "Postorder Binary Tree\n",
    "<pre>\n",
    "For a given Binary Tree of integers, print the post-order traversal.\n",
    "Input Format:\n",
    "The first and the only line of input will contain the node data, all separated by a single space. Since -1 is used as an indication whether the left or right node data exist for root, it will not be a part of the node data.\n",
    "Output Format:\n",
    "The only line of output prints the post-order traversal of the given binary tree.\n",
    "Constraints:\n",
    "1 <= N <= 10^6\n",
    "Where N is the total number of nodes in the binary tree.\n",
    "\n",
    "Time Limit: 1 sec\n",
    "Sample Input 1:\n",
    "1 2 3 4 5 6 7 -1 -1 -1 -1 -1 -1 -1 -1\n",
    " Sample Output 1:\n",
    "4 5 2 6 7 3 1 \n",
    "Sample Input 2:\n",
    "5 6 10 2 3 -1 -1 -1 -1 -1 9 -1 -1\n",
    " Sample Output 1:\n",
    "2 9 3 6 10 5 \n",
    "\n",
    "Example:\n",
    "                        10\n",
    "                      /      \\\n",
    "                    20      30\n",
    "                   /    \\\n",
    "                 40    50\n",
    "\n",
    "Post-Order: 40 50 20 30 10\n",
    "</pre>"
   ]
  },
  {
   "cell_type": "code",
   "execution_count": 12,
   "metadata": {},
   "outputs": [
    {
     "name": "stdout",
     "output_type": "stream",
     "text": [
      "40 50 20 30 10 "
     ]
    }
   ],
   "source": [
    "from sys import stdin, setrecursionlimit\n",
    "import queue\n",
    "\n",
    "setrecursionlimit(10 ** 6)\n",
    "\n",
    "\n",
    "# Following the structure used for Binary Tree\n",
    "class BinaryTreeNode:\n",
    "    def __init__(self, data):\n",
    "        self.data = data\n",
    "        self.left = None\n",
    "        self.right = None\n",
    "\n",
    "\n",
    "def preOrder(root):\n",
    "    if root == None:\n",
    "        return\n",
    "\n",
    "    preOrder(root.left)\n",
    "    preOrder(root.right)\n",
    "    print(root.data, end = \" \")\n",
    "    \n",
    "def treeInput():\n",
    "    rootData = int(input())\n",
    "    if rootData == -1:\n",
    "        return None\n",
    "    \n",
    "    root = BinaryTreeNode(rootData)\n",
    "    leftTree = treeInput()\n",
    "    rightTree = treeInput()\n",
    "    root.left = leftTree\n",
    "    root.right = rightTree\n",
    "    return root\n",
    "\n",
    "# Main\n",
    "root = treeInput()\n",
    "preOrder(root)"
   ]
  },
  {
   "cell_type": "markdown",
   "metadata": {},
   "source": [
    "## Largest Vlaue in Binary Tree"
   ]
  },
  {
   "cell_type": "code",
   "execution_count": 13,
   "metadata": {},
   "outputs": [
    {
     "data": {
      "text/plain": [
       "50"
      ]
     },
     "execution_count": 13,
     "metadata": {},
     "output_type": "execute_result"
    }
   ],
   "source": [
    "def largestData(root):\n",
    "    if root == None:\n",
    "        return -1\n",
    "    leftLargest = largestData(root.left)\n",
    "    rightLargest = largestData(root.right)\n",
    "    # using the inbuilt max function\n",
    "    largest = max(leftLargest, rightLargest, root.data)\n",
    "    return largest\n",
    "\n",
    "root = treeInput()\n",
    "largestData(root)"
   ]
  },
  {
   "cell_type": "markdown",
   "metadata": {},
   "source": [
    "## Nodes Greater Than X"
   ]
  },
  {
   "cell_type": "markdown",
   "metadata": {},
   "source": [
    "Nodes Greater Than X\n",
    "<pre>\n",
    "For a given a binary tree of integers and an integer X, find and return the total number of nodes of the given binary tree which are having data greater than X.\n",
    "Input Format:\n",
    "The first line of input will contain the node data, all separated by a single space. Since -1 is used as an indication whether the left or right node data exist for root, it will not be a part of the node data.\n",
    "\n",
    "The second line of input contains an integer, denoting the value of X.\n",
    "Note:\n",
    "You are not required to print anything explicitly. It has already been taken care of.\n",
    "Output Format:\n",
    "The only line of output prints the total number of nodes where the node data is greater than X.\n",
    "Constraints:\n",
    "1 <= N <= 10^5\n",
    "Where N is the total number of nodes in the binary tree.\n",
    "\n",
    "Time Limit: 1 sec\n",
    "Sample Input 1:\n",
    "1 4 2 3 -1 -1 -1\n",
    "2\n",
    "Sample Output 1:\n",
    "2\n",
    "Explanation for Sample Input 1:\n",
    "Out of the four nodes of the given binary tree, [3, 4] are the node data that are greater than X = 2.\n",
    "Sample Input 2:\n",
    "5 6 10 2 3 -1 -1 -1 -1 -1 9 -1 -1\n",
    "5\n",
    "Sample Output 2:\n",
    "3\n",
    "</pre>"
   ]
  },
  {
   "cell_type": "code",
   "execution_count": 15,
   "metadata": {},
   "outputs": [
    {
     "data": {
      "text/plain": [
       "3"
      ]
     },
     "execution_count": 15,
     "metadata": {},
     "output_type": "execute_result"
    }
   ],
   "source": [
    "from sys import stdin, setrecursionlimit\n",
    "import queue\n",
    "\n",
    "setrecursionlimit(10 ** 6)\n",
    "\n",
    "#Following the structure used for Binary Tree\n",
    "class BinaryTreeNode:\n",
    "    def __init__(self, data):\n",
    "        self.data = data\n",
    "        self.left = None\n",
    "        self.right = None\n",
    "        \n",
    "def countNodesGreaterThanX(root, x):\n",
    "    if root == None:\n",
    "        return 0\n",
    "    leftCount = countNodesGreaterThanX(root.left, x)\n",
    "    rightCount = countNodesGreaterThanX(root.right, x)\n",
    "    count = leftCount + rightCount\n",
    "    \n",
    "    if root.data > x :\n",
    "        count += 1\n",
    "    return count\n",
    "\n",
    "\n",
    "root = treeInput()\n",
    "countNodesGreaterThanX(root, 20)"
   ]
  },
  {
   "cell_type": "code",
   "execution_count": null,
   "metadata": {},
   "outputs": [],
   "source": [
    "from sys import stdin, setrecursionlimit\n",
    "import queue\n",
    "\n",
    "setrecursionlimit(10 ** 6)\n",
    "\n",
    "#Following the structure used for Binary Tree\n",
    "class BinaryTreeNode:\n",
    "    def __init__(self, data):\n",
    "        self.data = data\n",
    "        self.left = None\n",
    "        self.right = None\n",
    "        \n",
    "def countNodesGreaterThanX(root, x):\n",
    "    if root == None:\n",
    "        return 0\n",
    "\n",
    "    count = 0\n",
    "    \n",
    "    if root.data > x:\n",
    "        count = 1\n",
    "    \n",
    "    if root.left is not None:\n",
    "        count += countNodesGreaterThanX(root.left, x)\n",
    "        \n",
    "    if root.right is not None:\n",
    "        count += countNodesGreaterThanX(root.right, x)\n",
    "        \n",
    "    return count\n",
    "\n",
    "root = treeInput()\n",
    "countNodesGreaterThanX(root, 20)"
   ]
  },
  {
   "cell_type": "markdown",
   "metadata": {},
   "source": [
    "## Height of Binary Tree"
   ]
  },
  {
   "cell_type": "markdown",
   "metadata": {},
   "source": [
    "Height Of Tree\n",
    "<pre>\n",
    "For a given Binary Tree of integers, find and return the height of the tree.\n",
    "Example:\n",
    "                        10\n",
    "                      /      \\\n",
    "                    20      30\n",
    "                   /    \\\n",
    "                 40    50\n",
    "\n",
    "Height of the given tree is 3. \n",
    "\n",
    "Height is defined as the total number of nodes along the longest path from the root to any of the leaf node.\n",
    " Input Format:\n",
    "The first and the only line of input will contain the node data, all separated by a single space. Since -1 is used as an indication whether the left or right node data exist for root, it will not be a part of the node data.\n",
    "Output Format:\n",
    "The first and the only line of output prints the height of the given binary tree.\n",
    "Note:\n",
    "You are not required to print anything explicitly. It has already been taken care of.\n",
    "Constraints:\n",
    "0 <= N <= 10^5\n",
    "Where N is the total number of nodes in the binary tree.\n",
    "\n",
    "Time Limit: 1 sec\n",
    "Sample Input 1:\n",
    "10 20 30 40 50 -1 -1 -1 -1 -1 -1\n",
    "Sample Output 1:\n",
    "3\n",
    "Sample Input 2:\n",
    "3 -1 -1\n",
    "Sample Output 2:\n",
    "1\n",
    "</pre>"
   ]
  },
  {
   "cell_type": "code",
   "execution_count": 1,
   "metadata": {},
   "outputs": [
    {
     "name": "stdout",
     "output_type": "stream",
     "text": [
      "3\n"
     ]
    }
   ],
   "source": [
    "from sys import stdin, setrecursionlimit\n",
    "import queue\n",
    "\n",
    "setrecursionlimit(10 ** 6)\n",
    "\n",
    "\n",
    "#Following is the structure used to represent the Binary Tree Node\n",
    "class BinaryTreeNode:\n",
    "    def __init__(self, data):\n",
    "        self.data = data\n",
    "        self.left = None\n",
    "        self.right = None\n",
    "\n",
    "\n",
    "\n",
    "def height(root) :\n",
    "    if root is None:\n",
    "        return 0\n",
    "    return max(height(root.left), height(root.right)) + 1\n",
    "\n",
    "def treeInput():\n",
    "    rootData = int(input())\n",
    "    if rootData == -1:\n",
    "        return None\n",
    "    \n",
    "    root = BinaryTreeNode(rootData)\n",
    "    leftTree = treeInput()\n",
    "    rightTree = treeInput()\n",
    "    root.left = leftTree\n",
    "    root.right = rightTree\n",
    "    return root\n",
    "\n",
    "root = treeInput()\n",
    "\n",
    "h = height(root)\n",
    "print(h)"
   ]
  },
  {
   "cell_type": "markdown",
   "metadata": {},
   "source": [
    "## Number of Leaf Nodes"
   ]
  },
  {
   "cell_type": "code",
   "execution_count": 6,
   "metadata": {},
   "outputs": [
    {
     "data": {
      "text/plain": [
       "1"
      ]
     },
     "execution_count": 6,
     "metadata": {},
     "output_type": "execute_result"
    }
   ],
   "source": [
    "def numLeafNodes(root):\n",
    "    if root == None:\n",
    "        return 0 \n",
    "    if root.left == None and root.right == None:\n",
    "        return 1\n",
    "    \n",
    "    numLeafLeft = numLeafNodes(root.left)\n",
    "    numLeafRight = numLeafNodes(root.right)\n",
    "    return numLeafLeft + numLeafRight \n",
    "\n",
    "root = treeInput()\n",
    "numLeafNodes(root)"
   ]
  },
  {
   "cell_type": "markdown",
   "metadata": {},
   "source": [
    "## Nodes At Depth K"
   ]
  },
  {
   "cell_type": "code",
   "execution_count": 9,
   "metadata": {},
   "outputs": [
    {
     "name": "stdout",
     "output_type": "stream",
     "text": [
      "4\n",
      "5\n",
      "6\n"
     ]
    }
   ],
   "source": [
    "def printDepthK(root,k):\n",
    "    if root == None:\n",
    "        return\n",
    "    if k == 0:\n",
    "        print(root.data)\n",
    "        return\n",
    "    printDepthK(root.left,k-1)\n",
    "    printDepthK(root.right,k-1)\n",
    "    \n",
    "root = treeInput()\n",
    "printDepthK(root, 2)\n",
    "#Input - 1 2 4 -1 -1 5 -1 -1 3 6 -1 -1 -1"
   ]
  },
  {
   "cell_type": "code",
   "execution_count": 10,
   "metadata": {},
   "outputs": [
    {
     "name": "stdout",
     "output_type": "stream",
     "text": [
      "4\n",
      "5\n",
      "6\n"
     ]
    }
   ],
   "source": [
    "def printDepthKV2(root, k, d = 0):\n",
    "    if root == None:\n",
    "        return\n",
    "    if k == d:\n",
    "        print(root.data)\n",
    "        return\n",
    "    printDepthKV2(root.left, k, d+1)\n",
    "    printDepthKV2(root.right, k, d+1)\n",
    "    \n",
    "root = treeInput()\n",
    "printDepthKV2(root, 2)\n",
    "#Input - 1 2 4 -1 -1 5 -1 -1 3 6 -1 -1 -1"
   ]
  },
  {
   "cell_type": "markdown",
   "metadata": {},
   "source": [
    "## Replace Node With Depth"
   ]
  },
  {
   "cell_type": "markdown",
   "metadata": {},
   "source": [
    "Replace Node With Depth\n",
    "<pre>\n",
    "For a given a Binary Tree of integers, replace each of its data with the depth of the tree.\n",
    "Root is at depth 0, hence the root data is updated with 0. Replicate the same further going down the in the depth of the given tree.\n",
    "The modified tree will be printed in the in-order fashion.\n",
    "Example:\n",
    "Alt text\n",
    "\n",
    "The above tree after updating will look like this:\n",
    "Alt text\n",
    "\n",
    "Output: 2 1 2 0 2 1 2 (printed in the in-order fashion)\n",
    " Input Format:\n",
    "The first and the only line of input will contain the node data, all separated by a single space. Since -1 is used as an indication whether the left or right node data exist for root, it will not be a part of the node data.\n",
    "Output Format:\n",
    "The first and the only line of output prints the updated tree in the in-order fashion.\n",
    "Note:\n",
    "You are not required to print anything explicitly. It has already been taken care of.\n",
    "Constraints:\n",
    "1 <= N <= 10^5\n",
    "Where N is the total number of nodes in the binary tree.\n",
    "\n",
    "Time Limit: 1sec\n",
    " Sample Input 1:\n",
    "2 35 10 2 3 5 2 -1 -1 -1 -1 -1 -1 -1 -1 \n",
    "Sample Output 1:\n",
    "2 1 2 0 2 1 2 \n",
    " Sample Input 2:\n",
    "1 2 3 4 5 6 7 -1 -1 -1 -1 -1 -1 -1 -1\n",
    "Sample Output 2:\n",
    "2 1 2 0 2 1 2 \n",
    "</pre>"
   ]
  },
  {
   "cell_type": "code",
   "execution_count": null,
   "metadata": {},
   "outputs": [],
   "source": []
  }
 ],
 "metadata": {
  "interpreter": {
   "hash": "5f64f01a6cdb813bd23f3c2980301e513b65108ef9650403b1a46775be8a9390"
  },
  "kernelspec": {
   "display_name": "Python 3.8.8 64-bit ('base': conda)",
   "name": "python3"
  },
  "language_info": {
   "codemirror_mode": {
    "name": "ipython",
    "version": 3
   },
   "file_extension": ".py",
   "mimetype": "text/x-python",
   "name": "python",
   "nbconvert_exporter": "python",
   "pygments_lexer": "ipython3",
   "version": "3.8.8"
  },
  "orig_nbformat": 4
 },
 "nbformat": 4,
 "nbformat_minor": 2
}
