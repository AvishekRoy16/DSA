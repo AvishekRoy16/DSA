{
 "cells": [
  {
   "cell_type": "markdown",
   "source": [
    "# Object Oriented Programming - Part 2"
   ],
   "metadata": {}
  },
  {
   "cell_type": "markdown",
   "source": [
    "## Inheritance"
   ],
   "metadata": {}
  },
  {
   "cell_type": "code",
   "execution_count": 1,
   "source": [
    "class Vehicle:\n",
    "    def __init__(self, color, maxSpeed):\n",
    "        self.color = color\n",
    "        self.maxSpeed = maxSpeed\n",
    "\n",
    "# The Car class is inheriting from the Vehicle class\n",
    "class Car(Vehicle):\n",
    "    def __init__(self, color, maxSpeed, numGears, isConvertable):\n",
    "        # Whenever we want to go to the parent class we can use super\n",
    "        super().__init__(color, maxSpeed)\n",
    "        self.numGears = numGears\n",
    "        self.isConvertable = isConvertable\n",
    "    \n",
    "    def printCar(self):\n",
    "        print('Color :', self.color)\n",
    "        print('MaxSpeed :', self.maxSpeed)\n",
    "        print('No of Gears', self.numGears)\n",
    "        print('Is Convertable', self.isConvertable)\n",
    "        \n",
    "c = Car('red', 15, 3, False)\n",
    "c.printCar()"
   ],
   "outputs": [
    {
     "output_type": "stream",
     "name": "stdout",
     "text": [
      "Color : red\n",
      "MaxSpeed : 15\n",
      "No of Gears 3\n",
      "Is Convertable False\n"
     ]
    }
   ],
   "metadata": {}
  },
  {
   "cell_type": "code",
   "execution_count": 2,
   "source": [
    "class Vehicle:\n",
    "    def __init__(self, color, maxSpeed):\n",
    "        self.color = color\n",
    "        # if we make the maxspeed variable private inside the class then we would not be able access it insdie the inhereting classes.\n",
    "        # We can make seperate fnction for getting and setting the values of maxspeed if we wanted to\n",
    "        self.__maxSpeed = maxSpeed\n",
    "\n",
    "    def getMaxSpeed(self):\n",
    "        return self.__maxSpeed\n",
    "    \n",
    "    def setMaxSpeed(self, maxSpeed):\n",
    "        self.__maxSpeed = maxSpeed\n",
    "    \n",
    "# The Car class is inheriting from the Vehicle class\n",
    "class Car(Vehicle):\n",
    "    def __init__(self, color, maxSpeed, numGears, isConvertable):\n",
    "        # Whenever we want to go to the parent class we can use super\n",
    "        super().__init__(color, maxSpeed)\n",
    "        self.numGears = numGears\n",
    "        self.isConvertable = isConvertable\n",
    "    \n",
    "    def printCar(self):\n",
    "        print('Color :', self.color)\n",
    "        # We cannot use maxspeed as it is a private funciton now, in it's place we have used get and set function named getMaxSpeed and setMaxspeed\n",
    "        print('MaxSpeed :', self.getMaxSpeed())\n",
    "        print('No of Gears', self.numGears)\n",
    "        print('Is Convertable', self.isConvertable)\n",
    "        \n",
    "c = Car('red', 15, 3, False)\n",
    "c.printCar()    "
   ],
   "outputs": [
    {
     "output_type": "stream",
     "name": "stdout",
     "text": [
      "Color : red\n",
      "MaxSpeed : 15\n",
      "No of Gears 3\n",
      "Is Convertable False\n"
     ]
    }
   ],
   "metadata": {}
  },
  {
   "cell_type": "code",
   "execution_count": 3,
   "source": [
    "class Vehicle:\n",
    "    def __init__(self, color, maxSpeed):\n",
    "        self.color = color\n",
    "        self.__maxSpeed = maxSpeed\n",
    "\n",
    "    def getMaxSpeed(self):\n",
    "        return self.__maxSpeed\n",
    "    \n",
    "    def setMaxSpeed(self, maxSpeed):\n",
    "        self.__maxSpeed = maxSpeed\n",
    "\n",
    "    def print(self):\n",
    "        print('Color :', self.color)\n",
    "        print('MaxSpeed :', self.__maxSpeed)    \n",
    "    \n",
    "class Car(Vehicle):\n",
    "    def __init__(self, color, maxSpeed, numGears, isConvertable):\n",
    "        super().__init__(color, maxSpeed)\n",
    "        self.numGears = numGears\n",
    "        self.isConvertable = isConvertable\n",
    "    \n",
    "    def printCar(self):\n",
    "    # The color and maxSpeed of the Car is inherited from the Cehcle class so it should be their responsibility  to print it.\n",
    "    # Therefore, we have created a print funciton in Vehicle class itself and we are calliing it inside this function using super\n",
    "    # Insted of using super here we can also call self.print as the inherited class inherits all the functions of the parent class as well\n",
    "        super().print() # We can also write 'self.print' here in place of this\n",
    "        print('No of Gears', self.numGears)\n",
    "        print('Is Convertable', self.isConvertable)\n",
    "        \n",
    "c = Car('red', 15, 3, False)\n",
    "c.printCar() "
   ],
   "outputs": [
    {
     "output_type": "stream",
     "name": "stdout",
     "text": [
      "Color : red\n",
      "MaxSpeed : 15\n",
      "No of Gears 3\n",
      "Is Convertable False\n"
     ]
    }
   ],
   "metadata": {}
  },
  {
   "cell_type": "markdown",
   "source": [
    "## Polymorphism"
   ],
   "metadata": {}
  },
  {
   "cell_type": "code",
   "execution_count": 4,
   "source": [
    "class Vehicle:\n",
    "    def __init__(self, color, maxSpeed):\n",
    "        self.color = color\n",
    "        self.__maxSpeed = maxSpeed\n",
    "\n",
    "    def getMaxSpeed(self):\n",
    "        return self.__maxSpeed\n",
    "    \n",
    "    def setMaxSpeed(self, maxSpeed):\n",
    "        self.__maxSpeed = maxSpeed\n",
    "\n",
    "    def print(self):\n",
    "        print('Color :', self.color)\n",
    "        print('MaxSpeed :', self.__maxSpeed)    \n",
    "    \n",
    "class Car(Vehicle):\n",
    "    def __init__(self, color, maxSpeed, numGears, isConvertable):\n",
    "        super().__init__(color, maxSpeed)\n",
    "        self.numGears = numGears\n",
    "        self.isConvertable = isConvertable\n",
    "    \n",
    "    def printCar(self):\n",
    "    # C.peint in the last line of this code block makes call to this function - printCar\n",
    "    # if we change the name of the function to be print then we will have 2 print funtions one from the parent class and the other this function itself.\n",
    "    # Whent the code c.print() we run then this function will be called, but in case this function did not exist we would call the print function from the parent class.\n",
    "    # In case that the name of the two function are same in the parent class and the inhereted class then we cannot do 'self.print() in place of super.print()\n",
    "    # As that would give us a recursion error as there would be no base case as it is not a recursion problem, \n",
    "    # hence it is a good practice to use super.print() when callin functions from parent class\n",
    "        super().print() # We can also write 'self.print' here in place of this\n",
    "        print('No of Gears', self.numGears)\n",
    "        print('Is Convertable', self.isConvertable)\n",
    "        \n",
    "c = Car('red', 15, 3, False)\n",
    "c.printCar() "
   ],
   "outputs": [
    {
     "output_type": "stream",
     "name": "stdout",
     "text": [
      "Color : red\n",
      "MaxSpeed : 15\n",
      "No of Gears 3\n",
      "Is Convertable False\n"
     ]
    }
   ],
   "metadata": {}
  },
  {
   "cell_type": "markdown",
   "source": [
    "<h3>Predict the Output</h3>\n",
    "<pre>\n",
    "1.\n",
    "INPUT\n",
    "class Vehicle:\n",
    "    def __init__(self,color):\n",
    "        self.color = color\n",
    "    def print(self):\n",
    "        print(c.color,end=””)\n",
    "class Car(Vehicle):\n",
    "    def __init__(self,color,numGears):\n",
    "        super().__init__(color)\n",
    "        self.numGears = numGears\n",
    "    def print(self):\n",
    "       print(c.color,end=”” )\n",
    "       print(c.numGears)\n",
    "c = Car(“black”,5)\n",
    "c.print()\n",
    "----------------------------------------\n",
    "black 5\n",
    "----------------------------------------\n",
    "2.\n",
    "INPUT\n",
    "class Vehicle:\n",
    "    def __init__(self,color):\n",
    "        self.color = color\n",
    "    def print(self):\n",
    "        print(c.color,end=””)\n",
    "class Car(Vehicle):\n",
    "    def __init__(self,color,numGears):\n",
    "        super().__init__(color)\n",
    "        self.numGears = numGears\n",
    "    def print(self):\n",
    "       self.print()\n",
    "       print(c.numGears)\n",
    "c = Car(“black”,5)\n",
    "c.print()\n",
    "-------------------------------------------\n",
    "RecursionError: maximum recursion depth exceeded\n",
    "\n",
    "</pre>"
   ],
   "metadata": {}
  },
  {
   "cell_type": "markdown",
   "source": [
    "## Protected Members"
   ],
   "metadata": {}
  },
  {
   "cell_type": "code",
   "execution_count": 7,
   "source": [
    "# In python the protected members are just like punblic members. It is declared to _.This is done to denote that the variable which is protected uses _ before the varible.\n",
    "# it is norm that the programmers are sensible and they would be able to understand that if a varible is protected then they should not call it outside the class although they could.\n",
    "class Vehicle:\n",
    "    def __init__(self, color, maxSpeed):\n",
    "        self.color = color\n",
    "        # As maxSpeed here has a single underscore, it is a protected member of the class, bub none the less we can use it outside although it is good not to.\n",
    "        self._maxSpeed = maxSpeed\n",
    "\n",
    "    def getMaxSpeed(self):\n",
    "        return self._maxSpeed\n",
    "    \n",
    "    def setMaxSpeed(self, maxSpeed):\n",
    "        self._maxSpeed = maxSpeed\n",
    "\n",
    "    def print(self):\n",
    "        print('Color :', self.color)\n",
    "        print('MaxSpeed :', self._maxSpeed)    \n",
    "    \n",
    "class Car(Vehicle):\n",
    "    def __init__(self, color, maxSpeed, numGears, isConvertable):\n",
    "        super().__init__(color, maxSpeed)\n",
    "        self.numGears = numGears\n",
    "        self.isConvertable = isConvertable\n",
    "    \n",
    "    def printCar(self):\n",
    "        print('Color :', self.color)\n",
    "        # Although we can access maxSpeed like this we should not as it was labled as a protected member as it has a underscore in the beggeneing\n",
    "        print('MaxSpeed :', self._maxSpeed)\n",
    "        #super().print()\n",
    "        print('No of Gears', self.numGears)\n",
    "        print('Is Convertable', self.isConvertable)\n",
    "        \n",
    "c = Car('red', 15, 3, False)\n",
    "c.printCar() \n",
    "print()\n",
    "v = Vehicle('red',18)\n",
    "v.print()\n",
    "print()\n",
    "# We can also modify the protected varible outside the inherited class, oviously this should not be done\n",
    "v._maxSpeed = 19\n",
    "v.print()\n"
   ],
   "outputs": [
    {
     "output_type": "stream",
     "name": "stdout",
     "text": [
      "Color : red\n",
      "MaxSpeed : 15\n",
      "No of Gears 3\n",
      "Is Convertable False\n",
      "\n",
      "Color : red\n",
      "MaxSpeed : 18\n",
      "\n",
      "Color : red\n",
      "MaxSpeed : 19\n"
     ]
    }
   ],
   "metadata": {}
  },
  {
   "cell_type": "markdown",
   "source": [
    "## Object Class"
   ],
   "metadata": {}
  },
  {
   "cell_type": "markdown",
   "source": [
    "\n",
    "By default any class, even if it is not inhereting from any class as such it inherites from the object class.  \n",
    "There are 3 method that the object class gives -   \n",
    "1. __init__ - Used to initialise the objects, hence we override the class.  \n",
    "2. __new__- Used to create new objects, generally we would not be overwriting this class.   \n",
    "3. __str__ - Used to provide a description to a class.\n"
   ],
   "metadata": {}
  },
  {
   "cell_type": "code",
   "execution_count": 11,
   "source": [
    "#It is same as writing Circle(object)\n",
    "class Circle:\n",
    "     \n",
    "    # We would like to see what a given class does. So we can use the __str__ function to give the description to a class.\n",
    "    # We are overriding the class be default the class would return <__main__.Circle object at 0x7f1dbc54cf70> the location where the class object is stored\n",
    "    def __str__(self):\n",
    "        return \"This is a Circle class which takes the radius as argument.\"\n",
    "    \n",
    "    def __init__(self, radius):\n",
    "        self.radius = radius\n",
    "    \n",
    "c = Circle(3)\n",
    "print(c)"
   ],
   "outputs": [
    {
     "output_type": "stream",
     "name": "stdout",
     "text": [
      "This is a Circle class which takes the radius as argument.\n"
     ]
    }
   ],
   "metadata": {}
  }
 ],
 "metadata": {
  "orig_nbformat": 4,
  "language_info": {
   "name": "python",
   "version": "3.8.5",
   "mimetype": "text/x-python",
   "codemirror_mode": {
    "name": "ipython",
    "version": 3
   },
   "pygments_lexer": "ipython3",
   "nbconvert_exporter": "python",
   "file_extension": ".py"
  },
  "kernelspec": {
   "name": "python3",
   "display_name": "Python 3.8.5 64-bit ('base': conda)"
  },
  "interpreter": {
   "hash": "682cbd65bec36bb5780b3cd03d8f98f09d815121554481962b3929c5a83bba13"
  }
 },
 "nbformat": 4,
 "nbformat_minor": 2
}