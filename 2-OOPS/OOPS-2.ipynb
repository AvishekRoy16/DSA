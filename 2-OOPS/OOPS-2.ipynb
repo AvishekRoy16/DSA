{
 "cells": [
  {
   "cell_type": "markdown",
   "source": [
    "# Object Oriented Programming - Part 2"
   ],
   "metadata": {}
  },
  {
   "cell_type": "markdown",
   "source": [
    "## Inheritance"
   ],
   "metadata": {}
  },
  {
   "cell_type": "code",
   "execution_count": 4,
   "source": [
    "class Vehicle:\n",
    "    def __init__(self, color, maxSpeed):\n",
    "        self.color = color\n",
    "        self.maxSpeed = maxSpeed\n",
    "\n",
    "# The Car class is inheriting from the Vehicle class\n",
    "class Car(Vehicle):\n",
    "    def __init__(self, color, maxSpeed, numGears, isConvertable):\n",
    "        # Whenever we want to go to the parent class we can use super\n",
    "        super().__init__(color, maxSpeed)\n",
    "        self.numGears = numGears\n",
    "        self.isConvertable = isConvertable\n",
    "    \n",
    "    def printCar(self):\n",
    "        print('Color :', self.color)\n",
    "        print('MaxSpeed :', self.maxSpeed)\n",
    "        print('No of Gears', self.numGears)\n",
    "        print('Is Convertable', self.isConvertable)\n",
    "        \n",
    "c = Car('red', 15, 3, False)\n",
    "c.printCar()"
   ],
   "outputs": [
    {
     "output_type": "stream",
     "name": "stdout",
     "text": [
      "Color : red\n",
      "MaxSpeed : 15\n",
      "No of Gears 3\n",
      "Is Convertable False\n"
     ]
    }
   ],
   "metadata": {}
  },
  {
   "cell_type": "code",
   "execution_count": 7,
   "source": [
    "class Vehicle:\n",
    "    def __init__(self, color, maxSpeed):\n",
    "        self.color = color\n",
    "        # if we make the maxspeed variable private inside the class then we would not be able access it insdie the inhereting classes.\n",
    "        # We can make seperate fnction for getting and setting the values of maxspeed if we wanted to\n",
    "        self.__maxSpeed = maxSpeed\n",
    "\n",
    "    def getMaxSpeed(self):\n",
    "        return self.__maxSpeed\n",
    "    \n",
    "    def setMaxSpeed(self, maxSpeed):\n",
    "        self.__maxSpeed = maxSpeed\n",
    "    \n",
    "# The Car class is inheriting from the Vehicle class\n",
    "class Car(Vehicle):\n",
    "    def __init__(self, color, maxSpeed, numGears, isConvertable):\n",
    "        # Whenever we want to go to the parent class we can use super\n",
    "        super().__init__(color, maxSpeed)\n",
    "        self.numGears = numGears\n",
    "        self.isConvertable = isConvertable\n",
    "    \n",
    "    def printCar(self):\n",
    "        print('Color :', self.color)\n",
    "        # We cannot use maxspeed as it is a private funciton now, in it's place we have used get and set function named getMaxSpeed and setMaxspeed\n",
    "        print('MaxSpeed :', self.getMaxSpeed())\n",
    "        print('No of Gears', self.numGears)\n",
    "        print('Is Convertable', self.isConvertable)\n",
    "        \n",
    "c = Car('red', 15, 3, False)\n",
    "c.printCar()    "
   ],
   "outputs": [
    {
     "output_type": "stream",
     "name": "stdout",
     "text": [
      "Color : red\n",
      "MaxSpeed : 15\n",
      "No of Gears 3\n",
      "Is Convertable False\n"
     ]
    }
   ],
   "metadata": {}
  }
 ],
 "metadata": {
  "orig_nbformat": 4,
  "language_info": {
   "name": "python",
   "version": "3.8.5",
   "mimetype": "text/x-python",
   "codemirror_mode": {
    "name": "ipython",
    "version": 3
   },
   "pygments_lexer": "ipython3",
   "nbconvert_exporter": "python",
   "file_extension": ".py"
  },
  "kernelspec": {
   "name": "python3",
   "display_name": "Python 3.8.5 64-bit ('base': conda)"
  },
  "interpreter": {
   "hash": "682cbd65bec36bb5780b3cd03d8f98f09d815121554481962b3929c5a83bba13"
  }
 },
 "nbformat": 4,
 "nbformat_minor": 2
}