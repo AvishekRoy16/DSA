{
 "cells": [
  {
   "cell_type": "markdown",
   "source": [
    "# Object Oriented Programming - Part 2"
   ],
   "metadata": {}
  },
  {
   "cell_type": "markdown",
   "source": [
    "## Inheritance"
   ],
   "metadata": {}
  },
  {
   "cell_type": "code",
   "execution_count": 4,
   "source": [
    "class Vehicle:\n",
    "    def __init__(self, color, maxSpeed):\n",
    "        self.color = color\n",
    "        self.maxSpeed = maxSpeed\n",
    "\n",
    "# The Car class is inheriting from the Vehicle class\n",
    "class Car(Vehicle):\n",
    "    def __init__(self, color, maxSpeed, numGears, isConvertable):\n",
    "        # Whenever we want to go to the parent class we can use super\n",
    "        super().__init__(color, maxSpeed)\n",
    "        self.numGears = numGears\n",
    "        self.isConvertable = isConvertable\n",
    "    \n",
    "    def printCar(self):\n",
    "        print('Color :', self.color)\n",
    "        print('MaxSpeed :', self.maxSpeed)\n",
    "        print('No of Gears', self.numGears)\n",
    "        print('Is Convertable', self.isConvertable)\n",
    "        \n",
    "c = Car('red', 15, 3, False)\n",
    "c.printCar()"
   ],
   "outputs": [
    {
     "output_type": "stream",
     "name": "stdout",
     "text": [
      "Color : red\n",
      "MaxSpeed : 15\n",
      "No of Gears 3\n",
      "Is Convertable False\n"
     ]
    }
   ],
   "metadata": {}
  },
  {
   "cell_type": "code",
   "execution_count": 7,
   "source": [
    "class Vehicle:\n",
    "    def __init__(self, color, maxSpeed):\n",
    "        self.color = color\n",
    "        # if we make the maxspeed variable private inside the class then we would not be able access it insdie the inhereting classes.\n",
    "        # We can make seperate fnction for getting and setting the values of maxspeed if we wanted to\n",
    "        self.__maxSpeed = maxSpeed\n",
    "\n",
    "    def getMaxSpeed(self):\n",
    "        return self.__maxSpeed\n",
    "    \n",
    "    def setMaxSpeed(self, maxSpeed):\n",
    "        self.__maxSpeed = maxSpeed\n",
    "    \n",
    "# The Car class is inheriting from the Vehicle class\n",
    "class Car(Vehicle):\n",
    "    def __init__(self, color, maxSpeed, numGears, isConvertable):\n",
    "        # Whenever we want to go to the parent class we can use super\n",
    "        super().__init__(color, maxSpeed)\n",
    "        self.numGears = numGears\n",
    "        self.isConvertable = isConvertable\n",
    "    \n",
    "    def printCar(self):\n",
    "        print('Color :', self.color)\n",
    "        # We cannot use maxspeed as it is a private funciton now, in it's place we have used get and set function named getMaxSpeed and setMaxspeed\n",
    "        print('MaxSpeed :', self.getMaxSpeed())\n",
    "        print('No of Gears', self.numGears)\n",
    "        print('Is Convertable', self.isConvertable)\n",
    "        \n",
    "c = Car('red', 15, 3, False)\n",
    "c.printCar()    "
   ],
   "outputs": [
    {
     "output_type": "stream",
     "name": "stdout",
     "text": [
      "Color : red\n",
      "MaxSpeed : 15\n",
      "No of Gears 3\n",
      "Is Convertable False\n"
     ]
    }
   ],
   "metadata": {}
  },
  {
   "cell_type": "code",
   "execution_count": 1,
   "source": [
    "class Vehicle:\n",
    "    def __init__(self, color, maxSpeed):\n",
    "        self.color = color\n",
    "        self.__maxSpeed = maxSpeed\n",
    "\n",
    "    def getMaxSpeed(self):\n",
    "        return self.__maxSpeed\n",
    "    \n",
    "    def setMaxSpeed(self, maxSpeed):\n",
    "        self.__maxSpeed = maxSpeed\n",
    "\n",
    "    def print(self):\n",
    "        print('Color :', self.color)\n",
    "        print('MaxSpeed :', self.__maxSpeed)    \n",
    "    \n",
    "class Car(Vehicle):\n",
    "    def __init__(self, color, maxSpeed, numGears, isConvertable):\n",
    "        super().__init__(color, maxSpeed)\n",
    "        self.numGears = numGears\n",
    "        self.isConvertable = isConvertable\n",
    "    \n",
    "    def printCar(self):\n",
    "    # The color and maxSpeed of the Car is inherited from the Cehcle class so it should be their responsibility  to print it.\n",
    "    # Therefore, we have created a print funciton in Vehicle class itself and we are calliing it inside this function using super\n",
    "    # Insted of using super here we can also call self.print as the inherited class inherits all the functions of the parent class as well\n",
    "        super().print() # We can also write 'self.print' here in place of this\n",
    "        print('No of Gears', self.numGears)\n",
    "        print('Is Convertable', self.isConvertable)\n",
    "        \n",
    "c = Car('red', 15, 3, False)\n",
    "c.printCar() "
   ],
   "outputs": [
    {
     "output_type": "stream",
     "name": "stdout",
     "text": [
      "Color : red\n",
      "MaxSpeed : 15\n",
      "No of Gears 3\n",
      "Is Convertable False\n"
     ]
    }
   ],
   "metadata": {}
  },
  {
   "cell_type": "markdown",
   "source": [
    "## Polymorphism"
   ],
   "metadata": {}
  },
  {
   "cell_type": "code",
   "execution_count": null,
   "source": [
    "class Vehicle:\n",
    "    def __init__(self, color, maxSpeed):\n",
    "        self.color = color\n",
    "        self.__maxSpeed = maxSpeed\n",
    "\n",
    "    def getMaxSpeed(self):\n",
    "        return self.__maxSpeed\n",
    "    \n",
    "    def setMaxSpeed(self, maxSpeed):\n",
    "        self.__maxSpeed = maxSpeed\n",
    "\n",
    "    def print(self):\n",
    "        print('Color :', self.color)\n",
    "        print('MaxSpeed :', self.__maxSpeed)    \n",
    "    \n",
    "class Car(Vehicle):\n",
    "    def __init__(self, color, maxSpeed, numGears, isConvertable):\n",
    "        super().__init__(color, maxSpeed)\n",
    "        self.numGears = numGears\n",
    "        self.isConvertable = isConvertable\n",
    "    \n",
    "    def printCar(self):\n",
    "    # C.peint in the last line of this code block makes call to this function - printCar\n",
    "    # if we change the name of the function to be print then we will have 2 print funtions one from the parent class and the other this function itself.\n",
    "    # Whent the code c.print() we run then this function will be called, but in case this function did not exist we would call the print function from the parent class.\n",
    "    # In case that the name of the two function are same in the parent class and the inhereted class then we cannot do 'self.print() in place of super.print()\n",
    "    # As that would give us a recursion error as there would be no base case as it is not a recursion problem, \n",
    "    # hence it is a good practice to use super.print() when callin functions from parent class\n",
    "        super().print() # We can also write 'self.print' here in place of this\n",
    "        print('No of Gears', self.numGears)\n",
    "        print('Is Convertable', self.isConvertable)\n",
    "        \n",
    "c = Car('red', 15, 3, False)\n",
    "c.printCar() "
   ],
   "outputs": [],
   "metadata": {}
  },
  {
   "cell_type": "markdown",
   "source": [
    "<h3>Predict the Output</h3>\n",
    "<pre>\n",
    "1.\n",
    "INPUT\n",
    "class Vehicle:\n",
    "    def __init__(self,color):\n",
    "        self.color = color\n",
    "    def print(self):\n",
    "        print(c.color,end=””)\n",
    "class Car(Vehicle):\n",
    "    def __init__(self,color,numGears):\n",
    "        super().__init__(color)\n",
    "        self.numGears = numGears\n",
    "    def print(self):\n",
    "       print(c.color,end=”” )\n",
    "       print(c.numGears)\n",
    "c = Car(“black”,5)\n",
    "c.print()\n",
    "----------------------------------------\n",
    "black 5\n",
    "----------------------------------------\n",
    "2.\n",
    "INPUT\n",
    "class Vehicle:\n",
    "    def __init__(self,color):\n",
    "        self.color = color\n",
    "    def print(self):\n",
    "        print(c.color,end=””)\n",
    "class Car(Vehicle):\n",
    "    def __init__(self,color,numGears):\n",
    "        super().__init__(color)\n",
    "        self.numGears = numGears\n",
    "    def print(self):\n",
    "       self.print()\n",
    "       print(c.numGears)\n",
    "c = Car(“black”,5)\n",
    "c.print()\n",
    "-------------------------------------------\n",
    "RecursionError: maximum recursion depth exceeded\n",
    "\n",
    "</pre>"
   ],
   "metadata": {}
  },
  {
   "cell_type": "markdown",
   "source": [],
   "metadata": {}
  }
 ],
 "metadata": {
  "orig_nbformat": 4,
  "language_info": {
   "name": "python",
   "version": "3.8.5",
   "mimetype": "text/x-python",
   "codemirror_mode": {
    "name": "ipython",
    "version": 3
   },
   "pygments_lexer": "ipython3",
   "nbconvert_exporter": "python",
   "file_extension": ".py"
  },
  "kernelspec": {
   "name": "python3",
   "display_name": "Python 3.8.5 64-bit ('base': conda)"
  },
  "interpreter": {
   "hash": "682cbd65bec36bb5780b3cd03d8f98f09d815121554481962b3929c5a83bba13"
  }
 },
 "nbformat": 4,
 "nbformat_minor": 2
}