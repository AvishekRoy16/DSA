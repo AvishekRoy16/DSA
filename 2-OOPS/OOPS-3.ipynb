{
 "cells": [
  {
   "cell_type": "markdown",
   "source": [
    "# OBJECT ORIENTED PROGRAMMING - PART - 2"
   ],
   "metadata": {}
  },
  {
   "cell_type": "markdown",
   "source": [
    "## Abstract Classes & Methods"
   ],
   "metadata": {}
  },
  {
   "cell_type": "code",
   "execution_count": 4,
   "source": [
    "from abc import ABC, abstractmethod\n",
    "\n",
    "# The classes which have abstact methods are defined as abstract classes.\n",
    "class Automobile(ABC):\n",
    "    \n",
    "    def __init__(self):\n",
    "        print(\"Automobile created\")\n",
    "    \n",
    "    \n",
    "    @abstractmethod\n",
    "    def start(self):\n",
    "        pass\n",
    "    \n",
    "    @abstractmethod\n",
    "    def stop(self):\n",
    "        pass\n",
    "    \n",
    "    @abstractmethod\n",
    "    def drive(self):\n",
    "        pass\n",
    "\n",
    "# Objects of abstract class can't be created. So we can't do -> c = Automobile()\n",
    "\n",
    "class Car(Automobile):\n",
    "    \n",
    "    def __init__(self, name):\n",
    "        print(\"Car Created\")\n",
    "        # We can't go funrther and do -> c = Car('Honda'), as there are abstract methods in the Automobile class. So we have to implement these fucntions such as stop start and drive\n",
    "        self.name = name\n",
    "        \n",
    "    def start(self):\n",
    "        pass\n",
    "    \n",
    "    def stop(self):\n",
    "        pass\n",
    "    \n",
    "    def drive(self):\n",
    "        pass\n",
    "    \n",
    "c = Car('Honda')\n",
    "# if we leave the c = Car() empty it will print Automobile created as we it will go to the parent class when it does not find anything in this particular class."
   ],
   "outputs": [
    {
     "output_type": "stream",
     "name": "stdout",
     "text": [
      "Car Created\n"
     ]
    }
   ],
   "metadata": {}
  },
  {
   "cell_type": "markdown",
   "source": [
    "NOTES:  \n",
    "* Objects of abstract class can't be created  \n",
    "* Implement all the abstract methods in the child class  "
   ],
   "metadata": {}
  }
 ],
 "metadata": {
  "orig_nbformat": 4,
  "language_info": {
   "name": "python",
   "version": "3.8.5",
   "mimetype": "text/x-python",
   "codemirror_mode": {
    "name": "ipython",
    "version": 3
   },
   "pygments_lexer": "ipython3",
   "nbconvert_exporter": "python",
   "file_extension": ".py"
  },
  "kernelspec": {
   "name": "python3",
   "display_name": "Python 3.8.5 64-bit ('base': conda)"
  },
  "interpreter": {
   "hash": "682cbd65bec36bb5780b3cd03d8f98f09d815121554481962b3929c5a83bba13"
  }
 },
 "nbformat": 4,
 "nbformat_minor": 2
}