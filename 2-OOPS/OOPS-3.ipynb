{
 "cells": [
  {
   "cell_type": "markdown",
   "source": [
    "# OBJECT ORIENTED PROGRAMMING - PART - 2"
   ],
   "metadata": {}
  },
  {
   "cell_type": "markdown",
   "source": [
    "## Abstract Classes & Methods"
   ],
   "metadata": {}
  },
  {
   "cell_type": "code",
   "execution_count": 1,
   "source": [
    "from abc import ABC, abstractmethod\r\n",
    "\r\n",
    "# The classes which have abstact methods are defined as abstract classes.\r\n",
    "class Automobile(ABC):\r\n",
    "    \r\n",
    "    def __init__(self):\r\n",
    "        print(\"Automobile created\")\r\n",
    "    \r\n",
    "    \r\n",
    "    @abstractmethod\r\n",
    "    def start(self):\r\n",
    "        pass\r\n",
    "    \r\n",
    "    @abstractmethod\r\n",
    "    def stop(self):\r\n",
    "        pass\r\n",
    "    \r\n",
    "    @abstractmethod\r\n",
    "    def drive(self):\r\n",
    "        pass\r\n",
    "\r\n",
    "# Objects of abstract class can't be created. So we can't do -> c = Automobile()\r\n",
    "\r\n",
    "class Car(Automobile):\r\n",
    "    \r\n",
    "    def __init__(self, name):\r\n",
    "        print(\"Car Created\")\r\n",
    "        # We can't go funrther and do -> c = Car('Honda'), as there are abstract methods in the Automobile class. So we have to implement these fucntions such as stop start and drive\r\n",
    "        self.name = name\r\n",
    "        \r\n",
    "    def start(self):\r\n",
    "        pass\r\n",
    "    \r\n",
    "    def stop(self):\r\n",
    "        pass\r\n",
    "    \r\n",
    "    def drive(self):\r\n",
    "        pass\r\n",
    "    \r\n",
    "c = Car('Honda')\r\n",
    "# if we leave the c = Car() empty it will print Automobile created as we it will go to the parent class when it does not find anything in this particular class."
   ],
   "outputs": [
    {
     "output_type": "stream",
     "name": "stdout",
     "text": [
      "Car Created\n"
     ]
    }
   ],
   "metadata": {}
  },
  {
   "cell_type": "markdown",
   "source": [
    "NOTES:  \n",
    "* Objects of abstract class can't be created  \n",
    "* Implement all the abstract methods in the child class  "
   ],
   "metadata": {}
  },
  {
   "cell_type": "code",
   "execution_count": 2,
   "source": [
    "from abc import ABC, abstractmethod\r\n",
    "\r\n",
    "\r\n",
    "class Automobile(ABC):\r\n",
    "    \r\n",
    "    def __init__(self, no_of_wheels):\r\n",
    "        print(\"Automobile created\")\r\n",
    "        self.no_of_wheels = no_of_wheels\r\n",
    "    \r\n",
    "    # We can wrote code inside the abstract method too\r\n",
    "    @abstractmethod\r\n",
    "    def start(self):\r\n",
    "        print(\"Start of Automobile\")\r\n",
    "    \r\n",
    "    @abstractmethod\r\n",
    "    def stop(self):\r\n",
    "        print(\"Stop of Automobile\")\r\n",
    "    \r\n",
    "    @abstractmethod\r\n",
    "    def drive(self):\r\n",
    "        pass\r\n",
    "    \r\n",
    "    @abstractmethod\r\n",
    "    def get_no_of_wheels(self):\r\n",
    "        return self.no_of_wheels\r\n",
    "\r\n",
    "\r\n",
    "class Car(Automobile):\r\n",
    "        \r\n",
    "    def start(self):\r\n",
    "        #If we need to call the stat of the abstract class as well \r\n",
    "        super().start()\r\n",
    "        print(\"Start of car, called\")\r\n",
    "    \r\n",
    "    def stop(self):\r\n",
    "        pass\r\n",
    "    \r\n",
    "    def drive(self):\r\n",
    "        pass\r\n",
    "    \r\n",
    "    def get_no_of_wheels(self):\r\n",
    "        return super().get_no_of_wheels()\r\n",
    "        \r\n",
    "    \r\n",
    "class Bus(Automobile):\r\n",
    "           \r\n",
    "    def start(self):\r\n",
    "        \r\n",
    "        print(\"Start of Bus, called\")\r\n",
    "    \r\n",
    "    def stop(self):\r\n",
    "        pass\r\n",
    "    \r\n",
    "    def drive(self):\r\n",
    "        pass\r\n",
    "    \r\n",
    "    def get_no_of_wheels(self):\r\n",
    "        return super().get_no_of_wheels()\r\n",
    "\r\n",
    "c = Car(4)\r\n",
    "b = Bus(8)\r\n",
    "print (c.get_no_of_wheels())"
   ],
   "outputs": [
    {
     "output_type": "stream",
     "name": "stdout",
     "text": [
      "Automobile created\n",
      "Automobile created\n",
      "4\n"
     ]
    }
   ],
   "metadata": {}
  },
  {
   "cell_type": "markdown",
   "source": [
    "## Into to Exeption Handeling "
   ],
   "metadata": {}
  },
  {
   "cell_type": "code",
   "execution_count": 5,
   "source": [
    "# if we want to run the code again and again\r\n",
    "while(1): \r\n",
    "    try:\r\n",
    "        n = input('Enter the numerator')\r\n",
    "        num = int(n)\r\n",
    "\r\n",
    "        n = input('Enter the denominator')\r\n",
    "        den = int(n)\r\n",
    "\r\n",
    "        value = num/den\r\n",
    "        print(value)\r\n",
    "        # The code will break when we give correct inputs\r\n",
    "        break\r\n",
    "    # If we get any value error then this message will be displayed.\r\n",
    "    except ValueError:\r\n",
    "        print('Numerator and Denominator should be integers')"
   ],
   "outputs": [
    {
     "output_type": "stream",
     "name": "stdout",
     "text": [
      "Numerator and Denominator should be integers\n",
      "1.5\n"
     ]
    }
   ],
   "metadata": {}
  }
 ],
 "metadata": {
  "orig_nbformat": 4,
  "language_info": {
   "name": "python",
   "version": "3.8.8",
   "mimetype": "text/x-python",
   "codemirror_mode": {
    "name": "ipython",
    "version": 3
   },
   "pygments_lexer": "ipython3",
   "nbconvert_exporter": "python",
   "file_extension": ".py"
  },
  "kernelspec": {
   "name": "python3",
   "display_name": "Python 3.8.8 64-bit ('base': conda)"
  },
  "interpreter": {
   "hash": "96eb50e1d44aed467dc8f759cb08c32fbfa9babcf79c554e2d0e5feb04653a10"
  }
 },
 "nbformat": 4,
 "nbformat_minor": 2
}