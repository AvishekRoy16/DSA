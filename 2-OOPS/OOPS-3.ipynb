{
 "cells": [
  {
   "cell_type": "markdown",
   "source": [
    "# OBJECT ORIENTED PROGRAMMING - PART - 2"
   ],
   "metadata": {}
  },
  {
   "cell_type": "markdown",
   "source": [
    "## Abstract Classes & Methods"
   ],
   "metadata": {}
  },
  {
   "cell_type": "code",
   "execution_count": 1,
   "source": [
    "from abc import ABC, abstractmethod\r\n",
    "\r\n",
    "# The classes which have abstact methods are defined as abstract classes.\r\n",
    "class Automobile(ABC):\r\n",
    "    \r\n",
    "    def __init__(self):\r\n",
    "        print(\"Automobile created\")\r\n",
    "    \r\n",
    "    \r\n",
    "    @abstractmethod\r\n",
    "    def start(self):\r\n",
    "        pass\r\n",
    "    \r\n",
    "    @abstractmethod\r\n",
    "    def stop(self):\r\n",
    "        pass\r\n",
    "    \r\n",
    "    @abstractmethod\r\n",
    "    def drive(self):\r\n",
    "        pass\r\n",
    "\r\n",
    "# Objects of abstract class can't be created. So we can't do -> c = Automobile()\r\n",
    "\r\n",
    "class Car(Automobile):\r\n",
    "    \r\n",
    "    def __init__(self, name):\r\n",
    "        print(\"Car Created\")\r\n",
    "        # We can't go funrther and do -> c = Car('Honda'), as there are abstract methods in the Automobile class. So we have to implement these fucntions such as stop start and drive\r\n",
    "        self.name = name\r\n",
    "        \r\n",
    "    def start(self):\r\n",
    "        pass\r\n",
    "    \r\n",
    "    def stop(self):\r\n",
    "        pass\r\n",
    "    \r\n",
    "    def drive(self):\r\n",
    "        pass\r\n",
    "    \r\n",
    "c = Car('Honda')\r\n",
    "# if we leave the c = Car() empty it will print Automobile created as we it will go to the parent class when it does not find anything in this particular class."
   ],
   "outputs": [
    {
     "output_type": "stream",
     "name": "stdout",
     "text": [
      "Car Created\n"
     ]
    }
   ],
   "metadata": {}
  },
  {
   "cell_type": "markdown",
   "source": [
    "NOTES:  \r\n",
    "* Objects of abstract class can't be created  \r\n",
    "* Implement all the abstract methods in the child class  "
   ],
   "metadata": {}
  },
  {
   "cell_type": "code",
   "execution_count": 2,
   "source": [
    "from abc import ABC, abstractmethod\r\n",
    "\r\n",
    "\r\n",
    "class Automobile(ABC):\r\n",
    "    \r\n",
    "    def __init__(self, no_of_wheels):\r\n",
    "        print(\"Automobile created\")\r\n",
    "        self.no_of_wheels = no_of_wheels\r\n",
    "    \r\n",
    "    # We can wrote code inside the abstract method too\r\n",
    "    @abstractmethod\r\n",
    "    def start(self):\r\n",
    "        print(\"Start of Automobile\")\r\n",
    "    \r\n",
    "    @abstractmethod\r\n",
    "    def stop(self):\r\n",
    "        print(\"Stop of Automobile\")\r\n",
    "    \r\n",
    "    @abstractmethod\r\n",
    "    def drive(self):\r\n",
    "        pass\r\n",
    "    \r\n",
    "    @abstractmethod\r\n",
    "    def get_no_of_wheels(self):\r\n",
    "        return self.no_of_wheels\r\n",
    "\r\n",
    "\r\n",
    "class Car(Automobile):\r\n",
    "        \r\n",
    "    def start(self):\r\n",
    "        #If we need to call the stat of the abstract class as well \r\n",
    "        super().start()\r\n",
    "        print(\"Start of car, called\")\r\n",
    "    \r\n",
    "    def stop(self):\r\n",
    "        pass\r\n",
    "    \r\n",
    "    def drive(self):\r\n",
    "        pass\r\n",
    "    \r\n",
    "    def get_no_of_wheels(self):\r\n",
    "        return super().get_no_of_wheels()\r\n",
    "        \r\n",
    "    \r\n",
    "class Bus(Automobile):\r\n",
    "           \r\n",
    "    def start(self):\r\n",
    "        \r\n",
    "        print(\"Start of Bus, called\")\r\n",
    "    \r\n",
    "    def stop(self):\r\n",
    "        pass\r\n",
    "    \r\n",
    "    def drive(self):\r\n",
    "        pass\r\n",
    "    \r\n",
    "    def get_no_of_wheels(self):\r\n",
    "        return super().get_no_of_wheels()\r\n",
    "\r\n",
    "c = Car(4)\r\n",
    "b = Bus(8)\r\n",
    "print (c.get_no_of_wheels())"
   ],
   "outputs": [
    {
     "output_type": "stream",
     "name": "stdout",
     "text": [
      "Automobile created\n",
      "Automobile created\n",
      "4\n"
     ]
    }
   ],
   "metadata": {}
  },
  {
   "cell_type": "markdown",
   "source": [
    "## Into to Exeption Handeling "
   ],
   "metadata": {}
  },
  {
   "cell_type": "code",
   "execution_count": 5,
   "source": [
    "# if we want to run the code again and again\r\n",
    "while(1): \r\n",
    "    try:\r\n",
    "        n = input('Enter the numerator')\r\n",
    "        num = int(n)\r\n",
    "\r\n",
    "        n = input('Enter the denominator')\r\n",
    "        den = int(n)\r\n",
    "\r\n",
    "        value = num/den\r\n",
    "        print(value)\r\n",
    "        # The code will break when we give correct inputs\r\n",
    "        break\r\n",
    "    # If we get any value error then this message will be displayed.\r\n",
    "    except ValueError:\r\n",
    "        print('Numerator and Denominator should be integers')"
   ],
   "outputs": [
    {
     "output_type": "stream",
     "name": "stdout",
     "text": [
      "Numerator and Denominator should be integers\n",
      "1.5\n"
     ]
    }
   ],
   "metadata": {}
  },
  {
   "cell_type": "markdown",
   "source": [
    "Predict the output\r\n",
    "<pre>\r\n",
    "\r\n",
    "1.\r\n",
    "INPUT\r\n",
    "try:\r\n",
    "    a = 10\r\n",
    "    b = 0\r\n",
    "    c = a/b\r\n",
    "    print(c)\r\n",
    "except ZeroDivisionError:\r\n",
    "    print(“Exception occured”)\r\n",
    "OUTPUT\r\n",
    "Exeption Occured\r\n",
    "------------------------\r\n",
    "2.\r\n",
    "INPUT\r\n",
    "try:\r\n",
    "    a = 10\r\n",
    "    b = 0\r\n",
    "    c = a/b\r\n",
    "    print(c)\r\n",
    "except :\r\n",
    "    print(“Exception occured”)\r\n",
    "OUTPUT\r\n",
    "Exeption ocured\r\n",
    "-----------------------\r\n",
    "3.\r\n",
    "INPUT\r\n",
    "try:\r\n",
    "    a = 10\r\n",
    "    b = 0\r\n",
    "    c = a/b\r\n",
    "    print(c)\r\n",
    "except ValueError:\r\n",
    "    print(“Exception occured”)\r\n",
    "OUTPUT\r\n",
    "ZeroDivisionError\r\n",
    "</pre>"
   ],
   "metadata": {}
  },
  {
   "cell_type": "markdown",
   "source": [
    "## Handeling Multiple Exeptions"
   ],
   "metadata": {}
  },
  {
   "cell_type": "code",
   "execution_count": 2,
   "source": [
    "# If we have multiple exeptions then we can handle them by adding another except in with the try\r\n",
    "while True  : \r\n",
    "    try:\r\n",
    "        n = input('Enter the numerator')\r\n",
    "        num = int(n)\r\n",
    "\r\n",
    "        n = input('Enter the denominator')\r\n",
    "        den = int(n)\r\n",
    "\r\n",
    "        value = num/den\r\n",
    "        print(value)\r\n",
    "        # The code will break when we give correct inputs\r\n",
    "        break\r\n",
    "    # If we get any value error then this message will be displayed.\r\n",
    "    except ValueError:\r\n",
    "        print('Numerator and Denominator should be integers')\r\n",
    "    # If the user enters zero as denominator this message wil be displayed.\r\n",
    "    except ZeroDivisionError:\r\n",
    "        print('Denominator must not be zero')"
   ],
   "outputs": [
    {
     "output_type": "stream",
     "name": "stdout",
     "text": [
      "Denominator must not be zero\n",
      "0.2857142857142857\n"
     ]
    }
   ],
   "metadata": {}
  },
  {
   "cell_type": "code",
   "execution_count": 3,
   "source": [
    "# If we want to print the same error for value error and zero division error we can do that as well\r\n",
    "while True  : \r\n",
    "    try:\r\n",
    "        n = input('Enter the numerator')\r\n",
    "        num = int(n)\r\n",
    "\r\n",
    "        n = input('Enter the denominator')\r\n",
    "        den = int(n)\r\n",
    "\r\n",
    "        value = num/den\r\n",
    "        print(value)\r\n",
    "        # The code will break when we give correct inputs\r\n",
    "        break\r\n",
    "    # If we get any value error then this message will be displayed.\r\n",
    "    except (ValueError, ZeroDivisionError):\r\n",
    "        print('Numerator and Denominator should be integers nad denominator must not be zero')"
   ],
   "outputs": [
    {
     "output_type": "stream",
     "name": "stdout",
     "text": [
      "Numerator and Denominator should be integers nad denominator must not be zero\n",
      "Numerator and Denominator should be integers nad denominator must not be zero\n",
      "0.75\n"
     ]
    }
   ],
   "metadata": {}
  },
  {
   "cell_type": "markdown",
   "source": [
    "## Custom Exeptions"
   ],
   "metadata": {}
  },
  {
   "cell_type": "code",
   "execution_count": 10,
   "source": [
    "# Firstly lets see how to raise exeption when the code is not doing it by itself\r\n",
    "while True  : \r\n",
    "    try:\r\n",
    "        n = input('Enter the numerator')\r\n",
    "        num = int(n)\r\n",
    "\r\n",
    "        n = input('Enter the denominator')\r\n",
    "        den = int(n)\r\n",
    "        \r\n",
    "        # Raisingour own exeptions\r\n",
    "        if den == 0:\r\n",
    "            raise ZeroDivisionError\r\n",
    "        # The first error is solved by the raise, hence it did not even go to value and hence did not print the statement below before the exeption.\r\n",
    "        print('The Code has not reached this print yet')\r\n",
    "        \r\n",
    "        value = num/den\r\n",
    "        print(value)\r\n",
    "        break\r\n",
    "    except ValueError:\r\n",
    "        print('Numerator and Denominator should be integers')\r\n",
    "    # If the user enters zero as denominator this message wil be displayed.\r\n",
    "    except ZeroDivisionError:\r\n",
    "        print('Denominator must not be zero')"
   ],
   "outputs": [
    {
     "output_type": "stream",
     "name": "stdout",
     "text": [
      "Denominator must not be zero\n",
      "Numerator and Denominator should be integers\n",
      "The Code has not reached this print yet\n",
      "0.8\n"
     ]
    }
   ],
   "metadata": {}
  },
  {
   "cell_type": "code",
   "execution_count": 13,
   "source": [
    "# To create our own exeptions, we need to make classes inheriting from 'Exeption' class which is an inbuilt python class\r\n",
    "class ZeroDenominatorExeption(Exception):\r\n",
    "    pass\r\n",
    "\r\n",
    "while True  : \r\n",
    "    try:\r\n",
    "        n = input('Enter the numerator')\r\n",
    "        num = int(n)\r\n",
    "\r\n",
    "        n = input('Enter the denominator')\r\n",
    "        den = int(n)\r\n",
    "        \r\n",
    "        # Raising our own exeptions\r\n",
    "        if den == 0:\r\n",
    "            raise ZeroDenominatorExeption('Denominator should not be zero')\r\n",
    "        \r\n",
    "        value = num/den\r\n",
    "        print(value)\r\n",
    "        break\r\n",
    "    except ValueError:\r\n",
    "        print('Numerator and Denominator should be integers')\r\n",
    "    except ZeroDivisionError:\r\n",
    "        print('Division by zero is not allowed')\r\n",
    "    # As we have raised our own exeption now we can handle it as well using except\r\n",
    "    except ZeroDenominatorExeption:\r\n",
    "        print('Zero Denominator Error is raised')"
   ],
   "outputs": [
    {
     "output_type": "stream",
     "name": "stdout",
     "text": [
      "Zero Denominator Error is raised\n",
      "0.6666666666666666\n"
     ]
    }
   ],
   "metadata": {}
  },
  {
   "cell_type": "markdown",
   "source": [
    "## Except Functionality"
   ],
   "metadata": {}
  },
  {
   "cell_type": "code",
   "execution_count": 14,
   "source": [
    "# We are inheriting from ZeroDivisionError \r\n",
    "class ZeroDenominatorExeption(ZeroDivisionError):\r\n",
    "    pass\r\n",
    "\r\n",
    "while True  : \r\n",
    "    try:\r\n",
    "        n = input('Enter the numerator')\r\n",
    "        num = int(n)\r\n",
    "\r\n",
    "        n = input('Enter the denominator')\r\n",
    "        den = int(n)\r\n",
    "        if den == 0:\r\n",
    "            raise ZeroDenominatorExeption('Denominator should not be zero')\r\n",
    "        \r\n",
    "        value = num/den\r\n",
    "        print(value)\r\n",
    "        break\r\n",
    "    except ValueError:\r\n",
    "        print('Numerator and Denominator should be integers')\r\n",
    "    except ZeroDivisionError:\r\n",
    "        print('Division by zero is not allowed')\r\n",
    "    except ZeroDenominatorExeption:\r\n",
    "        print('Zero Denominator Error is raised')\r\n",
    "    # id the raised exeption does not match any of the above errors then it will come to the last except\r\n",
    "    except:\r\n",
    "        print('Some exeption is raised')\r\n",
    "        \r\n",
    "# We are getting the output as 'Division by zero is not allowed' because out ZeroDenominatorExeption is inheriting from ZeroDivisionError class\r\n",
    "# But if we change the order of the 3rd and 2nd except then the second except will be printed as whichever error matches forst it is printed and only one expetion is printed"
   ],
   "outputs": [
    {
     "output_type": "stream",
     "name": "stdout",
     "text": [
      "Division by zero is not allowed\n",
      "1.0\n"
     ]
    }
   ],
   "metadata": {}
  },
  {
   "cell_type": "markdown",
   "source": [
    "## Else and Finally"
   ],
   "metadata": {}
  },
  {
   "cell_type": "markdown",
   "source": [
    "The order we need to maintain is - try -> except -> else -> finally"
   ],
   "metadata": {}
  },
  {
   "cell_type": "code",
   "execution_count": 3,
   "source": [
    "class ZeroDenominatorExeption(ZeroDivisionError):\r\n",
    "    pass\r\n",
    "\r\n",
    "while True  : \r\n",
    "    try:\r\n",
    "        n = input('Enter the numerator')\r\n",
    "        num = int(n)\r\n",
    "        n = input('Enter the denominator')\r\n",
    "        den = int(n)\r\n",
    "        if den == 0:\r\n",
    "            raise ZeroDenominatorExeption('Denominator should not be zero')\r\n",
    "        value = num/den\r\n",
    "        \r\n",
    "    except ValueError:\r\n",
    "        print('Numerator and Denominator should be integers')\r\n",
    "    except ZeroDivisionError:\r\n",
    "        print('Division by zero is not allowed')\r\n",
    "    except ZeroDenominatorExeption:\r\n",
    "        print('Zero Denominator Error is raised')\r\n",
    "    except:\r\n",
    "        print('Some exeption is raised')\r\n",
    "    # If no exeption has been raised in the try block then the code goes to else and the code inside the block is executed.\r\n",
    "    else:\r\n",
    "        print(value)\r\n",
    "        break\r\n",
    "    # Finally will be executed no matter what\r\n",
    "    finally:\r\n",
    "        print('Exeption may or may not be raised')"
   ],
   "outputs": [
    {
     "output_type": "stream",
     "name": "stdout",
     "text": [
      "Division by zero is not allowed\n",
      "Exeption may or may not be raised\n",
      "4.0\n",
      "Exeption may or may not be raised\n"
     ]
    }
   ],
   "metadata": {}
  },
  {
   "cell_type": "markdown",
   "source": [
    "<pre>\r\n",
    "\r\n",
    "Predict the output\r\n",
    "1. \r\n",
    "\r\n",
    "INPUT\r\n",
    "class ZeroDenominatorError(ZeroDivisionError):\r\n",
    "    pass\r\n",
    "try:\r\n",
    "    a = 10\r\n",
    "    b = 0\r\n",
    "    if(b==0):\r\n",
    "        raise ZeroDenominatorError()\r\n",
    "    c = a/b\r\n",
    "except ZeroDivisionError:\r\n",
    "    print('Zero Division Error occured',end= ‘ ‘)\r\n",
    "except ZeroDenominatorError:\r\n",
    "    print('Zero Denominator Error occured',end = ‘ ‘)\r\n",
    "else:\r\n",
    "    print(‘else works’)\r\n",
    "\r\n",
    "OUTPUT\r\n",
    "Zero Division Error occured\r\n",
    "------------------------\r\n",
    "2. \r\n",
    "\r\n",
    "INPUT\r\n",
    "class ZeroDenominatorError(ZeroDivisionError):\r\n",
    "    pass\r\n",
    "try:\r\n",
    "    a = 10\r\n",
    "    b = 5\r\n",
    "    if(b==0):\r\n",
    "        raise ZeroDenominatorError()\r\n",
    "    c = a/b\r\n",
    "except ZeroDivisionError:\r\n",
    "    print('Zero Division Error occured',end= ‘ ‘)\r\n",
    "except ZeroDenominatorError:\r\n",
    "    print('Zero Denominator Error occured',end = ‘ ‘)\r\n",
    "else:\r\n",
    "    print(‘else works’)\r\n",
    "\r\n",
    "OUTPUT\r\n",
    "else works\r\n",
    "-------------------------\r\n",
    "3. \r\n",
    " \r\n",
    "INPUT\r\n",
    "class ZeroDenominatorError(ZeroDivisionError):\r\n",
    "    pass\r\n",
    "try:\r\n",
    "    a = 10\r\n",
    "    b = 5\r\n",
    "    if(b==0):\r\n",
    "        raise ZeroDenominatorError()\r\n",
    "    c = a/b\r\n",
    "except ZeroDivisionError:\r\n",
    "    print('Zero Division Error occured',end= ‘ ‘)\r\n",
    "except ZeroDenominatorError:\r\n",
    "    print('Zero Denominator Error occured',end = ‘ ‘)\r\n",
    "else:\r\n",
    "    print(‘else works’,end=' ')\r\n",
    "finally:\r\n",
    "    print(‘finally works’)\r\n",
    "\r\n",
    "OUTPUT\r\n",
    "else works finally works"
   ],
   "metadata": {}
  },
  {
   "cell_type": "markdown",
   "source": [
    "## More on Finally"
   ],
   "metadata": {}
  },
  {
   "cell_type": "code",
   "execution_count": 4,
   "source": [
    "class ZeroDenominatorExeption(ZeroDivisionError):\r\n",
    "    pass\r\n",
    "\r\n",
    "while True  : \r\n",
    "    try:\r\n",
    "        n = input('Enter the numerator')\r\n",
    "        num = int(n)\r\n",
    "        n = input('Enter the denominator')\r\n",
    "        den = int(n)\r\n",
    "        if den == 0:\r\n",
    "            raise ZeroDenominatorExeption('Denominator should not be zero')\r\n",
    "        value = num/den\r\n",
    "        \r\n",
    "    except ValueError:\r\n",
    "        print('Numerator and Denominator should be integers')\r\n",
    "    except ZeroDivisionError:\r\n",
    "        print('Division by zero is not allowed')\r\n",
    "    except ZeroDenominatorExeption:\r\n",
    "        print('Zero Denominator Error is raised')\r\n",
    "    except:\r\n",
    "        print('Some exeption is raised')\r\n",
    "    # If no exeption has been raised in the try block then the code goes to else and the code inside the block is executed.\r\n",
    "    else:\r\n",
    "        print(value)\r\n",
    "        break\r\n",
    "    # Finally will be executed no matter what\r\n",
    "    finally:\r\n",
    "        # If no error occurs then num and den will be printed, if any error occurs in case whoever will be in the scope will be printed\r\n",
    "        print(num)\r\n",
    "        print(den)\r\n",
    "        print('Exeption may or may not be raised')      "
   ],
   "outputs": [
    {
     "output_type": "stream",
     "name": "stdout",
     "text": [
      "Numerator and Denominator should be integers\n",
      "2\n",
      "2\n",
      "Exeption may or may not be raised\n",
      "1.0\n",
      "2\n",
      "2\n",
      "Exeption may or may not be raised\n"
     ]
    }
   ],
   "metadata": {}
  }
 ],
 "metadata": {
  "orig_nbformat": 4,
  "language_info": {
   "name": "python",
   "version": "3.8.8",
   "mimetype": "text/x-python",
   "codemirror_mode": {
    "name": "ipython",
    "version": 3
   },
   "pygments_lexer": "ipython3",
   "nbconvert_exporter": "python",
   "file_extension": ".py"
  },
  "kernelspec": {
   "name": "python3",
   "display_name": "Python 3.8.8 64-bit ('base': conda)"
  },
  "interpreter": {
   "hash": "96eb50e1d44aed467dc8f759cb08c32fbfa9babcf79c554e2d0e5feb04653a10"
  }
 },
 "nbformat": 4,
 "nbformat_minor": 2
}