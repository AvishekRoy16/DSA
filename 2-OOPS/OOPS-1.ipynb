{
 "cells": [
  {
   "cell_type": "markdown",
   "source": [
    "# OBJECT ORIENTED PROGRAMMING - OOPS"
   ],
   "metadata": {}
  },
  {
   "cell_type": "markdown",
   "source": [
    "## Intro to OOPS"
   ],
   "metadata": {}
  },
  {
   "cell_type": "code",
   "execution_count": 1,
   "source": [
    "class Student:\n",
    "    pass\n"
   ],
   "outputs": [],
   "metadata": {}
  },
  {
   "cell_type": "code",
   "execution_count": 2,
   "source": [
    "s1 = Student()"
   ],
   "outputs": [],
   "metadata": {}
  },
  {
   "cell_type": "code",
   "execution_count": 3,
   "source": [
    "# Student Class\n",
    "type(s1)"
   ],
   "outputs": [
    {
     "output_type": "execute_result",
     "data": {
      "text/plain": [
       "__main__.Student"
      ]
     },
     "metadata": {},
     "execution_count": 3
    }
   ],
   "metadata": {}
  },
  {
   "cell_type": "code",
   "execution_count": 4,
   "source": [
    "s2 = Student()\n",
    "s3 = Student()\n"
   ],
   "outputs": [],
   "metadata": {}
  },
  {
   "cell_type": "markdown",
   "source": [
    "## Attributes"
   ],
   "metadata": {}
  },
  {
   "cell_type": "code",
   "execution_count": 5,
   "source": [
    "# Adding attributes to individual objects\n",
    "s1.name = 'Ankush'"
   ],
   "outputs": [],
   "metadata": {}
  },
  {
   "cell_type": "code",
   "execution_count": 6,
   "source": [
    "s2.rollNumber = 12"
   ],
   "outputs": [],
   "metadata": {}
  },
  {
   "cell_type": "code",
   "execution_count": 7,
   "source": [
    "s3.name = 'Rohan'\n",
    "s3.rollNumber = 13"
   ],
   "outputs": [],
   "metadata": {}
  },
  {
   "cell_type": "code",
   "execution_count": 8,
   "source": [
    "s3.name"
   ],
   "outputs": [
    {
     "output_type": "execute_result",
     "data": {
      "text/plain": [
       "'Rohan'"
      ]
     },
     "metadata": {},
     "execution_count": 8
    }
   ],
   "metadata": {}
  },
  {
   "cell_type": "markdown",
   "source": [
    "### dict"
   ],
   "metadata": {}
  },
  {
   "cell_type": "code",
   "execution_count": 9,
   "source": [
    "# To see all the attributs of objects inside a dictionary\n",
    "print(s1.__dict__)\n",
    "print(s2.__dict__)\n",
    "print(s3.__dict__)"
   ],
   "outputs": [
    {
     "output_type": "stream",
     "name": "stdout",
     "text": [
      "{'name': 'Ankush'}\n",
      "{'rollNumber': 12}\n",
      "{'name': 'Rohan', 'rollNumber': 13}\n"
     ]
    }
   ],
   "metadata": {}
  },
  {
   "cell_type": "markdown",
   "source": [
    "### hasattr"
   ],
   "metadata": {}
  },
  {
   "cell_type": "code",
   "execution_count": 10,
   "source": [
    "# Takes 2 arguments, object and attribute and retuns weather or not the attribute is present in the object\n",
    "print(hasattr(s2, 'name'))\n",
    "print(hasattr(s1, 'name'))"
   ],
   "outputs": [
    {
     "output_type": "stream",
     "name": "stdout",
     "text": [
      "False\n",
      "True\n"
     ]
    }
   ],
   "metadata": {}
  },
  {
   "cell_type": "markdown",
   "source": [
    "### getattr"
   ],
   "metadata": {}
  },
  {
   "cell_type": "code",
   "execution_count": 11,
   "source": [
    "# Takes 2 arguments, object and attribute and retuns the value of the attribute. We cannot get an output for an object which does not have the specified attribute\n",
    "print(getattr(s1, 'name'))\n",
    "\n",
    "# We cannot get an output for an object which does not have the specified attribute. In this case we can use a third argument which is a default, and helps prevent error and returns the default.abs\n",
    "print(getattr(s2, 'name', 's2 does not have name attributeso it will return this default'))\n",
    "print(getattr(s1, 'name', 's1 has a name attribute so it does not need to be returned'))"
   ],
   "outputs": [
    {
     "output_type": "stream",
     "name": "stdout",
     "text": [
      "Ankush\n",
      "s2 does not have name attributeso it will return this default\n",
      "Ankush\n"
     ]
    }
   ],
   "metadata": {}
  },
  {
   "cell_type": "markdown",
   "source": [
    "### delattr"
   ],
   "metadata": {}
  },
  {
   "cell_type": "code",
   "execution_count": 12,
   "source": [
    "# delattr deletes the attribut we don't want\n",
    "print(s1.__dict__)\n",
    "(delattr(s1, 'name'))\n",
    "s1.__dict__"
   ],
   "outputs": [
    {
     "output_type": "stream",
     "name": "stdout",
     "text": [
      "{'name': 'Ankush'}\n"
     ]
    },
    {
     "output_type": "execute_result",
     "data": {
      "text/plain": [
       "{}"
      ]
     },
     "metadata": {},
     "execution_count": 12
    }
   ],
   "metadata": {}
  },
  {
   "cell_type": "markdown",
   "source": [
    "## Self - Instance Methods"
   ],
   "metadata": {}
  },
  {
   "cell_type": "code",
   "execution_count": 13,
   "source": [
    "class Student:\n",
    "    \n",
    "    passing_percentange = 40\n",
    "    # So we have to pass the object name into the instance we have created and by convention we pass 'self', \n",
    "    # which is passed inside the def funciton of a class i.e the object. Hence whatever object will be passed will be stored in self.\n",
    "    # self are passesd for instance methods\n",
    "    def StudentDetails(self):\n",
    "        # When we are adding self before then it becomes an instace attribut, i.e. it can be used outside of the class\n",
    "        self.name = 'Parik'\n",
    "        print('Name = ', self.name)\n",
    "        \n",
    "        # This is not staring with self, hence it is not an instance attribute, therefore it can be used only inide the class and cannot be refrenced outside the class\n",
    "        percentange = 80\n",
    "        print('Percentage =', percentange)\n",
    "        \n",
    "        # Now let us take a percentage which can be used outsidet the function\n",
    "        self.percentange1 = 70\n",
    "        print('Percentage1 =', self.percentange1)\n",
    "        \n",
    "        \n",
    "    def isPassed(self):\n",
    "        if self.percentange1 > Student.passing_percentange:\n",
    "            print('Student is passed')\n",
    "        else:\n",
    "            print('Student passed')\n",
    "        \n",
    "# Creating an object s1        \n",
    "s1 = Student()\n",
    "\n",
    "# In relaity the statement is interpretted as -> Student.StudentDetails(s1) i.e. class_name.function(object_name)\n",
    "s1.StudentDetails()\n",
    "#\n",
    "\n",
    "s1.isPassed()\n"
   ],
   "outputs": [
    {
     "output_type": "stream",
     "name": "stdout",
     "text": [
      "Name =  Parik\n",
      "Percentage = 80\n",
      "Percentage1 = 70\n",
      "Student is passed\n"
     ]
    }
   ],
   "metadata": {}
  },
  {
   "cell_type": "code",
   "execution_count": 17,
   "source": [
    "class Student:\n",
    "    name = 'Parikh'\n",
    "    def store_details(self):\n",
    "        self.age = 60\n",
    "    def print_details(self):\n",
    "        print(self.name, end=' ')\n",
    "        print(self.age)\n",
    "s = Student()\n",
    "s.store_details()\n",
    "s.print_details()"
   ],
   "outputs": [
    {
     "output_type": "stream",
     "name": "stdout",
     "text": [
      "Parikh 60\n"
     ]
    }
   ],
   "metadata": {}
  },
  {
   "cell_type": "markdown",
   "source": [
    "## Static Method"
   ],
   "metadata": {}
  },
  {
   "cell_type": "code",
   "execution_count": 18,
   "source": [
    "class Student:\n",
    "    \n",
    "    passing_percentange = 40\n",
    "\n",
    "    def StudentDetails(self):\n",
    "        self.name = 'Parik'\n",
    "        print('Name = ', self.name)\n",
    "        \n",
    "        percentange = 80\n",
    "        print('Percentage =', percentange)\n",
    "\n",
    "        self.percentange1 = 70\n",
    "        print('Percentage1 =', self.percentange1)\n",
    "        \n",
    "        \n",
    "    def isPassed(self):\n",
    "        if self.percentange1 > Student.passing_percentange:\n",
    "            print('Student is passed')\n",
    "        else:\n",
    "            print('Student passed')\n",
    "            \n",
    "    # We do not need any object for executing this funciton so we need not specify self inside the function.\n",
    "    # It is not depending on instance attribued and hence we are not declareing self\n",
    "    # But we have to pass self in order for functions to work inside class, \n",
    "    # hece we can use a decorator to solve this problem of static methods(which do not use instace methods)\n",
    "    # By adding @ staticmethod we are stopping binding of the object i.e. we are stopping by default passing self of an object\n",
    "    \n",
    "    @staticmethod\n",
    "    def welcomeToSchool():\n",
    "        print('Hey! Welcome to school')\n",
    "\n",
    "s = Student()\n",
    "s.welcomeToSchool()"
   ],
   "outputs": [
    {
     "output_type": "stream",
     "name": "stdout",
     "text": [
      "Hey! Welcome to school\n"
     ]
    }
   ],
   "metadata": {}
  },
  {
   "cell_type": "markdown",
   "source": [
    "## init method"
   ],
   "metadata": {}
  },
  {
   "cell_type": "markdown",
   "source": [
    "If we want to create a class in which we want to pass the attributes that should be present in all the objects that we create then we would need init"
   ],
   "metadata": {}
  },
  {
   "cell_type": "code",
   "execution_count": 19,
   "source": [
    "class Student():\n",
    "    def __init__(self):\n",
    "        self.name = 'abc'\n",
    "        self.rollNumber  = 12\n",
    "\n",
    "s1 = Student()\n",
    "# As we can see that there are name and rollNumber instances created by default\n",
    "s1.__dict__"
   ],
   "outputs": [
    {
     "output_type": "execute_result",
     "data": {
      "text/plain": [
       "{'name': 'abc', 'rollNumber': 12}"
      ]
     },
     "metadata": {},
     "execution_count": 19
    }
   ],
   "metadata": {}
  },
  {
   "cell_type": "code",
   "execution_count": 20,
   "source": [
    "# s1 and s2 are two different objects but thay have the same attributes\n",
    "s2 = Student()\n",
    "s2.__dict__"
   ],
   "outputs": [
    {
     "output_type": "execute_result",
     "data": {
      "text/plain": [
       "{'name': 'abc', 'rollNumber': 12}"
      ]
     },
     "metadata": {},
     "execution_count": 20
    }
   ],
   "metadata": {}
  },
  {
   "cell_type": "code",
   "execution_count": 22,
   "source": [
    "# Whenever  we would like to create a name we would like give a different name and a unique rollNumber\n",
    "s1.name = 'Ankush'\n",
    "s1.rollNumber = 13\n",
    "s2.name =  'Rohan'\n",
    "s2.rollNumber = 14\n",
    "print(s1.__dict__)\n",
    "print(s2.__dict__)\n",
    "# bu the whole point of init method was that we need not to specify the things again once passed in the init function"
   ],
   "outputs": [
    {
     "output_type": "stream",
     "name": "stdout",
     "text": [
      "{'name': 'Ankush', 'rollNumber': 13}\n",
      "{'name': 'Rohan', 'rollNumber': 14}\n"
     ]
    }
   ],
   "metadata": {}
  },
  {
   "cell_type": "code",
   "execution_count": 24,
   "source": [
    "# We should create __init__ in a way such that we can take the instances as arguments\n",
    "class Student_v1():\n",
    "    def __init__(self, name, rollNumber):\n",
    "        self.name = name\n",
    "        self.rollNumber  = rollNumber\n",
    "\n",
    "s1 = Student_v1('Avsihek',1)\n",
    "s1.__dict__"
   ],
   "outputs": [
    {
     "output_type": "execute_result",
     "data": {
      "text/plain": [
       "{'name': 'Avsihek', 'rollNumber': 1}"
      ]
     },
     "metadata": {},
     "execution_count": 24
    }
   ],
   "metadata": {}
  }
 ],
 "metadata": {
  "orig_nbformat": 4,
  "language_info": {
   "name": "python",
   "version": "3.8.5",
   "mimetype": "text/x-python",
   "codemirror_mode": {
    "name": "ipython",
    "version": 3
   },
   "pygments_lexer": "ipython3",
   "nbconvert_exporter": "python",
   "file_extension": ".py"
  },
  "kernelspec": {
   "name": "python3",
   "display_name": "Python 3.8.5 64-bit ('base': conda)"
  },
  "interpreter": {
   "hash": "682cbd65bec36bb5780b3cd03d8f98f09d815121554481962b3929c5a83bba13"
  }
 },
 "nbformat": 4,
 "nbformat_minor": 2
}