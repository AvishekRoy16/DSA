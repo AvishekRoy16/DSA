{
 "cells": [
  {
   "cell_type": "markdown",
   "source": [
    "# OBJECT ORIENTED PROGRAMMING - OOPS"
   ],
   "metadata": {}
  },
  {
   "cell_type": "markdown",
   "source": [
    "## Intro to OOPS"
   ],
   "metadata": {}
  },
  {
   "cell_type": "code",
   "execution_count": 1,
   "source": [
    "class Student:\n",
    "    pass\n"
   ],
   "outputs": [],
   "metadata": {}
  },
  {
   "cell_type": "code",
   "execution_count": 2,
   "source": [
    "s1 = Student()"
   ],
   "outputs": [],
   "metadata": {}
  },
  {
   "cell_type": "code",
   "execution_count": 3,
   "source": [
    "# Student Class\n",
    "type(s1)"
   ],
   "outputs": [
    {
     "output_type": "execute_result",
     "data": {
      "text/plain": [
       "__main__.Student"
      ]
     },
     "metadata": {},
     "execution_count": 3
    }
   ],
   "metadata": {}
  },
  {
   "cell_type": "code",
   "execution_count": 4,
   "source": [
    "s2 = Student()\n",
    "s3 = Student()\n"
   ],
   "outputs": [],
   "metadata": {}
  },
  {
   "cell_type": "markdown",
   "source": [
    "## Attributes"
   ],
   "metadata": {}
  },
  {
   "cell_type": "code",
   "execution_count": 5,
   "source": [
    "# Adding attributes to individual objects\n",
    "s1.name = 'Ankush'"
   ],
   "outputs": [],
   "metadata": {}
  },
  {
   "cell_type": "code",
   "execution_count": 6,
   "source": [
    "s2.rollNumber = 12"
   ],
   "outputs": [],
   "metadata": {}
  },
  {
   "cell_type": "code",
   "execution_count": 7,
   "source": [
    "s3.name = 'Rohan'\n",
    "s3.rollNumber = 13"
   ],
   "outputs": [],
   "metadata": {}
  },
  {
   "cell_type": "code",
   "execution_count": 8,
   "source": [
    "s3.name"
   ],
   "outputs": [
    {
     "output_type": "execute_result",
     "data": {
      "text/plain": [
       "'Rohan'"
      ]
     },
     "metadata": {},
     "execution_count": 8
    }
   ],
   "metadata": {}
  },
  {
   "cell_type": "markdown",
   "source": [
    "### dict"
   ],
   "metadata": {}
  },
  {
   "cell_type": "code",
   "execution_count": 9,
   "source": [
    "# To see all the attributs of objects inside a dictionary\n",
    "print(s1.__dict__)\n",
    "print(s2.__dict__)\n",
    "print(s3.__dict__)"
   ],
   "outputs": [
    {
     "output_type": "stream",
     "name": "stdout",
     "text": [
      "{'name': 'Ankush'}\n",
      "{'rollNumber': 12}\n",
      "{'name': 'Rohan', 'rollNumber': 13}\n"
     ]
    }
   ],
   "metadata": {}
  },
  {
   "cell_type": "markdown",
   "source": [
    "### hasattr"
   ],
   "metadata": {}
  },
  {
   "cell_type": "code",
   "execution_count": 10,
   "source": [
    "# Takes 2 arguments, object and attribute and retuns weather or not the attribute is present in the object\n",
    "print(hasattr(s2, 'name'))\n",
    "print(hasattr(s1, 'name'))"
   ],
   "outputs": [
    {
     "output_type": "stream",
     "name": "stdout",
     "text": [
      "False\n",
      "True\n"
     ]
    }
   ],
   "metadata": {}
  },
  {
   "cell_type": "markdown",
   "source": [
    "### getattr"
   ],
   "metadata": {}
  },
  {
   "cell_type": "code",
   "execution_count": 11,
   "source": [
    "# Takes 2 arguments, object and attribute and retuns the value of the attribute. We cannot get an output for an object which does not have the specified attribute\n",
    "print(getattr(s1, 'name'))\n",
    "\n",
    "# We cannot get an output for an object which does not have the specified attribute. In this case we can use a third argument which is a default, and helps prevent error and returns the default.abs\n",
    "print(getattr(s2, 'name', 's2 does not have name attributeso it will return this default'))\n",
    "print(getattr(s1, 'name', 's1 has a name attribute so it does not need to be returned'))"
   ],
   "outputs": [
    {
     "output_type": "stream",
     "name": "stdout",
     "text": [
      "Ankush\n",
      "s2 does not have name attributeso it will return this default\n",
      "Ankush\n"
     ]
    }
   ],
   "metadata": {}
  },
  {
   "cell_type": "markdown",
   "source": [
    "### delattr"
   ],
   "metadata": {}
  },
  {
   "cell_type": "code",
   "execution_count": 12,
   "source": [
    "# delattr deletes the attribut we don't want\n",
    "print(s1.__dict__)\n",
    "(delattr(s1, 'name'))\n",
    "s1.__dict__"
   ],
   "outputs": [
    {
     "output_type": "stream",
     "name": "stdout",
     "text": [
      "{'name': 'Ankush'}\n"
     ]
    },
    {
     "output_type": "execute_result",
     "data": {
      "text/plain": [
       "{}"
      ]
     },
     "metadata": {},
     "execution_count": 12
    }
   ],
   "metadata": {}
  },
  {
   "cell_type": "markdown",
   "source": [
    "## Self - Instance Methods"
   ],
   "metadata": {}
  },
  {
   "cell_type": "code",
   "execution_count": 13,
   "source": [
    "class Student:\n",
    "    \n",
    "    passing_percentange = 40\n",
    "    # So we have to pass the object name into the instance we have created and by convention we pass 'self', \n",
    "    # which is passed inside the def funciton of a class i.e the object. Hence whatever object will be passed will be stored in self.\n",
    "    # self are passesd for instance methods\n",
    "    def StudentDetails(self):\n",
    "        # When we are adding self before then it becomes an instace attribut, i.e. it can be used outside of the class\n",
    "        self.name = 'Parik'\n",
    "        print('Name = ', self.name)\n",
    "        \n",
    "        # This is not staring with self, hence it is not an instance attribute, therefore it can be used only inide the class and cannot be refrenced outside the class\n",
    "        percentange = 80\n",
    "        print('Percentage =', percentange)\n",
    "        \n",
    "        # Now let us take a percentage which can be used outsidet the function\n",
    "        self.percentange1 = 70\n",
    "        print('Percentage1 =', self.percentange1)\n",
    "        \n",
    "        \n",
    "    def isPassed(self):\n",
    "        if self.percentange1 > Student.passing_percentange:\n",
    "            print('Student is passed')\n",
    "        else:\n",
    "            print('Student passed')\n",
    "        \n",
    "# Creating an object s1        \n",
    "s1 = Student()\n",
    "\n",
    "# In relaity the statement is interpretted as -> Student.StudentDetails(s1) i.e. class_name.function(object_name)\n",
    "s1.StudentDetails()\n",
    "#\n",
    "\n",
    "s1.isPassed()\n"
   ],
   "outputs": [
    {
     "output_type": "stream",
     "name": "stdout",
     "text": [
      "Name =  Parik\n",
      "Percentage = 80\n",
      "Percentage1 = 70\n",
      "Student is passed\n"
     ]
    }
   ],
   "metadata": {}
  },
  {
   "cell_type": "code",
   "execution_count": 17,
   "source": [
    "class Student:\n",
    "    name = 'Parikh'\n",
    "    def store_details(self):\n",
    "        self.age = 60\n",
    "    def print_details(self):\n",
    "        print(self.name, end=' ')\n",
    "        print(self.age)\n",
    "s = Student()\n",
    "s.store_details()\n",
    "s.print_details()"
   ],
   "outputs": [
    {
     "output_type": "stream",
     "name": "stdout",
     "text": [
      "Parikh 60\n"
     ]
    }
   ],
   "metadata": {}
  },
  {
   "cell_type": "markdown",
   "source": [
    "## Static Method"
   ],
   "metadata": {}
  },
  {
   "cell_type": "code",
   "execution_count": 18,
   "source": [
    "class Student:\n",
    "    \n",
    "    passing_percentange = 40\n",
    "\n",
    "    def StudentDetails(self):\n",
    "        self.name = 'Parik'\n",
    "        print('Name = ', self.name)\n",
    "        \n",
    "        percentange = 80\n",
    "        print('Percentage =', percentange)\n",
    "\n",
    "        self.percentange1 = 70\n",
    "        print('Percentage1 =', self.percentange1)\n",
    "        \n",
    "        \n",
    "    def isPassed(self):\n",
    "        if self.percentange1 > Student.passing_percentange:\n",
    "            print('Student is passed')\n",
    "        else:\n",
    "            print('Student passed')\n",
    "            \n",
    "    # We do not need any object for executing this funciton so we need not specify self inside the function.\n",
    "    # It is not depending on instance attribued and hence we are not declareing self\n",
    "    # But we have to pass self in order for functions to work inside class, \n",
    "    # hece we can use a decorator to solve this problem of static methods(which do not use instace methods)\n",
    "    # By adding @ staticmethod we are stopping binding of the object i.e. we are stopping by default passing self of an object\n",
    "    \n",
    "    @staticmethod\n",
    "    def welcomeToSchool():\n",
    "        print('Hey! Welcome to school')\n",
    "\n",
    "s = Student()\n",
    "s.welcomeToSchool()"
   ],
   "outputs": [
    {
     "output_type": "stream",
     "name": "stdout",
     "text": [
      "Hey! Welcome to school\n"
     ]
    }
   ],
   "metadata": {}
  },
  {
   "cell_type": "markdown",
   "source": [
    "## init method"
   ],
   "metadata": {}
  },
  {
   "cell_type": "markdown",
   "source": [
    "If we want to create a class in which we want to pass the attributes that should be present in all the objects that we create then we would need init"
   ],
   "metadata": {}
  },
  {
   "cell_type": "code",
   "execution_count": 19,
   "source": [
    "class Student():\n",
    "    def __init__(self):\n",
    "        self.name = 'abc'\n",
    "        self.rollNumber  = 12\n",
    "\n",
    "s1 = Student()\n",
    "# As we can see that there are name and rollNumber instances created by default\n",
    "s1.__dict__"
   ],
   "outputs": [
    {
     "output_type": "execute_result",
     "data": {
      "text/plain": [
       "{'name': 'abc', 'rollNumber': 12}"
      ]
     },
     "metadata": {},
     "execution_count": 19
    }
   ],
   "metadata": {}
  },
  {
   "cell_type": "code",
   "execution_count": 20,
   "source": [
    "# s1 and s2 are two different objects but thay have the same attributes\n",
    "s2 = Student()\n",
    "s2.__dict__"
   ],
   "outputs": [
    {
     "output_type": "execute_result",
     "data": {
      "text/plain": [
       "{'name': 'abc', 'rollNumber': 12}"
      ]
     },
     "metadata": {},
     "execution_count": 20
    }
   ],
   "metadata": {}
  },
  {
   "cell_type": "code",
   "execution_count": 22,
   "source": [
    "# Whenever  we would like to create a name we would like give a different name and a unique rollNumber\n",
    "s1.name = 'Ankush'\n",
    "s1.rollNumber = 13\n",
    "s2.name =  'Rohan'\n",
    "s2.rollNumber = 14\n",
    "print(s1.__dict__)\n",
    "print(s2.__dict__)\n",
    "# bu the whole point of init method was that we need not to specify the things again once passed in the init function"
   ],
   "outputs": [
    {
     "output_type": "stream",
     "name": "stdout",
     "text": [
      "{'name': 'Ankush', 'rollNumber': 13}\n",
      "{'name': 'Rohan', 'rollNumber': 14}\n"
     ]
    }
   ],
   "metadata": {}
  },
  {
   "cell_type": "code",
   "execution_count": 24,
   "source": [
    "# We should create __init__ in a way such that we can take the instances as arguments\n",
    "class Student_v1():\n",
    "    def __init__(self, name, rollNumber):\n",
    "        self.name = name\n",
    "        self.rollNumber  = rollNumber\n",
    "\n",
    "s1 = Student_v1('Avsihek',1)\n",
    "s1.__dict__"
   ],
   "outputs": [
    {
     "output_type": "execute_result",
     "data": {
      "text/plain": [
       "{'name': 'Avsihek', 'rollNumber': 1}"
      ]
     },
     "metadata": {},
     "execution_count": 24
    }
   ],
   "metadata": {}
  },
  {
   "cell_type": "markdown",
   "source": [
    "<h2>Things not to do.</h2>\n",
    "\n",
    "<pre>\n",
    "\n",
    "1.\n",
    "class Student:\n",
    "\n",
    "    def __init__(self,name,age):\n",
    "        self.name = 'Rohan'\n",
    "        self.age = 20\n",
    "\n",
    "    def print_student_details():\n",
    "        print(self.name, end= ' ')\n",
    "        print(self.age)\n",
    "\n",
    "\n",
    "s = Student()\n",
    "s.print_student_details()\n",
    "---------------------------------------------------------------------------\n",
    "TypeError                                 Traceback (most recent call last)\n",
    "<ipython-input-6-97ad90e7a0d8> in <module>\n",
    "     10 \n",
    "     11 \n",
    "---> 12 s = Student()\n",
    "     13 s.print_student_details()\n",
    "--------------------------------------------------------------------------\n",
    "2.\n",
    "class Student:\n",
    "    def __init__(self,name,age):\n",
    "        self.name = 'Rohan'\n",
    "        self.age = 20\n",
    "\n",
    "    def print_student_details():\n",
    "        print(self.name, end= ' \"')\n",
    "        print(self.age)\n",
    "s = Student('Parikh',25)\n",
    "s.print_student_details()\n",
    "\n",
    "---------------------------------------------------------------------------\n",
    "TypeError                                 Traceback (most recent call last)\n",
    "<ipython-input-5-2df41b7cb508> in <module>\n",
    "      8         print(self.age)\n",
    "      9 s = Student('Parikh',25)\n",
    "---> 10 s.print_student_details()\n",
    "\n",
    "TypeError: print_student_details() takes 0 positional arguments but 1 was given\n",
    "</pre>"
   ],
   "metadata": {}
  },
  {
   "cell_type": "markdown",
   "source": [
    "<h2>Correct way to do</h2>\n",
    "\n",
    "<pre>\n",
    "class Student:\n",
    "    def __init__(self,name,age):\n",
    "        self.name = name\n",
    "        self.age = age\n",
    "    def print_student_details(self):\n",
    "        print(self.name, end= “ “)\n",
    "        print(self.age)\n",
    "\n",
    "s = Student(“Rohan”,60)\n",
    "s.print_student_details()\n",
    "--------------------------------------------\n",
    "Rohan 60\n",
    "\n",
    "</pre>"
   ],
   "metadata": {}
  },
  {
   "cell_type": "markdown",
   "source": [
    "## Class Method"
   ],
   "metadata": {}
  },
  {
   "cell_type": "code",
   "execution_count": 1,
   "source": [
    "'''\n",
    "If we normally pass thent the first pass will be the object\n",
    "If we prove classmethod then the first arfument will be the class name\n",
    "If we are usinng staticmethod then we need no argument as such.\n",
    "'''\n",
    "from datetime import date\n",
    "class Student:\n",
    "    passingPercentage = 40\n",
    "    \n",
    "    def __init__(self, name, age = 15, percentage = 80):\n",
    "        self.name = name\n",
    "        self.age = age\n",
    "        self.percentage = percentage\n",
    "    \n",
    "    def studentDetails(self):\n",
    "        print('Name = ', self.name)\n",
    "        print('Age = ', self.age)\n",
    "        print('Percentage = ', self.percentage)\n",
    "        \n",
    "    def isPassed(self):\n",
    "        if self.percentage < Student.passingPercentage:\n",
    "            print('Student is Passed')\n",
    "        else:\n",
    "            print('Student is Failed')\n",
    "    \n",
    "    # This is a classmethod -> so given DOB we would like to clacualte the age in this funciton\n",
    "    # The first argument passed int he classmethod funciton is the class that we are using\n",
    "    # class methods return factory methods\n",
    "    @classmethod\n",
    "    def fromBirhtYear(cls, name, year, percentage):\n",
    "        return cls(name, date.today().year - year, percentage)\n",
    "    \n",
    "    # Staticmethod are usually those which are utility fucntions -> that are used to do something in the class\n",
    "    @staticmethod\n",
    "    def welcomeToSchool():\n",
    "        print('Hey! Welcome to School')\n",
    "        \n",
    "    @staticmethod\n",
    "    def isTeen(age):\n",
    "        return age > 16\n",
    "           \n",
    "s1 = Student('Avishek')\n",
    "s1 = Student.fromBirhtYear('Avisehk', 2000, 70)\n",
    "s1.studentDetails()\n",
    "        \n"
   ],
   "outputs": [
    {
     "output_type": "stream",
     "name": "stdout",
     "text": [
      "Name =  Avisehk\n",
      "Age =  21\n",
      "Percentage =  70\n"
     ]
    }
   ],
   "metadata": {}
  },
  {
   "cell_type": "markdown",
   "source": [
    "<h2>Predict the Output</h2>\n",
    "\n",
    "<pre>\n",
    "class Student:\n",
    "    def __init__(self,name,age):\n",
    "        self.name = name\n",
    "        self.age = age\n",
    "    def print_student_details():\n",
    "        print(self.name, end= “ “)\n",
    "        print(self.age)\n",
    "\n",
    "    @staticmethod\n",
    "    def isTeen(age):\n",
    "        return age>16\n",
    "\n",
    "a = Student.isTeen(18)\n",
    "print(a)\n",
    "----------------------------------\n",
    "True\n",
    "<pre>"
   ],
   "metadata": {}
  },
  {
   "cell_type": "markdown",
   "source": [
    "## Public and Private Modifiers"
   ],
   "metadata": {}
  },
  {
   "cell_type": "code",
   "execution_count": 8,
   "source": [
    "from datetime import date\n",
    "\n",
    "# Now as we are making the funcions inside the class itself so we should not make changes outside the class as that is not a good peactice as,\n",
    "# that might lead to erros later and defeats the purpose of making the class in the first place\n",
    "# So to avoid that we can make variables inside the class private by putting an __ between them\n",
    "class Student:\n",
    "    passingPercentage = 40\n",
    "    \n",
    "    def __init__(self, name, age = 15, percentage = 80):\n",
    "        self.name = name\n",
    "        self.age = age\n",
    "        self.percentage = percentage\n",
    "    \n",
    "    def studentDetails(self):\n",
    "        print('Name = ', self.name)\n",
    "        print('Age = ', self.age)\n",
    "        print('Percentage = ', self.percentage)\n",
    "        \n",
    "    def isPassed(self):\n",
    "        if self.percentage < Student.passingPercentage:\n",
    "            print('Student is Passed')\n",
    "        else:\n",
    "            print('Student is Failed')\n",
    "\n",
    "    @classmethod\n",
    "    def fromBirhtYear(cls, name, year, percentage):\n",
    "        return cls(name, date.today().year - year, percentage)\n",
    "\n",
    "    @staticmethod\n",
    "    def welcomeToSchool():\n",
    "        print('Hey! Welcome to School')\n",
    "        \n",
    "    @staticmethod\n",
    "    def isTeen(age):\n",
    "        return age > 16\n",
    "           \n",
    "s1 = Student('Avishek')\n",
    "# print(s1.name) -> The output will be Avishek, but\n",
    "s1.name = 'Tanu'\n",
    "print(s1.name) # The output is Tanu\n",
    "\n"
   ],
   "outputs": [
    {
     "output_type": "stream",
     "name": "stdout",
     "text": [
      "Tanu\n"
     ]
    }
   ],
   "metadata": {}
  },
  {
   "cell_type": "code",
   "execution_count": 16,
   "source": [
    "class Student:\n",
    "    passingPercentage = 40\n",
    "    \n",
    "    def __init__(self, name, age = 15, percentage = 80):\n",
    "        # Name is now a private variable/ private initialisers\n",
    "        self.__name = name\n",
    "        self.age = age\n",
    "        self.percentage = percentage\n",
    "    \n",
    "    def studentDetails(self):\n",
    "        # Now if we want to access print name we would have to put __ here too name\n",
    "        print('Name = ', self.__name)\n",
    "        print('Age = ', self.age)\n",
    "        print('Percentage = ', self.percentage)\n",
    "\n",
    "s1 = Student('Avishek')\n",
    "# print(s1.name) --> gives an error('Student' object has no attribute 'name') as we made name to be private\n",
    "print(s1.age)\n",
    "# We are able to access name here as we explicittly mentioned it as __ if we would not have writen __ before name then,\n",
    "# it would not have prited and given the error ('Student' object has no attribute 'name')\n",
    "s1.studentDetails()\n",
    "\n",
    "# Name mangling concept-> should not be used. Uisng this we are able to access even the private elememts of the class\n",
    "print(s1._Student__name)\n"
   ],
   "outputs": [
    {
     "output_type": "stream",
     "name": "stdout",
     "text": [
      "15\n",
      "Name =  Avishek\n",
      "Age =  15\n",
      "Percentage =  80\n",
      "Avishek\n"
     ]
    }
   ],
   "metadata": {}
  },
  {
   "cell_type": "markdown",
   "source": [
    "<h3>Predict the Output</h3>\n",
    "\n",
    "<pre>\n",
    "1.\n",
    "INPUT\n",
    "class Student:\n",
    "    def __init__(self,name,age):\n",
    "        self.__name = name\n",
    "        self.age = age\n",
    "    def print_student_details():\n",
    "        print(self.__name, end= “ “)\n",
    "        print(self.age)\n",
    "\n",
    "s = Student(“Rohan”,20)\n",
    "print(s.name)\n",
    "--------------------------\n",
    "OUTPUT\n",
    "'Student' object has no attribute 'name'\n",
    "\n",
    "2.\n",
    "INPUT\n",
    "class Student:\n",
    "     def __init__(self,name,age):\n",
    "        self.__name = name\n",
    "        self.age = age\n",
    "     def print_student_details(self):\n",
    "        print(self.__name, end= “ “)\n",
    "        print(self.age)\n",
    "s = Student(“Rohan”,20)\n",
    "s.print_student_details()\n",
    "-------------------------\n",
    "Rohan 20\n",
    "</pre>"
   ],
   "metadata": {}
  }
 ],
 "metadata": {
  "orig_nbformat": 4,
  "language_info": {
   "name": "python",
   "version": "3.8.5",
   "mimetype": "text/x-python",
   "codemirror_mode": {
    "name": "ipython",
    "version": 3
   },
   "pygments_lexer": "ipython3",
   "nbconvert_exporter": "python",
   "file_extension": ".py"
  },
  "kernelspec": {
   "name": "python3",
   "display_name": "Python 3.8.5 64-bit ('base': conda)"
  },
  "interpreter": {
   "hash": "682cbd65bec36bb5780b3cd03d8f98f09d815121554481962b3929c5a83bba13"
  }
 },
 "nbformat": 4,
 "nbformat_minor": 2
}