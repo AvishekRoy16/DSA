{
 "cells": [
  {
   "cell_type": "markdown",
   "metadata": {},
   "source": [
    "# Binary Search Tree - 1"
   ]
  },
  {
   "cell_type": "code",
   "execution_count": 2,
   "metadata": {},
   "outputs": [],
   "source": [
    "# This is Binary Tree\n",
    "class BinaryTreeNode():\n",
    "    def __init__(self, data):\n",
    "        self.data = data\n",
    "        self.left = None\n",
    "        self.right = None\n",
    "        \n",
    "def treeInput():\n",
    "    rootData = int(input())\n",
    "    if rootData == -1:\n",
    "        return None\n",
    "    \n",
    "    root = BinaryTreeNode(rootData)\n",
    "    leftTree = treeInput()\n",
    "    rightTree = treeInput()\n",
    "    root.left = leftTree\n",
    "    root.right = rightTree\n",
    "    return root\n",
    "\n",
    "def printTreeDetailed(root):\n",
    "    if root == None:\n",
    "        return\n",
    "    print(root.data, end = \":\")\n",
    "    if root.left != None:\n",
    "        print('L',root.left.data, end=',')\n",
    "    if root.right != None:\n",
    "        print('R',root.right.data, end=\"\")\n",
    "    print()\n",
    "    \n",
    "    printTreeDetailed(root.left)\n",
    "    printTreeDetailed(root.right)"
   ]
  },
  {
   "cell_type": "markdown",
   "metadata": {},
   "source": [
    "## BST Search"
   ]
  },
  {
   "cell_type": "markdown",
   "metadata": {},
   "source": [
    "Search In BST\n",
    "<pre>\n",
    "Given a BST and an integer k. Find if the integer k is present in given BST or not. You have to return true, if node with data k is present, return false otherwise.\n",
    "Note: Assume that BST contains all unique elements.\n",
    "Input Format:\n",
    "The first line of input contains data of the nodes of the tree in level order form. The data of the nodes of the tree is separated by space. If any node does not have left or right child, take -1 in its place. Since -1 is used as an indication whether the left or right nodes exist, therefore, it will not be a part of the data of any node.   \n",
    "The following line of input contains an integer, that denotes the value of k.\n",
    "Output Format:\n",
    "The first and only line of output contains a boolean value. Print true, if node with data k is present, print false otherwise. \n",
    "Constraints:\n",
    "Time Limit: 1 second\n",
    "Sample Input 1 :\n",
    "8 5 10 2 6 -1 -1 -1 -1 -1 7 -1 -1\n",
    "2\n",
    "Sample Output 1 :\n",
    "true\n",
    "Sample Input 2 :\n",
    "8 5 10 2 6 -1 -1 -1 -1 -1 7 -1 -1\n",
    "12\n",
    "Sample Output 2 :\n",
    "false\n",
    "</pre>"
   ]
  },
  {
   "cell_type": "code",
   "execution_count": 20,
   "metadata": {},
   "outputs": [],
   "source": [
    "def BSTsearch(root, x):\n",
    "    if root == None:\n",
    "        return None\n",
    "    if x == root.data:\n",
    "        return root\n",
    "    if root.data > x:\n",
    "        return BSTsearch(root.left, x)\n",
    "    if root.data < x:\n",
    "        return BSTsearch(root.right, x)\n",
    "    "
   ]
  },
  {
   "cell_type": "code",
   "execution_count": 23,
   "metadata": {},
   "outputs": [
    {
     "name": "stdout",
     "output_type": "stream",
     "text": [
      "50:L 30,R 60\n",
      "30:L 5,R 40\n",
      "5:\n",
      "40:\n",
      "60:\n",
      "true\n"
     ]
    }
   ],
   "source": [
    "root = treeInput()\n",
    "printTreeDetailed(root)\n",
    "ans = BSTsearch(root,5)\n",
    "if ans:\n",
    "    print(\"true\")\n",
    "else:\n",
    "    print(\"false\")"
   ]
  },
  {
   "cell_type": "markdown",
   "metadata": {},
   "source": [
    "## Print Elements in Range K1 and K2"
   ]
  },
  {
   "cell_type": "markdown",
   "metadata": {},
   "source": [
    "<pre>\n",
    "Given a Binary Search Tree and two integers k1 and k2, find and print the elements which are in range k1 and k2 (both inclusive).\n",
    "Print the elements in increasing order.\n",
    "Input format:\n",
    "The first line of input contains data of the nodes of the tree in level order form. The data of the nodes of the tree is separated by space. If any node does not have left or right child, take -1 in its place. Since -1 is used as an indication whether the left or right nodes exist, therefore, it will not be a part of the data of any node.\n",
    "The following line contains two integers, that denote the value of k1 and k2.\n",
    "Output Format:\n",
    " The first and only line of output prints the elements which are in range k1 and k2 (both inclusive). Print the elements in increasing order.\n",
    "Constraints:\n",
    "Time Limit: 1 second\n",
    "Sample Input 1:\n",
    "8 5 10 2 6 -1 -1 -1 -1 -1 7 -1 -1\n",
    "6 10\n",
    "Sample Output 1:\n",
    "6 7 8 10\n",
    "</pre>"
   ]
  },
  {
   "cell_type": "code",
   "execution_count": null,
   "metadata": {},
   "outputs": [],
   "source": [
    "def elementsInRangeK1K2(root, k1, k2):\n",
    "    if root==None:\n",
    "        return\n",
    "    if k1<=root.data and root.data<=k2:\n",
    "        elementsInRangeK1K2(root.left, k1, k2)\n",
    "        print(root.data, end=' ')\n",
    "        elementsInRangeK1K2(root.right, k1, k2)\n",
    "        return\n",
    "    if root.data>k2:\n",
    "        elementsInRangeK1K2(root.left, k1, k2)\n",
    "    else:\n",
    "        elementsInRangeK1K2(root.right, k1, k2)"
   ]
  },
  {
   "cell_type": "code",
   "execution_count": 32,
   "metadata": {},
   "outputs": [],
   "source": [
    "def elementsInRangeK1K2(root, k1, k2):\n",
    "    if root==None:\n",
    "        return\n",
    "    \n",
    "    if root.data > k2:\n",
    "        elementsInRangeK1K2(root.left, k1, k2)\n",
    "    elif root.data < k1:\n",
    "        elementsInRangeK1K2(root.right, k1, k2)\n",
    "    else:\n",
    "        print(root.data)\n",
    "        elementsInRangeK1K2(root.left,k1,k2)\n",
    "        elementsInRangeK1K2(root.right,k1,k2)\n",
    "\n"
   ]
  },
  {
   "cell_type": "code",
   "execution_count": 33,
   "metadata": {},
   "outputs": [
    {
     "name": "stdout",
     "output_type": "stream",
     "text": [
      "4:L 2,R 10\n",
      "2:L 1,R 3\n",
      "1:\n",
      "3:\n",
      "10:L 7,R 12\n",
      "7:L 5,R 6\n",
      "5:\n",
      "6:\n",
      "12:L 11,R 18\n",
      "11:\n",
      "18:\n",
      "10\n",
      "7\n",
      "5\n",
      "6\n"
     ]
    }
   ],
   "source": [
    "root = treeInput()\n",
    "printTreeDetailed(root)\n",
    "elementsInRangeK1K2(root, 5, 10)"
   ]
  },
  {
   "cell_type": "markdown",
   "metadata": {},
   "source": [
    "## Construct BST"
   ]
  },
  {
   "cell_type": "markdown",
   "metadata": {},
   "source": [
    "Construct BST\n",
    "<pre>\n",
    "Given a sorted integer array A of size n, which contains all unique elements. You need to construct a balanced BST from this input array. Return the root of constructed BST.\n",
    "Note: If array size is even, take first mid as root.\n",
    "Input format:\n",
    "The first line of input contains an integer, which denotes the value of n. The following line contains n space separated integers, that denote the values of array.\n",
    "Output Format:\n",
    "The first and only line of output contains values of BST nodes, printed in pre order traversal.\n",
    "Constraints:\n",
    "Time Limit: 1 second\n",
    "Sample Input 1:\n",
    "7\n",
    "1 2 3 4 5 6 7\n",
    "Sample Output 1:\n",
    "4 2 1 3 6 5 7 \n",
    "</pre>"
   ]
  },
  {
   "cell_type": "code",
   "execution_count": 34,
   "metadata": {},
   "outputs": [],
   "source": [
    "def constructBST(lst):\n",
    "    n=len(lst)\n",
    "    if lst==None or n<=0:\n",
    "        return None\n",
    "    rootIndex = (n-1)//2\n",
    "    root = BinaryTreeNode(lst[rootIndex])\n",
    "    root.left = constructBST(lst[:rootIndex])\n",
    "    root.right = constructBST(lst[rootIndex+1:])\n",
    "    return root"
   ]
  },
  {
   "cell_type": "code",
   "execution_count": 35,
   "metadata": {},
   "outputs": [
    {
     "name": "stdout",
     "output_type": "stream",
     "text": [
      "4:L 2,R 6\n",
      "2:L 1,R 3\n",
      "1:\n",
      "3:\n",
      "6:L 5,R 7\n",
      "5:\n",
      "7:R 8\n",
      "8:\n"
     ]
    }
   ],
   "source": [
    "a = [1,2,3,4,5,6,7,8]\n",
    "root = constructBST(a)\n",
    "printTreeDetailed(root)"
   ]
  },
  {
   "cell_type": "markdown",
   "metadata": {},
   "source": [
    "## Is BST?"
   ]
  },
  {
   "cell_type": "code",
   "execution_count": 2,
   "metadata": {},
   "outputs": [],
   "source": [
    "def minTree(root):\n",
    "    if root == None:\n",
    "        return 100000000\n",
    "    leftMin = minTree(root.left)\n",
    "    rightMin = minTree(root.right)\n",
    "    return min(leftMin, rightMin, root.data)\n",
    "\n",
    "def maxTree(root):\n",
    "    if root == None:\n",
    "        return -1100000000\n",
    "    leftMax = maxTree(root.left)\n",
    "    rightMax = maxTree(root.right)\n",
    "    return max(leftMax, rightMax, root.data)"
   ]
  },
  {
   "cell_type": "code",
   "execution_count": 3,
   "metadata": {},
   "outputs": [],
   "source": [
    "def isBst(root):\n",
    "    if root == None:\n",
    "        return True\n",
    "    # As root.data should be greater than the maximum of the left subtree\n",
    "    leftMax = maxTree(root.left)\n",
    "    # root.data should be less than the minimum of the left subtree\n",
    "    rightMin = minTree(root.right)\n",
    "    \n",
    "    if root.data > rightMin or root.data <= leftMax:\n",
    "        return False\n",
    "    \n",
    "    # Calling Recursion\n",
    "    isLeftBST = isBst(root.left)\n",
    "    isRightBST = isBst(root.right)\n",
    "    \n",
    "    # Will return True if both Left and Right is True else will return False\n",
    "    return isLeftBST & isRightBST"
   ]
  },
  {
   "cell_type": "code",
   "execution_count": 7,
   "metadata": {},
   "outputs": [
    {
     "name": "stdout",
     "output_type": "stream",
     "text": [
      "50:L 40,R 100\n",
      "40:L 30,R 45\n",
      "30:\n",
      "45:\n",
      "100:\n"
     ]
    },
    {
     "data": {
      "text/plain": [
       "True"
      ]
     },
     "execution_count": 7,
     "metadata": {},
     "output_type": "execute_result"
    }
   ],
   "source": [
    "root = treeInput()\n",
    "printTreeDetailed(root)\n",
    "isBst(root)"
   ]
  },
  {
   "cell_type": "markdown",
   "metadata": {},
   "source": [
    "## Improved Is BST"
   ]
  },
  {
   "cell_type": "code",
   "execution_count": 14,
   "metadata": {},
   "outputs": [],
   "source": [
    "def isBST2(root):\n",
    "    if root == None:\n",
    "        return 100000, -100000, True\n",
    "    \n",
    "    leftMin, leftMax, isLeftBST = isBST2(root.left)\n",
    "    rightMin, rightMax, isRightBST = isBST2(root.right)\n",
    "    \n",
    "    minimum = min(leftMin, rightMin, root.data)\n",
    "    maximum = max(leftMax, rightMax, root.data)\n",
    "    \n",
    "    isTreeBST = True\n",
    "    if root.data <= leftMax or root.data > rightMin:\n",
    "        isTreeBST = False\n",
    "    if not(isLeftBST) or not(isRightBST):\n",
    "        isTreeBST = False\n",
    "        \n",
    "    return minimum, maximum, isTreeBST    "
   ]
  },
  {
   "cell_type": "code",
   "execution_count": 15,
   "metadata": {},
   "outputs": [
    {
     "name": "stdout",
     "output_type": "stream",
     "text": [
      "40:L 30,R 50\n",
      "30:L 5,R 35\n",
      "5:\n",
      "35:\n",
      "50:R 100\n",
      "100:\n"
     ]
    },
    {
     "data": {
      "text/plain": [
       "(5, 100, True)"
      ]
     },
     "execution_count": 15,
     "metadata": {},
     "output_type": "execute_result"
    }
   ],
   "source": [
    "root = treeInput()\n",
    "printTreeDetailed(root)\n",
    "isBST2(root)"
   ]
  },
  {
   "cell_type": "markdown",
   "metadata": {},
   "source": [
    "## isBST Another Solution"
   ]
  },
  {
   "cell_type": "code",
   "execution_count": null,
   "metadata": {},
   "outputs": [],
   "source": []
  }
 ],
 "metadata": {
  "interpreter": {
   "hash": "ffb0cf131d14546b6573224cf3d27e75f0df2bb31d92400f13c23c2c4abb6933"
  },
  "kernelspec": {
   "display_name": "Python 3.8.5 64-bit ('base': conda)",
   "name": "python3"
  },
  "language_info": {
   "codemirror_mode": {
    "name": "ipython",
    "version": 3
   },
   "file_extension": ".py",
   "mimetype": "text/x-python",
   "name": "python",
   "nbconvert_exporter": "python",
   "pygments_lexer": "ipython3",
   "version": "3.8.5"
  },
  "orig_nbformat": 4
 },
 "nbformat": 4,
 "nbformat_minor": 2
}
