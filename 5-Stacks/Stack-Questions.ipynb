{
 "cells": [
  {
   "cell_type": "markdown",
   "metadata": {},
   "source": [
    "# Stack Questions"
   ]
  },
  {
   "cell_type": "code",
   "execution_count": null,
   "metadata": {},
   "outputs": [],
   "source": [
    "class Node():\n",
    "    def __init__(self,data):\n",
    "        self.data = data\n",
    "        self.next = None\n",
    "        \n",
    "class Stack():\n",
    "    def __init__(self):\n",
    "        self.__head = None\n",
    "        self.__count = 0\n",
    "        \n",
    "    def push(self, ele):\n",
    "        newNode = Node(ele)\n",
    "        newNode.next = self.__head\n",
    "        self.__head = newNode\n",
    "        self.__count += 1\n",
    "        \n",
    "    def pop(self):\n",
    "        if self.isEmpty():\n",
    "            return -1\n",
    "        \n",
    "        data = self.__head.data\n",
    "        self.__head = self.__head.next\n",
    "        self.__count -= 1\n",
    "        return data\n",
    "    \n",
    "    def top(self):\n",
    "        if self.isEmpty():\n",
    "            return -1\n",
    "        \n",
    "        return self.__head.data\n",
    "    \n",
    "    def top(self):\n",
    "        return self.__count\n",
    "    \n",
    "    def isEmpty(self):\n",
    "        return self.size() == 0"
   ]
  },
  {
   "cell_type": "markdown",
   "metadata": {},
   "source": [
    "## Balanced Paranthesis"
   ]
  },
  {
   "cell_type": "code",
   "execution_count": 5,
   "metadata": {},
   "outputs": [
    {
     "name": "stdout",
     "output_type": "stream",
     "text": [
      "False\n"
     ]
    }
   ],
   "source": [
    "def isBalanced(string):\n",
    "    # Using list as a stack\n",
    "    s = []\n",
    "    for char in string:\n",
    "        if char in '({[':\n",
    "            # Pushing we if see any of the brackets\n",
    "            s.append(char)\n",
    "            \n",
    "        elif char in ')':\n",
    "            # If stack is empty or the last element of the stack is '('\n",
    "            if (not s or s[-1] != '(' ):\n",
    "                return False\n",
    "            s.pop()\n",
    "            \n",
    "        elif char in '}':\n",
    "            if (not s or s[-1] != '{' ):\n",
    "                return False\n",
    "            s.pop()\n",
    "            \n",
    "        elif char in ']':\n",
    "            if (not s or s[-1] != '[' ):\n",
    "                return False\n",
    "            s.pop()\n",
    "    \n",
    "    # If stack is empty after iteration then the stack is empty\n",
    "    if (not s):\n",
    "        return True\n",
    "    return False\n",
    "\n",
    "string = input()\n",
    "ans = isBalanced(string)\n",
    "print(ans)"
   ]
  },
  {
   "cell_type": "markdown",
   "metadata": {},
   "source": [
    "## Reverse Stack"
   ]
  },
  {
   "cell_type": "code",
   "execution_count": null,
   "metadata": {},
   "outputs": [],
   "source": [
    "def reverseStack(s1,s2):\n",
    "    \n",
    "    if len(s1<=1):\n",
    "        return\n",
    "    \n",
    "    # First move n-1 ele from s1 to s2\n",
    "    while(len(s1) != 1):\n",
    "        ele = s1.pop()\n",
    "        s2.append(ele)\n",
    "    lastElement = s1.pop()\n",
    "        \n",
    "    # Moving all elements of s2 to s1\n",
    "    while len(s2) != 0:\n",
    "        ele = s2.pop()\n",
    "        s1.append(ele)\n",
    "    \n",
    "    # Reverse the stack of n-1 elements - Recursion\n",
    "    reverseStack(s1,s2)\n",
    "    \n",
    "    # Pushing the last element\n",
    "    s1.append(lastElement) \n",
    "\n",
    "\n",
    "from sys import setrecursionlimit\n",
    "setrecursionlimit(110000)\n",
    "n = int(input())\n",
    "s1 = [int(ele) for ele in input().split()]\n",
    "s2 = []\n",
    "\n",
    "reverseStack(a1,s2)\n",
    "while len(s1) != 0:\n",
    "    print(s1.pop(), end = ' ')"
   ]
  },
  {
   "cell_type": "markdown",
   "metadata": {},
   "source": [
    "## Check Redundant Brackets"
   ]
  },
  {
   "cell_type": "markdown",
   "metadata": {},
   "source": [
    "Check redundant brackets\n",
    "<pre>\n",
    "For a given expression in the form of a string, find if there exist any redundant brackets or not. It is given that the expression contains only rounded brackets or parenthesis and the input expression will always be balanced.\n",
    "A pair of the bracket is said to be redundant when a sub-expression is surrounded by unnecessary or needless brackets.\n",
    "Example:\n",
    "Expression: (a+b)+c\n",
    "Since there are no needless brackets, hence, the output must be 'false'.\n",
    "\n",
    "Expression: ((a+b))\n",
    "The expression can be reduced to (a+b). Hence the expression has redundant brackets and the output will be 'true'.\n",
    "Note:\n",
    "You will not get a partial score for this problem. You will get marks only if all the test cases are passed.\n",
    "Input Format :\n",
    "The first and the only line of input contains a string expression, without any spaces in between.\n",
    "Output Format :\n",
    "The first and the only line of output will print either 'true' or 'false'(without the quotes) denoting whether the input expression contains redundant brackets or not.\n",
    "Note:\n",
    "You are not required to print the expected result. It has already been taken care of.\n",
    "Constraints:\n",
    "0 <= N <= 10^6\n",
    "Where N is the length of the expression.\n",
    "\n",
    "Time Limit: 1 second\n",
    "Sample Input 1:\n",
    "a+(b)+c \n",
    "Sample Output 1:\n",
    "true\n",
    "Explanation:\n",
    "The expression can be reduced to a+b+c. Hence, the brackets are redundant.\n",
    "Sample Input 2:\n",
    "(a+b)\n",
    "Sample Output 2:\n",
    "false\n",
    "</pre>"
   ]
  },
  {
   "cell_type": "code",
   "execution_count": 17,
   "metadata": {},
   "outputs": [
    {
     "name": "stdout",
     "output_type": "stream",
     "text": [
      "True\n"
     ]
    }
   ],
   "source": [
    "def checkRedundantBrackets(expression):\n",
    "    s = []\n",
    "    count = 0\n",
    "    for char in expression:\n",
    "        if char != ')':\n",
    "            s.append(char)\n",
    "        elif not s or char == ')':\n",
    "            while char != ')':\n",
    "                s.pop()\n",
    "                count +=1\n",
    "            if count != 0:\n",
    "                return False\n",
    "            else:\n",
    "                return True\n",
    "        \n",
    "string = input()\n",
    "ans = checkRedundantBrackets(string)\n",
    "print(ans)"
   ]
  },
  {
   "cell_type": "code",
   "execution_count": null,
   "metadata": {},
   "outputs": [],
   "source": [
    "import queue\n",
    "\n",
    "def checkRedundant(string):\n",
    "    if string[0]=='(' and string[2]==')':\n",
    "        return True\n",
    "    q=queue.LifoQueue()\n",
    "    temp=0\n",
    "    l=len(string)\n",
    "    for i in range(l-1):\n",
    "        c=string[i]\n",
    "        n=string[i+1]\n",
    "        if c=='(' and n==')':\n",
    "            return True\n",
    "        elif c=='(' and n=='(':\n",
    "            temp=2\n",
    "        elif c==')' and n==')' and temp==2:\n",
    "            return True\n",
    "    return False\n",
    "    \n",
    "\n",
    "string = input()\n",
    "ans = checkRedundant(string)\n",
    "if ans is True:\n",
    "    print('true')\n",
    "else:\n",
    "    print('false')"
   ]
  },
  {
   "cell_type": "markdown",
   "metadata": {},
   "source": [
    "## Stock Span"
   ]
  },
  {
   "cell_type": "markdown",
   "metadata": {},
   "source": [
    "Stock Span\n",
    "<pre>\n",
    "Afzal has been working with an organization called 'Money Traders' for the past few years. The organization is into the money trading business. His manager assigned him a task. For a given array/list of stock's prices for N days, find the stock's span for each day.\n",
    "The span of the stock's price today is defined as the maximum number of consecutive days(starting from today and going backwards) for which the price of the stock was less than today's price.\n",
    "For example, if the price of a stock over a period of 7 days are [100, 80, 60, 70, 60, 75, 85], then the stock spans will be [1, 1, 1, 2, 1, 4, 6].\n",
    "\n",
    "Explanation:\n",
    "On the sixth day when the price of the stock was 75, the span came out to be 4, because the last 4 prices(including the current price of 75) were less than the current or the sixth day's price.\n",
    "\n",
    "Similarly, we can deduce the remaining results.\n",
    "Afzal has to return an array/list of spans corresponding to each day's stock's price. Help him to achieve the task.\n",
    "\n",
    "Input Format:\n",
    "The first line of input contains an integer N, denoting the total number of days.\n",
    "\n",
    "The second line of input contains the stock prices of each day. A single space will separate them.\n",
    "\n",
    "Output Format:\n",
    "The only line of output will print the span for each day's stock price. A single space will separate them.\n",
    "Note:\n",
    "You are not required to print the expected output explicitly. It has already been taken care of. \n",
    "\n",
    "Constraints:\n",
    "0 <= N <= 10^7\n",
    "1 <= X <= 10^9\n",
    "Where X denotes the stock's price for a day.\n",
    "\n",
    "Time Limit: 1 second\n",
    "Sample Input 1:\n",
    "4\n",
    "10 10 10 10\n",
    "Sample Output 1:\n",
    "1 1 1 1 \n",
    "Sample Input 2:\n",
    "8\n",
    "60 70 80 100 90 75 80 120\n",
    "Sample Output 2:\n",
    "1 2 3 4 1 1 2 8 \n",
    "</pre>"
   ]
  },
  {
   "cell_type": "code",
   "execution_count": null,
   "metadata": {},
   "outputs": [],
   "source": []
  },
  {
   "cell_type": "markdown",
   "metadata": {},
   "source": [
    "## Minimum bracket Reversal"
   ]
  },
  {
   "cell_type": "markdown",
   "metadata": {},
   "source": [
    "Minimum bracket Reversal\n",
    "<pre>\n",
    "For a given expression in the form of a string, find the minimum number of brackets that can be reversed in order to make the expression balanced. The expression will only contain curly brackets.\n",
    "If the expression can't be balanced, return -1.\n",
    "Example:\n",
    "Expression: {{{{\n",
    "If we reverse the second and the fourth opening brackets, the whole expression will get balanced. Since we have to reverse two brackets to make the expression balanced, the expected output will be 2.\n",
    "\n",
    "Expression: {{{\n",
    "In this example, even if we reverse the last opening bracket, we would be left with the first opening bracket and hence will not be able to make the expression balanced and the output will be -1.\n",
    "Input Format :\n",
    "The first and the only line of input contains a string expression, without any spaces in between.\n",
    "Output Format :\n",
    "The only line of output will print the number of reversals required to balance the whole expression. Prints -1, otherwise.\n",
    "Note:\n",
    "You don't have to print anything. It has already been taken care of.\n",
    "Constraints:\n",
    "0 <= N <= 10^6\n",
    "Where N is the length of the expression.\n",
    "\n",
    "Time Limit: 1sec\n",
    "Sample Input 1:\n",
    "{{{\n",
    "Sample Output 1:\n",
    "-1\n",
    "Sample Input 2:\n",
    "{{{{}}\n",
    "Sample Output 2:\n",
    "1\n",
    "</pre>"
   ]
  }
 ],
 "metadata": {
  "interpreter": {
   "hash": "5f64f01a6cdb813bd23f3c2980301e513b65108ef9650403b1a46775be8a9390"
  },
  "kernelspec": {
   "display_name": "Python 3.8.8 64-bit ('base': conda)",
   "name": "python3"
  },
  "language_info": {
   "codemirror_mode": {
    "name": "ipython",
    "version": 3
   },
   "file_extension": ".py",
   "mimetype": "text/x-python",
   "name": "python",
   "nbconvert_exporter": "python",
   "pygments_lexer": "ipython3",
   "version": "3.8.8"
  },
  "orig_nbformat": 4
 },
 "nbformat": 4,
 "nbformat_minor": 2
}
