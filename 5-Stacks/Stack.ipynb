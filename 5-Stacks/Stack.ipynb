{
 "cells": [
  {
   "cell_type": "markdown",
   "source": [
    "# Stack"
   ],
   "metadata": {}
  },
  {
   "cell_type": "markdown",
   "source": [
    "## Stack Using an Array"
   ],
   "metadata": {}
  },
  {
   "cell_type": "code",
   "execution_count": 9,
   "source": [
    "class arrStack():\n",
    "    def __init__(self):\n",
    "        # Private variable\n",
    "        self.__data = []\n",
    "    \n",
    "    def push(self, item):\n",
    "        self.__data.append(item)\n",
    "        \n",
    "    def pop(self):\n",
    "        # Checking if stack is empty\n",
    "        if self.isEmpty():\n",
    "            pirnt('Stack is Empty!')\n",
    "            return\n",
    "        \n",
    "        # Returning the element which has been popped\n",
    "        return self.__data.pop()\n",
    "        \n",
    "    def top(self):\n",
    "        # Checking if stack is empty\n",
    "        if self.isEmpty():\n",
    "            print('Stack is Empty!')\n",
    "            return\n",
    "        \n",
    "        # Returning the last element of the array\n",
    "        return self.__data[len(self.__data) - 1]\n",
    "            \n",
    "    def size(self):\n",
    "        return len(self.__data)\n",
    "    \n",
    "    def isEmpty(self):\n",
    "        return self.size() == 0"
   ],
   "outputs": [],
   "metadata": {}
  },
  {
   "cell_type": "code",
   "execution_count": 11,
   "source": [
    "s = arrStack()\n",
    "s.push(12)\n",
    "s.push(13)\n",
    "s.push(15)\n",
    "\n",
    "while s.isEmpty() is False:\n",
    "    print(s.pop())\n",
    "    \n",
    "s.top()"
   ],
   "outputs": [
    {
     "output_type": "stream",
     "name": "stdout",
     "text": [
      "15\n",
      "13\n",
      "12\n",
      "Stack is Empty!\n"
     ]
    }
   ],
   "metadata": {}
  },
  {
   "cell_type": "markdown",
   "source": [
    "## Stack Using Linked List"
   ],
   "metadata": {}
  },
  {
   "cell_type": "code",
   "execution_count": 38,
   "source": [
    "class Node:\n",
    "    def __init__(self,data):\n",
    "        self.data = data\n",
    "        self.next = None\n",
    "\n",
    "class llStack():\n",
    "    def __init__(self):\n",
    "        self.__head = None\n",
    "        self.__count = 0\n",
    "    \n",
    "    def push(self, ele):\n",
    "        newNode = Node(ele)\n",
    "        newNode.next = self.__head\n",
    "        self.__head = newNode\n",
    "        self.__count += 1\n",
    "        \n",
    "    def pop(self):  \n",
    "        if self.isEmpty is True:\n",
    "            print('Stack is Empty!')\n",
    "            return\n",
    "        data =  self.__head.data\n",
    "        self.__head = self.__head.next\n",
    "        self.__count -= 1\n",
    "        return data\n",
    "    \n",
    "    def top(self):\n",
    "        if self.isEmpty() is True:\n",
    "            print('Stack is Empty!')\n",
    "            return\n",
    "        data =  self.__head.data\n",
    "        return data\n",
    "           \n",
    "    def size(self):   \n",
    "        return self.__count\n",
    "    \n",
    "    def isEmpty(self):   \n",
    "        return self.size() == 0\n",
    "        "
   ],
   "outputs": [],
   "metadata": {}
  },
  {
   "cell_type": "code",
   "execution_count": 41,
   "source": [
    "s = llStack()\n",
    "\n",
    "s.push(12)\n",
    "s.push(13)\n",
    "s.push(15)\n",
    "\n",
    "while s.isEmpty() is False:\n",
    "    print(s.pop())\n",
    "\n",
    "s.top()\n"
   ],
   "outputs": [
    {
     "output_type": "stream",
     "name": "stdout",
     "text": [
      "15\n",
      "13\n",
      "12\n"
     ]
    },
    {
     "output_type": "execute_result",
     "data": {
      "text/plain": [
       "111"
      ]
     },
     "metadata": {},
     "execution_count": 41
    }
   ],
   "metadata": {}
  }
 ],
 "metadata": {
  "orig_nbformat": 4,
  "language_info": {
   "name": "python",
   "version": "3.8.5",
   "mimetype": "text/x-python",
   "codemirror_mode": {
    "name": "ipython",
    "version": 3
   },
   "pygments_lexer": "ipython3",
   "nbconvert_exporter": "python",
   "file_extension": ".py"
  },
  "kernelspec": {
   "name": "python3",
   "display_name": "Python 3.8.5 64-bit ('base': conda)"
  },
  "interpreter": {
   "hash": "ffb0cf131d14546b6573224cf3d27e75f0df2bb31d92400f13c23c2c4abb6933"
  }
 },
 "nbformat": 4,
 "nbformat_minor": 2
}