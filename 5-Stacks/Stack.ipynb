{
 "cells": [
  {
   "cell_type": "markdown",
   "metadata": {},
   "source": [
    "# Stack"
   ]
  },
  {
   "cell_type": "markdown",
   "metadata": {},
   "source": [
    "## Stack Using an Array"
   ]
  },
  {
   "cell_type": "code",
   "execution_count": 9,
   "metadata": {},
   "outputs": [],
   "source": [
    "class arrStack():\n",
    "    def __init__(self):\n",
    "        # Private variable\n",
    "        self.__data = []\n",
    "    \n",
    "    def push(self, item):\n",
    "        self.__data.append(item)\n",
    "        \n",
    "    def pop(self):\n",
    "        # Checking if stack is empty\n",
    "        if self.isEmpty():\n",
    "            print('Stack is Empty!')\n",
    "            return\n",
    "        \n",
    "        # Returning the element which has been popped\n",
    "        return self.__data.pop()\n",
    "        \n",
    "    def top(self):\n",
    "        # Checking if stack is empty\n",
    "        if self.isEmpty():\n",
    "            print('Stack is Empty!')\n",
    "            return\n",
    "        \n",
    "        # Returning the last element of the array\n",
    "        return self.__data[len(self.__data) - 1]\n",
    "            \n",
    "    def size(self):\n",
    "        return len(self.__data)\n",
    "    \n",
    "    def isEmpty(self):\n",
    "        return self.size() == 0"
   ]
  },
  {
   "cell_type": "code",
   "execution_count": 11,
   "metadata": {},
   "outputs": [
    {
     "name": "stdout",
     "output_type": "stream",
     "text": [
      "15\n",
      "13\n",
      "12\n",
      "Stack is Empty!\n"
     ]
    }
   ],
   "source": [
    "s = arrStack()\n",
    "s.push(12)\n",
    "s.push(13)\n",
    "s.push(15)\n",
    "\n",
    "while s.isEmpty() is False:\n",
    "    print(s.pop())\n",
    "    \n",
    "s.top()"
   ]
  },
  {
   "cell_type": "markdown",
   "metadata": {},
   "source": [
    "## Stack Using Linked List"
   ]
  },
  {
   "cell_type": "code",
   "execution_count": 38,
   "metadata": {},
   "outputs": [],
   "source": [
    "class Node:\n",
    "    def __init__(self,data):\n",
    "        self.data = data\n",
    "        self.next = None\n",
    "\n",
    "class llStack():\n",
    "    def __init__(self):\n",
    "        self.__head = None\n",
    "        self.__count = 0\n",
    "    \n",
    "    def push(self, ele):\n",
    "        newNode = Node(ele)\n",
    "        newNode.next = self.__head\n",
    "        self.__head = newNode\n",
    "        self.__count += 1\n",
    "        \n",
    "    def pop(self):  \n",
    "        if self.isEmpty is True:\n",
    "            print('Stack is Empty!')\n",
    "            return\n",
    "        data =  self.__head.data\n",
    "        self.__head = self.__head.next\n",
    "        self.__count -= 1\n",
    "        return data\n",
    "    \n",
    "    def top(self):\n",
    "        if self.isEmpty() is True:\n",
    "            print('Stack is Empty!')\n",
    "            return\n",
    "        data =  self.__head.data\n",
    "        return data\n",
    "           \n",
    "    def size(self):   \n",
    "        return self.__count\n",
    "    \n",
    "    def isEmpty(self):   \n",
    "        return self.size() == 0\n",
    "        "
   ]
  },
  {
   "cell_type": "code",
   "execution_count": 42,
   "metadata": {},
   "outputs": [
    {
     "name": "stdout",
     "output_type": "stream",
     "text": [
      "15\n",
      "13\n",
      "12\n",
      "Stack is Empty!\n"
     ]
    }
   ],
   "source": [
    "s = llStack()\n",
    "\n",
    "s.push(12)\n",
    "s.push(13)\n",
    "s.push(15)\n",
    "\n",
    "while s.isEmpty() is False:\n",
    "    print(s.pop())\n",
    "\n",
    "s.top()\n"
   ]
  },
  {
   "cell_type": "markdown",
   "metadata": {},
   "source": [
    "## Inbuilt Stack"
   ]
  },
  {
   "cell_type": "code",
   "execution_count": 43,
   "metadata": {},
   "outputs": [
    {
     "name": "stdout",
     "output_type": "stream",
     "text": [
      "5\n",
      "4\n"
     ]
    }
   ],
   "source": [
    "# We can use list as inbuilt stacks\n",
    "s = [1,2,3]\n",
    "s.append(4)\n",
    "s.append(5)\n",
    "\n",
    "print(s.pop())\n",
    "print(s.pop())\n"
   ]
  },
  {
   "cell_type": "code",
   "execution_count": 45,
   "metadata": {},
   "outputs": [
    {
     "name": "stdout",
     "output_type": "stream",
     "text": [
      "4\n",
      "3\n",
      "2\n",
      "1\n"
     ]
    }
   ],
   "source": [
    "# We can use the inbuilt que library which has the class LifoQueue which is basically the stack\n",
    "import queue\n",
    "q = queue.LifoQueue()\n",
    "q.put(1)\n",
    "q.put(2)\n",
    "q.put(3)\n",
    "q.put(4)\n",
    "\n",
    "while not q.empty():\n",
    "    print(q.get())"
   ]
  },
  {
   "cell_type": "markdown",
   "metadata": {},
   "source": [
    "## Inbuilt Queue"
   ]
  },
  {
   "cell_type": "code",
   "execution_count": 44,
   "metadata": {},
   "outputs": [
    {
     "name": "stdout",
     "output_type": "stream",
     "text": [
      "1\n",
      "2\n",
      "3\n",
      "4\n"
     ]
    }
   ],
   "source": [
    "# We will use the inbuilt queue library\n",
    "import queue\n",
    "q = queue.Queue() # Inside this library we have a queue class\n",
    "q.put(1)\n",
    "q.put(2)\n",
    "q.put(3)\n",
    "q.put(4)\n",
    "\n",
    "while not q.empty():\n",
    "    print(q.get())\n",
    "# So it is following FIFO"
   ]
  }
 ],
 "metadata": {
  "interpreter": {
   "hash": "ffb0cf131d14546b6573224cf3d27e75f0df2bb31d92400f13c23c2c4abb6933"
  },
  "kernelspec": {
   "display_name": "Python 3.8.5 64-bit ('base': conda)",
   "name": "python3"
  },
  "language_info": {
   "codemirror_mode": {
    "name": "ipython",
    "version": 3
   },
   "file_extension": ".py",
   "mimetype": "text/x-python",
   "name": "python",
   "nbconvert_exporter": "python",
   "pygments_lexer": "ipython3",
   "version": "3.8.5"
  },
  "orig_nbformat": 4
 },
 "nbformat": 4,
 "nbformat_minor": 2
}
