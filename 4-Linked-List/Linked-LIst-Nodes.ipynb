{
 "cells": [
  {
   "cell_type": "markdown",
   "source": [
    "# Linked List"
   ],
   "metadata": {}
  },
  {
   "cell_type": "markdown",
   "source": [
    "## Node in a LInked List"
   ],
   "metadata": {}
  },
  {
   "cell_type": "code",
   "execution_count": 3,
   "source": [
    "class Node:\r\n",
    "    # data is stores the value of the node. By default we will store the next to be none (next is the refrence/address to the next node, if the node is present)\r\n",
    "    def __init__(self, data):\r\n",
    "        self.data = data\r\n",
    "        self.next = None\r\n",
    "        \r\n",
    "    \r\n",
    "a = Node(13)\r\n",
    "b = Node(15)\r\n",
    "a.next = b\r\n",
    "print(a.data)\r\n",
    "print(b.data)\r\n",
    "print(a.next.data)\r\n",
    "\r\n",
    "print(a)\r\n",
    "print(a.next)\r\n",
    "print(b)\r\n",
    "# As we can see the a.next and b have the same location"
   ],
   "outputs": [
    {
     "output_type": "stream",
     "name": "stdout",
     "text": [
      "13\n",
      "15\n",
      "15\n",
      "<__main__.Node object at 0x000001ED10AD8E20>\n",
      "<__main__.Node object at 0x000001ED10AD8E50>\n",
      "<__main__.Node object at 0x000001ED10AD8E50>\n"
     ]
    }
   ],
   "metadata": {}
  },
  {
   "cell_type": "markdown",
   "source": [
    "## Constructing a Linked list\r\n"
   ],
   "metadata": {}
  },
  {
   "cell_type": "markdown",
   "source": [
    "Specifications of Input  \r\n",
    "So we would like to take the input of the user for the linked list and we would like to print it.     \r\n",
    "We would like to take the input of the user in a specific order (space seperated input). If it is the end of the linked list then it should have -1\r\n",
    "\r\n",
    "Now the input have a string input of numbers. We will use the split function and use the delimiter as space. This will create a list of char,   \r\n",
    "we will convert them into integers using the concept of list comprihension"
   ],
   "metadata": {}
  },
  {
   "cell_type": "code",
   "execution_count": null,
   "source": [
    "class Node:\r\n",
    "    def __init__(self, data):\r\n",
    "        self.data = data\r\n",
    "        self.next = None\r\n",
    "        \r\n",
    "def takeInput():\r\n",
    "       # The motive of this part will be to get the head of the linked list.\r\n",
    "       # for ele in input().split() will take the string input and using the space delimiter will split it, so as to have the defferent char in a list.\r\n",
    "       # int(ele) is a list comprehention technoque in which we are able to convert the above mentiond list elemnts into integers from char.\r\n",
    "    inputList = [int(ele) for ele in input().split()] # This will contain a list of elements we have to make the linked list out of and will have -1 at the end to signify termination\r\n",
    "    \r\n",
    "    # We have to identify the head of the Linked List, which is basically the first element of the Linked List.\r\n",
    "    # In case the first element of the linked list is -1 the there is no head and hence no Linked List\r\n",
    "    head = None\r\n",
    "    \r\n",
    "    # Iterating in the list, using the pointer as currData\r\n",
    "    for currData in inputList:\r\n",
    "        # Termination Condition\r\n",
    "        if currData == -1:\r\n",
    "            break\r\n",
    "        \r\n",
    "        # Here Just nodes will be created, no connections will be made\r\n",
    "        newNode = Node(currData) # using the Node class we have created. \r\n",
    "        # We did not give the first element to be the head as it is beacuse the first element could have been -1, which is termination\r\n",
    "        if head is None:\r\n",
    "            head = newNode\r\n",
    "        # Now while makeing connections we will not move head as we need it to stay at the first locatoin, so we will use another pointer 'curr'\r\n",
    "        else:\r\n",
    "            # Adding another elemnt to the Linked List\r\n",
    "            curr = head\r\n",
    "            # Traversing to the end of LL\r\n",
    "            while curr.next is not None:\r\n",
    "                # increasing the counter\r\n",
    "                curr = curr.next\r\n",
    "            # Connection from last node of LL to new node\r\n",
    "            curr.next = newNode\r\n",
    "    return head\r\n",
    "   \r\n",
    "head = takeInput()    \r\n"
   ],
   "outputs": [],
   "metadata": {}
  },
  {
   "cell_type": "code",
   "execution_count": null,
   "source": [
    "class Node:\r\n",
    "    def __init__(self, data):\r\n",
    "        self.data = data\r\n",
    "        self.next = None\r\n",
    "        \r\n",
    "def takeInput():\r\n",
    "    inputList = [int(ele) for ele in input.split()]\r\n",
    "    head = None\r\n",
    "    \r\n",
    "    for currData in inputList:\r\n",
    "        if currData == -1:\r\n",
    "            break\r\n",
    "        \r\n",
    "        newNode = Node(currData)\r\n",
    "        if head is None:\r\n",
    "            head = newNode\r\n",
    "        else:\r\n",
    "            curr = head\r\n",
    "            while curr.next is not None:\r\n",
    "                curr = curr.next\r\n",
    "            curr.next = newNode\r\n",
    "    return head\r\n",
    "\r\n",
    "head = takeInput()"
   ],
   "outputs": [],
   "metadata": {}
  }
 ],
 "metadata": {
  "orig_nbformat": 4,
  "language_info": {
   "name": "python",
   "version": "3.8.8",
   "mimetype": "text/x-python",
   "codemirror_mode": {
    "name": "ipython",
    "version": 3
   },
   "pygments_lexer": "ipython3",
   "nbconvert_exporter": "python",
   "file_extension": ".py"
  },
  "kernelspec": {
   "name": "python3",
   "display_name": "Python 3.8.8 64-bit ('base': conda)"
  },
  "interpreter": {
   "hash": "5f64f01a6cdb813bd23f3c2980301e513b65108ef9650403b1a46775be8a9390"
  }
 },
 "nbformat": 4,
 "nbformat_minor": 2
}