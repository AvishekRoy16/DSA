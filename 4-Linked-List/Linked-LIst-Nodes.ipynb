{
 "cells": [
  {
   "cell_type": "markdown",
   "source": [
    "# Linked List"
   ],
   "metadata": {}
  },
  {
   "cell_type": "markdown",
   "source": [
    "## Node in a LInked List"
   ],
   "metadata": {}
  },
  {
   "cell_type": "code",
   "execution_count": 1,
   "source": [
    "class Node:\r\n",
    "    # data is stores the value of the node. By default we will store the next to be none (next is the refrence/address to the next node, if the node is present)\r\n",
    "    def __init__(self, data):\r\n",
    "        self.data = data\r\n",
    "        self.next = None\r\n",
    "        \r\n",
    "    \r\n",
    "a = Node(13)\r\n",
    "b = Node(15)\r\n",
    "a.next = b\r\n",
    "print(a.data)\r\n",
    "print(b.data)\r\n",
    "print(a.next.data)\r\n",
    "\r\n",
    "print(a)\r\n",
    "print(a.next)\r\n",
    "print(b)\r\n",
    "# As we can see the a.next and b have the same location"
   ],
   "outputs": [
    {
     "output_type": "stream",
     "name": "stdout",
     "text": [
      "13\n",
      "15\n",
      "15\n",
      "<__main__.Node object at 0x0000028FDF266670>\n",
      "<__main__.Node object at 0x0000028FDF2666D0>\n",
      "<__main__.Node object at 0x0000028FDF2666D0>\n"
     ]
    }
   ],
   "metadata": {}
  },
  {
   "cell_type": "markdown",
   "source": [
    "## Constructing a Linked List [ Taking Input ]"
   ],
   "metadata": {}
  },
  {
   "cell_type": "markdown",
   "source": [
    "Specifications of Input  \r\n",
    "So we would like to take the input of the user for the linked list and we would like to print it.     \r\n",
    "We would like to take the input of the user in a specific order (space seperated input). If it is the end of the linked list then it should have -1\r\n",
    "\r\n",
    "Now the input have a string input of numbers. We will use the split function and use the delimiter as space. This will create a list of char,   \r\n",
    "we will convert them into integers using the concept of list comprihension"
   ],
   "metadata": {}
  },
  {
   "cell_type": "code",
   "execution_count": 6,
   "source": [
    "class Node:\r\n",
    "    def __init__(self, data):\r\n",
    "        self.data = data\r\n",
    "        self.next = None\r\n",
    "        \r\n",
    "def takeInput():\r\n",
    "       # The motive of this part will be to get the head of the linked list.\r\n",
    "       # for ele in input().split() will take the string input and using the space delimiter will split it, so as to have the defferent char in a list.\r\n",
    "       # int(ele) is a list comprehention technoque in which we are able to convert the above mentiond list elemnts into integers from char.\r\n",
    "    inputList = [int(ele) for ele in input().split()] # This will contain a list of elements we have to make the linked list out of and will have -1 at the end to signify termination\r\n",
    "    \r\n",
    "    # We have to identify the head of the Linked List, which is basically the first element of the Linked List.\r\n",
    "    # In case the first element of the linked list is -1 the there is no head and hence no Linked List\r\n",
    "    head = None\r\n",
    "    \r\n",
    "    # Iterating in the list, using the pointer as currData\r\n",
    "    for currData in inputList:\r\n",
    "        # Termination Condition\r\n",
    "        if currData == -1:\r\n",
    "            break\r\n",
    "        \r\n",
    "        # Here Just nodes will be created, no connections will be made\r\n",
    "        newNode = Node(currData) # using the Node class we have created. \r\n",
    "        # We did not give the first element to be the head as it is beacuse the first element could have been -1, which is termination\r\n",
    "        if head is None:\r\n",
    "            head = newNode\r\n",
    "        # Now while makeing connections we will not move head as we need it to stay at the first locatoin, so we will use another pointer 'curr'\r\n",
    "        else:\r\n",
    "            # Adding another elemnt to the Linked List\r\n",
    "            curr = head\r\n",
    "            # Traversing to the end of LL\r\n",
    "            while curr.next is not None:\r\n",
    "                # increasing the counter\r\n",
    "                curr = curr.next\r\n",
    "            # Connection from last node of LL to new node\r\n",
    "            curr.next = newNode\r\n",
    "    return head\r\n",
    "   \r\n",
    "head = takeInput()    \r\n"
   ],
   "outputs": [],
   "metadata": {}
  },
  {
   "cell_type": "markdown",
   "source": [
    "## Printing a Linked List [ T -> O(n^2) ]"
   ],
   "metadata": {}
  },
  {
   "cell_type": "code",
   "execution_count": 5,
   "source": [
    "# Input Time Complexity O(n^2)\r\n",
    "class Node:\r\n",
    "    def __init__(self, data):\r\n",
    "        self.data = data\r\n",
    "        self.next = None\r\n",
    "\r\n",
    "def printLL(head):\r\n",
    "    while head is not None:\r\n",
    "        # We are converting it to str because\r\n",
    "        print(str(head.data) + '->', end = '')\r\n",
    "        head = head.next\r\n",
    "    print('None')\r\n",
    "    return \r\n",
    "\r\n",
    "def takeInput():\r\n",
    "    inputList = [int(ele) for ele in input().split()]\r\n",
    "    head = None\r\n",
    "    \r\n",
    "    for currData in inputList:\r\n",
    "        if currData == -1:\r\n",
    "            break\r\n",
    "        \r\n",
    "        newNode = Node(currData)\r\n",
    "        if head is None:\r\n",
    "            head = newNode\r\n",
    "        else:\r\n",
    "            curr = head\r\n",
    "            while curr.next is not None:\r\n",
    "                curr = curr.next\r\n",
    "            curr.next = newNode\r\n",
    "    return head\r\n",
    "\r\n",
    "head = takeInput()\r\n",
    "printLL(head)\r\n",
    "# We can print multiple linked list even tho at the end of linked list is becoming none,\r\n",
    "# because wehnever the function is called the head ref is coppied and wehn we make it again the original head reamins unchanged\r\n",
    "printLL(head)"
   ],
   "outputs": [
    {
     "output_type": "stream",
     "name": "stdout",
     "text": [
      "1->2->3->4->5->None\n",
      "1->2->3->4->5->None\n"
     ]
    }
   ],
   "metadata": {}
  },
  {
   "cell_type": "markdown",
   "source": [
    "## Improving Time Complexity - [ T -> O(n) ]"
   ],
   "metadata": {}
  },
  {
   "cell_type": "code",
   "execution_count": 2,
   "source": [
    "# Input Time Complexity O(n)\r\n",
    "class Node:\r\n",
    "    def __init__(self, data):\r\n",
    "        self.data = data\r\n",
    "        self.next = None\r\n",
    "\r\n",
    "def printLL(head):\r\n",
    "    while head is not None:\r\n",
    "        # We are converting it to str because\r\n",
    "        print(str(head.data) + '->', end = '')\r\n",
    "        head = head.next\r\n",
    "    print('None')\r\n",
    "    return \r\n",
    "\r\n",
    "def takeInput():\r\n",
    "    inputList = [int(ele) for ele in input().split()]\r\n",
    "    head = None\r\n",
    "    tail = None\r\n",
    "    \r\n",
    "    for currData in inputList:\r\n",
    "        if currData == -1:\r\n",
    "            break\r\n",
    "        \r\n",
    "        newNode = Node(currData)\r\n",
    "        if head is None:\r\n",
    "            head = newNode\r\n",
    "            tail = newNode # For a single element head and tail point to the same node, as more elements are added we can move the position of the tail \r\n",
    "        else:\r\n",
    "            tail.next = newNode # Making the connection of the newNode\r\n",
    "            tail = newNode  # placing the tail pointer to the newNode (As we want it to point to the last node)\r\n",
    "            \r\n",
    "    return head\r\n",
    "\r\n",
    "head = takeInput()\r\n",
    "printLL(head)"
   ],
   "outputs": [
    {
     "output_type": "stream",
     "name": "stdout",
     "text": [
      "1->2->3->4->5->6->None\n"
     ]
    }
   ],
   "metadata": {}
  },
  {
   "cell_type": "markdown",
   "source": [
    "## Predict Question"
   ],
   "metadata": {}
  },
  {
   "cell_type": "code",
   "execution_count": 3,
   "source": [
    "class Node:\r\n",
    "    def __init__(self, data):\r\n",
    "        self.data = data\r\n",
    "        self.next = None\r\n",
    "\r\n",
    "def printLL(head):\r\n",
    "    while head is not None:\r\n",
    "        # We are converting it to str because\r\n",
    "        print(str(head.data) + '->', end = '')\r\n",
    "        head = head.next\r\n",
    "    print('None')\r\n",
    "    return \r\n",
    "\r\n",
    "def increment(head):\r\n",
    "    temp = head\r\n",
    "    while temp is not None:\r\n",
    "        temp.data += 1\r\n",
    "        temp = temp.next\r\n",
    "    \r\n",
    "node1 = Node(10)\r\n",
    "node2 = Node(20)\r\n",
    "node1.next = node2\r\n",
    "increment(node1)\r\n",
    "printLL(node1)"
   ],
   "outputs": [
    {
     "output_type": "stream",
     "name": "stdout",
     "text": [
      "11->21->None\n"
     ]
    }
   ],
   "metadata": {}
  },
  {
   "cell_type": "markdown",
   "source": [
    "## Length of a Linked List"
   ],
   "metadata": {}
  },
  {
   "cell_type": "markdown",
   "source": [
    "Length of LL\r\n",
    "<pre>\r\n",
    "For a given singly linked list of integers, find and return its length. Do it using an iterative method.\r\n",
    "Input format :\r\n",
    "The first line contains an Integer 't' which denotes the number of test cases or queries to be run. Then the test cases follow.\r\n",
    "\r\n",
    "First and the only line of each test case or query contains elements of the singly linked list separated by a single space. \r\n",
    " Remember/Consider :\r\n",
    "While specifying the list elements for input, -1 indicates the end of the singly linked list and hence, would never be a list element.\r\n",
    "Output format :\r\n",
    "For each test case, print the length of the linked list.\r\n",
    "\r\n",
    "Output for every test case will be printed in a separate line.\r\n",
    " Constraints :\r\n",
    "1 <= t <= 10^2\r\n",
    "0 <= N <= 10^5\r\n",
    "Time Limit: 1 sec\r\n",
    "Sample Input 1 :\r\n",
    "1\r\n",
    "3 4 5 2 6 1 9 -1\r\n",
    "Sample Output 1 :\r\n",
    "7\r\n",
    "Sample Input 2 :\r\n",
    "2\r\n",
    "10 76 39 -3 2 9 -23 9 -1\r\n",
    "-1\r\n",
    "Sample Output 2 :\r\n",
    "8\r\n",
    "0\r\n",
    "\r\n",
    "</pre>"
   ],
   "metadata": {}
  }
 ],
 "metadata": {
  "orig_nbformat": 4,
  "language_info": {
   "name": "python",
   "version": "3.8.8",
   "mimetype": "text/x-python",
   "codemirror_mode": {
    "name": "ipython",
    "version": 3
   },
   "pygments_lexer": "ipython3",
   "nbconvert_exporter": "python",
   "file_extension": ".py"
  },
  "kernelspec": {
   "name": "python3",
   "display_name": "Python 3.8.8 64-bit"
  },
  "interpreter": {
   "hash": "5f64f01a6cdb813bd23f3c2980301e513b65108ef9650403b1a46775be8a9390"
  }
 },
 "nbformat": 4,
 "nbformat_minor": 2
}